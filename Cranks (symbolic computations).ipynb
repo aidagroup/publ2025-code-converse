{
  "nbformat": 4,
  "nbformat_minor": 0,
  "metadata": {
    "colab": {
      "provenance": [],
      "gpuType": "T4",
      "collapsed_sections": [
        "frFAJyqwvCVZ",
        "iIq7aip61Bjs",
        "9M7UdTCZ-A7e",
        "S6rvXDUx-F5H",
        "LnUOVf9qBVha",
        "Mrcj2ZfnDHC8",
        "xouW1GgHDgdw",
        "ew7PlCrEDo-D",
        "u4kGPW9vHtRF",
        "v8Lk6r3vyt7C",
        "1sZlRmiEs_Wz",
        "9zbOVsWEw5-9",
        "fnToidlHxBGi",
        "6eHRQFAIxMa9",
        "uPXSXHPrxXkV",
        "PwaMkcjIzO-U",
        "IkASydn4yIDy",
        "oFRifALgyQo2",
        "HaIbOzDAzKaY",
        "fNy3llCgzp2j",
        "kikUNSw-0Moq",
        "P8yaP3ON0m-q",
        "nINj3Jl_1Fj6"
      ]
    },
    "kernelspec": {
      "name": "python3",
      "display_name": "Python 3"
    },
    "language_info": {
      "name": "python"
    }
  },
  "cells": [
    {
      "cell_type": "markdown",
      "source": [
        "# Preliminaries\n",
        "(Installations, imports, definitions. Reading this is not necessary.)"
      ],
      "metadata": {
        "id": "frFAJyqwvCVZ"
      }
    },
    {
      "cell_type": "code",
      "source": [
        "!pip install z3-solver"
      ],
      "metadata": {
        "id": "-Y_p8T0DtQp3",
        "colab": {
          "base_uri": "https://localhost:8080/"
        },
        "outputId": "03e8cc8d-b878-4bba-fd1c-dd081df9d967"
      },
      "execution_count": 122,
      "outputs": [
        {
          "output_type": "stream",
          "name": "stdout",
          "text": [
            "Requirement already satisfied: z3-solver in /usr/local/lib/python3.11/dist-packages (4.15.0.0)\n"
          ]
        }
      ]
    },
    {
      "cell_type": "code",
      "source": [
        "import sympy as sp\n",
        "from IPython.display import display\n",
        "\n",
        "\n",
        "x, y, u = sp.symbols('x y u')\n",
        "gamma, gamma_dot, a = sp.symbols('\\\\gamma \\dot{\\\\gamma} a')\n",
        "alpha, beta, delta, e, p, q  = sp.symbols('\\\\alpha \\\\beta \\\\delta e p q')\n",
        "\n",
        "\n",
        "def lie(field, F):\n",
        "    vars = sorted(list(filter(lambda s: 'gamma' in s.name, F.free_symbols)),\n",
        "                  key=lambda s: s.name)\n",
        "    ys, xs = vars[:len(vars)//2], vars[len(vars)//2:]\n",
        "    #display(xs)\n",
        "    #display(ys)\n",
        "    vars = [val for pair in zip(xs, ys) for val in pair]\n",
        "    # print(vars)\n",
        "    return (sp.Matrix([F]).jacobian(vars) @ field)\n",
        "\n",
        "def fc_from_VGH(V, G, H, a=sp.Matrix([a])):\n",
        "    f = sp.Rational(1, 4) * G @ lie(G, V).T - H\n",
        "    c = lie(H, V)[0] + (a.T @ a)[0]\n",
        "    return f, c.simplify().collect([y])\n",
        "\n",
        "def peq(var, rhss):\n",
        "    \"\"\"pretty prints expresions of the kind $A = F(X, Y, Z)$\"\"\"\n",
        "    if not isinstance(var, list):\n",
        "        var = var.split()\n",
        "    var_symbs = sp.symbols(\" \".join(var))\n",
        "    if len(var) == 1:\n",
        "        var_symbs = [var_symbs]\n",
        "        rhss = [rhss]\n",
        "    for var_symb, rhs in zip(var_symbs, rhss):\n",
        "        with sp.evaluate(False):\n",
        "            display(sp.Eq(var_symb, rhs))\n",
        "\n",
        "# assumes we're dealing with \"concatenated cranks\"\n",
        "def print_problem(V, f, g, c, a=sp.Matrix([a])):\n",
        "    peq('V', V)\n",
        "    if not len(f) == 2:\n",
        "        peq(\" \".join([f'\\\\frac{{d}}{{dt}}{{\\\\gamma}}_{{{i}}} \\\\frac{{d}}{{dt}}\\\\dot{{\\\\gamma}}_{{{i}}}' for i in range(len(f) // 2)]), f + g @ a)\n",
        "    else:\n",
        "        peq(\"\\\\frac{d}{dt}\\\\gamma \\\\frac{d}{dt}\\\\dot{\\\\gamma}\", f + g @ a)\n",
        "    peq('c', c)\n",
        "\n",
        "import sympy as sp\n",
        "import z3\n",
        "from typing import List, Dict, Tuple, Union, Optional\n",
        "\n",
        "def sympy_to_z3(expr, variables_map: Dict[str, z3.ArithRef] = None) -> z3.ExprRef:\n",
        "    \"\"\"\n",
        "    Convert a sympy expression to a Z3 expression.\n",
        "\n",
        "    Args:\n",
        "        expr: A sympy expression\n",
        "        variables_map: A dictionary mapping sympy variable names to Z3 variables\n",
        "\n",
        "    Returns:\n",
        "        The equivalent Z3 expression\n",
        "    \"\"\"\n",
        "    if variables_map is None:\n",
        "        variables_map = {}\n",
        "\n",
        "    # Handle constants\n",
        "    if expr.is_number:\n",
        "        return z3.RealVal(float(expr))\n",
        "\n",
        "    # Handle symbols (variables)\n",
        "    if expr.is_Symbol:\n",
        "        var_name = expr.name\n",
        "        if var_name not in variables_map:\n",
        "            variables_map[var_name] = z3.Real(var_name.replace('\\\\', ''))\n",
        "        return variables_map[var_name]\n",
        "\n",
        "    # Handle addition\n",
        "    if expr.is_Add:\n",
        "        result = z3.RealVal(0)\n",
        "        for arg in expr.args:\n",
        "            result = result + sympy_to_z3(arg, variables_map)\n",
        "        return result\n",
        "\n",
        "    # Handle multiplication\n",
        "    if expr.is_Mul:\n",
        "        result = z3.RealVal(1)\n",
        "        for arg in expr.args:\n",
        "            result = result * sympy_to_z3(arg, variables_map)\n",
        "        return result\n",
        "\n",
        "    # Handle power\n",
        "    if expr.is_Pow:\n",
        "        base = sympy_to_z3(expr.base, variables_map)\n",
        "        exp = expr.exp\n",
        "\n",
        "        # Only handle integer exponents for simplicity\n",
        "        if exp.is_Integer:\n",
        "            exp_val = int(exp)\n",
        "            return base ** exp_val\n",
        "        elif isinstance(exp, sp.Rational):\n",
        "            return z3.Sqrt(base)\n",
        "    # if isinstance(expr, sp.cos):\n",
        "    #     print(\"*cos*\")\n",
        "    #     return z3.cos(sympy_to_z3(expr.args[0], variables_map))\n",
        "\n",
        "    # Handle subtraction (will be converted to addition with negative coefficient)\n",
        "\n",
        "    # Handle division\n",
        "    if isinstance(expr, sp.Mul) and any(arg.is_Pow and arg.exp.is_negative for arg in expr.args):\n",
        "        # Extract the numerator and denominator\n",
        "        num, den = sp.fraction(expr)\n",
        "        return sympy_to_z3(num, variables_map) / sympy_to_z3(den, variables_map)\n",
        "\n",
        "    # Add more operations as needed\n",
        "\n",
        "    raise ValueError(f\"Unsupported expression type: {type(expr)}\")\n",
        "\n",
        "def sympy_relation_to_z3(relation, variables_map: Dict[str, z3.ArithRef] = None) -> z3.BoolRef:\n",
        "    \"\"\"\n",
        "    Convert a sympy relation to a Z3 constraint.\n",
        "\n",
        "    Args:\n",
        "        relation: A sympy relation (>, >=, =, <, <=, !=)\n",
        "        variables_map: A dictionary mapping sympy variable names to Z3 variables\n",
        "\n",
        "    Returns:\n",
        "        The equivalent Z3 constraint\n",
        "    \"\"\"\n",
        "    if variables_map is None:\n",
        "        variables_map = {}\n",
        "\n",
        "    # Check if relation is an actual sympy relational object\n",
        "    if not isinstance(relation, sp.Rel):\n",
        "        raise TypeError(f\"Expected a sympy relational object, got {type(relation)}. Make sure you're using sympy relations and not Python's built-in comparisons.\")\n",
        "\n",
        "    # Get the left and right hand sides\n",
        "    lhs, rhs = relation.lhs, relation.rhs\n",
        "\n",
        "    # Convert to Z3 expressions\n",
        "    z3_lhs = sympy_to_z3(lhs, variables_map)\n",
        "    z3_rhs = sympy_to_z3(rhs, variables_map)\n",
        "\n",
        "    # Create the appropriate Z3 constraint based on the relation type\n",
        "    if isinstance(relation, sp.Gt):  # >\n",
        "        return z3_lhs > z3_rhs\n",
        "    elif isinstance(relation, sp.Ge):  # >=\n",
        "        return z3_lhs >= z3_rhs\n",
        "    elif isinstance(relation, sp.Eq):  # =\n",
        "        return z3_lhs == z3_rhs\n",
        "    elif isinstance(relation, sp.Lt):  # <\n",
        "        return z3_lhs < z3_rhs\n",
        "    elif isinstance(relation, sp.Le):  # <=\n",
        "        return z3_lhs <= z3_rhs\n",
        "    elif isinstance(relation, sp.Ne):  # !=\n",
        "        return z3_lhs != z3_rhs\n",
        "    else:\n",
        "        raise ValueError(f\"Unsupported relation type: {type(relation)}\")\n",
        "\n",
        "def ensure_sympy_relation(rel):\n",
        "    \"\"\"\n",
        "    Ensure that the input is a sympy relational object.\n",
        "    If it's already a sympy relation, return it.\n",
        "    If it's a boolean, raise an error with a helpful message.\n",
        "\n",
        "    Args:\n",
        "        rel: A potential sympy relation\n",
        "\n",
        "    Returns:\n",
        "        The input if it's a sympy relation\n",
        "\n",
        "    Raises:\n",
        "        TypeError: If the input is not a sympy relation\n",
        "    \"\"\"\n",
        "    if isinstance(rel, sp.Rel):\n",
        "        return rel\n",
        "    elif isinstance(rel, bool):\n",
        "        raise TypeError(\n",
        "            \"Received a Python boolean instead of a sympy relation. \"\n",
        "            \"This often happens when using '==' with sympy symbols. \"\n",
        "            \"Use sp.Eq(x, y) instead of x == y to ensure you get a sympy relational object.\"\n",
        "        )\n",
        "    else:\n",
        "        raise TypeError(f\"Expected a sympy relational object, got {type(rel)}.\")\n",
        "\n",
        "def is_satisfiable(relations: List[sp.Rel], return_counterex=False) -> Tuple[bool, Optional[Dict[str, float]]]:\n",
        "    \"\"\"\n",
        "    Check if a list of sympy relations are simultaneously satisfiable.\n",
        "\n",
        "    Args:\n",
        "        relations: A list of sympy relations\n",
        "\n",
        "    Returns:\n",
        "        A tuple containing:\n",
        "            - A boolean indicating if the relations are satisfiable\n",
        "            - If satisfiable, a dictionary mapping variable names to values\n",
        "              that satisfy all relations. If not satisfiable, None.\n",
        "    \"\"\"\n",
        "    # Create Z3 solver\n",
        "    solver = z3.Solver()\n",
        "\n",
        "    # Map to keep track of variables\n",
        "    variables_map = {}\n",
        "\n",
        "    # Convert each relation to Z3 and add to solver\n",
        "    for relation in relations:\n",
        "        # Ensure we have a sympy relation\n",
        "        relation = ensure_sympy_relation(relation)\n",
        "        z3_constraint = sympy_relation_to_z3(relation, variables_map)\n",
        "        solver.add(z3_constraint)\n",
        "\n",
        "    # Check satisfiability\n",
        "    result = solver.check()\n",
        "    # print(result)\n",
        "    if result == z3.sat:\n",
        "        # Get the model (a satisfying assignment)\n",
        "        model = solver.model()\n",
        "\n",
        "        # Convert model to a Python dictionary\n",
        "        solution = {}\n",
        "        for var_name, z3_var in variables_map.items():\n",
        "            if model[z3_var] is not None:\n",
        "                solution[var_name] = float(model[z3_var].as_decimal(10).replace('?', ''))\n",
        "\n",
        "        return (True, solution) if return_counterex else True\n",
        "    else:\n",
        "        return (False, None) if return_counterex else False\n",
        "\n",
        "\n",
        "def not_(relations):\n",
        "    return list(map(lambda s: ~s, relations))\n",
        "\n",
        "\n",
        "def remove_control(expr): ## assuming SISO\n",
        "    return expr.subs(u, 0)\n",
        "\n",
        "def is_pd(F, verbose=False, return_counterex=False):\n",
        "    F = remove_control(F)\n",
        "    zero_at_origin = F.subs({key : 0 for key in F.free_symbols}).simplify() == 0\n",
        "    if not zero_at_origin:\n",
        "        if verbose:\n",
        "            print(F, \"is not zero at the origin.\")\n",
        "        return (False, None) if return_counterex else False\n",
        "    v = sp.Matrix(list(F.free_symbols))\n",
        "    if not v:\n",
        "        print(F, \"has non-positive values everywhere.\")\n",
        "        return (False, None) if return_counterex else False\n",
        "    has_nonpos_val, counterex = is_satisfiable([(v.T @ v)[0] > 0, F <= 0],\n",
        "                                                      return_counterex=True)\n",
        "    if has_nonpos_val and verbose:\n",
        "        print(F, \"has a non-positive value at\", counterex)\n",
        "\n",
        "    return (not has_nonpos_val, counterex) if return_counterex else not has_nonpos_val\n",
        "\n",
        "\n",
        "\n",
        "def is_psd(F, verbose=False, return_counterex=False):\n",
        "    F = remove_control(F)\n",
        "    zero_at_origin = F.subs({key : 0 for key in F.free_symbols}).simplify() == 0\n",
        "    if not zero_at_origin:\n",
        "        if verbose:\n",
        "            print(F, \"is not zero at the origin.\")\n",
        "        return (False, None) if return_counterex else False\n",
        "    has_neg_val, counterex = is_satisfiable([F < 0],\n",
        "                                            return_counterex=True)\n",
        "    if has_neg_val and verbose:\n",
        "        print(F, \"has a negative value at\", counterex)\n",
        "\n",
        "    return (not has_neg_val, counterex) if return_counterex else not has_neg_val\n",
        "\n",
        "\n",
        "def check_pd(V, c):\n",
        "    V_, c_ = sp.symbols(['V', 'c'])\n",
        "    res = {}\n",
        "    for symb, val in zip([V_, c_], [V, c]):\n",
        "        print(\"Checking positive-definitness of\", symb, \"...\")\n",
        "        pd, counterex = is_pd(val, verbose=True, return_counterex=True)\n",
        "        if pd:\n",
        "            print(\"Confirmed.\", symb, \"is positive-definite.\\n\")\n",
        "        else:\n",
        "            print(\"Refuted.\", symb, \"is NOT positive-definite.\\n\")\n",
        "        res[str(symb)] = [pd, counterex]\n",
        "    return res\n",
        "\n",
        "\n",
        "def pd_feasibility(V, c):\n",
        "    c = remove_control(c)\n",
        "    V_z3  = sympy_to_z3(V)\n",
        "    c_z3  = sympy_to_z3(c)\n",
        "    return z3.solve([z3.ForAll([z3.Real(x.name), z3.Real(y.name)],\n",
        "                               z3.Implies(z3.Real(x.name) ** 2 + z3.Real(y.name) ** 2 > 0,\n",
        "                                          z3.And(V_z3 > 0, c_z3 > 0)))])\n",
        "\n",
        "\n",
        "\n",
        "\n"
      ],
      "metadata": {
        "id": "1_9FJNCCvM_h"
      },
      "execution_count": 123,
      "outputs": []
    },
    {
      "cell_type": "markdown",
      "source": [
        "# Crank Environments"
      ],
      "metadata": {
        "id": "pGNhbYt3vK27"
      }
    },
    {
      "cell_type": "markdown",
      "source": [
        "## Single crank"
      ],
      "metadata": {
        "id": "iIq7aip61Bjs"
      }
    },
    {
      "cell_type": "markdown",
      "source": [
        "### Symbols"
      ],
      "metadata": {
        "id": "9M7UdTCZ-A7e"
      }
    },
    {
      "cell_type": "code",
      "source": [
        "M, R = sp.symbols('M R')\n",
        "alpha, beta, delta = sp.symbols('\\\\alpha \\\\beta \\\\delta')"
      ],
      "metadata": {
        "id": "uihuC4R81QI1"
      },
      "execution_count": 124,
      "outputs": []
    },
    {
      "cell_type": "markdown",
      "source": [
        "### Build the dynamics\n",
        "\n",
        "First we define $G := \\left({0} \\atop {\\cos(\\gamma)}\\right)$, so that the leading arm can only push the crank horizontally.\n",
        "\n",
        "As a side effect we get the following term added to the dynamics: $\\frac{1}{4}GG^T\\nabla V$.\n",
        "\n",
        "In order to cancel this term, we need to add it to $H$, since $\\frac{d}{dt}\\left({\\gamma} \\atop {\\dot{\\gamma}}\\right) = \\ldots - H$. But aside from it $H$ should also include $\\left({0} \\atop {M\\gamma}\\right)$ for gravity, $\\left({0} \\atop {R\\dot{\\gamma}}\\right)$ for friction and $\\left({-\\dot{\\gamma}} \\atop {0}\\right)$ to make sure $\\frac{d}{dt}\\gamma = \\dot{\\gamma}$.\n",
        "\n",
        "\n"
      ],
      "metadata": {
        "id": "S6rvXDUx-F5H"
      }
    },
    {
      "cell_type": "code",
      "source": [
        "\n",
        "V = alpha * gamma ** 2 + 2 * beta * gamma * gamma_dot +  delta * gamma_dot ** 2\n",
        "G = sp.Matrix([0, sp.cos(gamma)])\n",
        "H = sp.Matrix([-gamma_dot,  M*gamma + R * gamma_dot + (sp.Rational(1, 4) * G @ G.T @ sp.Matrix([V]).jacobian([gamma, gamma_dot]).T)[1]])\n",
        "\n",
        "display(sp.Matrix([V]).jacobian([gamma, gamma_dot]).T)\n",
        "\n",
        "peq('H', H)\n",
        "\n",
        "f, c = fc_from_VGH(V, G, H)\n",
        "\n",
        "print_problem(V, f, G, c)"
      ],
      "metadata": {
        "colab": {
          "base_uri": "https://localhost:8080/",
          "height": 0
        },
        "id": "YXNtl8jD-Tmj",
        "outputId": "ee8bdd9a-db55-4d5f-8e18-05fb38d731ee"
      },
      "execution_count": 125,
      "outputs": [
        {
          "output_type": "display_data",
          "data": {
            "text/plain": [
              "Matrix([\n",
              "[2*\\alpha*\\gamma + 2*\\beta*\\dot{\\gamma}],\n",
              "[2*\\beta*\\gamma + 2*\\delta*\\dot{\\gamma}]])"
            ],
            "text/latex": "$\\displaystyle \\left[\\begin{matrix}2 \\alpha \\gamma + 2 \\beta \\dot{\\gamma}\\\\2 \\beta \\gamma + 2 \\delta \\dot{\\gamma}\\end{matrix}\\right]$"
          },
          "metadata": {}
        },
        {
          "output_type": "display_data",
          "data": {
            "text/plain": [
              "Eq(H, Matrix([\n",
              "[                                                                        -\\dot{\\gamma}],\n",
              "[M*\\gamma + R*\\dot{\\gamma} + (2*\\beta*\\gamma + 2*\\delta*\\dot{\\gamma})*cos(\\gamma)**2/4]]))"
            ],
            "text/latex": "$\\displaystyle H = \\left[\\begin{matrix}- \\dot{\\gamma}\\\\M \\gamma + R \\dot{\\gamma} + \\frac{\\left(2 \\beta \\gamma + 2 \\delta \\dot{\\gamma}\\right) \\cos^{2}{\\left(\\gamma \\right)}}{4}\\end{matrix}\\right]$"
          },
          "metadata": {}
        },
        {
          "output_type": "display_data",
          "data": {
            "text/plain": [
              "Eq(V, \\alpha*\\gamma**2 + 2*\\beta*\\dot{\\gamma}*\\gamma + \\delta*\\dot{\\gamma}**2)"
            ],
            "text/latex": "$\\displaystyle V = \\alpha \\gamma^{2} + 2 \\beta \\dot{\\gamma} \\gamma + \\delta \\dot{\\gamma}^{2}$"
          },
          "metadata": {}
        },
        {
          "output_type": "display_data",
          "data": {
            "text/plain": [
              "Eq(\\frac{d}{dt}\\gamma}, \\dot{\\gamma})"
            ],
            "text/latex": "$\\displaystyle \\frac{d}{dt}\\gamma = \\dot{\\gamma}$"
          },
          "metadata": {}
        },
        {
          "output_type": "display_data",
          "data": {
            "text/plain": [
              "Eq(\\frac{d}{dt}\\dot{\\gamma}, -M*\\gamma - R*\\dot{\\gamma} + a*cos(\\gamma))"
            ],
            "text/latex": "$\\displaystyle \\frac{d}{dt}\\dot{\\gamma} = - M \\gamma - R \\dot{\\gamma} + a \\cos{\\left(\\gamma \\right)}$"
          },
          "metadata": {}
        },
        {
          "output_type": "display_data",
          "data": {
            "text/plain": [
              "Eq(c, -2*\\dot{\\gamma}*(\\alpha*\\gamma + \\beta*\\dot{\\gamma}) + a**2 + (\\beta*\\gamma + \\delta*\\dot{\\gamma})*(2*M*\\gamma + 2*R*\\dot{\\gamma} + (\\beta*\\gamma + \\delta*\\dot{\\gamma})*cos(\\gamma)**2))"
            ],
            "text/latex": "$\\displaystyle c = - 2 \\dot{\\gamma} \\left(\\alpha \\gamma + \\beta \\dot{\\gamma}\\right) + a^{2} + \\left(\\beta \\gamma + \\delta \\dot{\\gamma}\\right) \\left(2 M \\gamma + 2 R \\dot{\\gamma} + \\left(\\beta \\gamma + \\delta \\dot{\\gamma}\\right) \\cos^{2}{\\left(\\gamma \\right)}\\right)$"
          },
          "metadata": {}
        }
      ]
    },
    {
      "cell_type": "markdown",
      "source": [
        "### Separate quadratic terms and derive p.d. criteria\n",
        "\n",
        "Inspecting the cost reveals that it can be represented as $s^TQs + (q^Ts)^2\\cos^2(\\gamma)$ for some matrix $Q$ and some vector $q$, where $s = \\left({\\gamma} \\atop {\\dot \\gamma}\\right)$.\n",
        "\n",
        "This means that analysis of positive definiteness of $c$ reduces to the analysis of positive-definiteness of $Q$."
      ],
      "metadata": {
        "id": "LnUOVf9qBVha"
      }
    },
    {
      "cell_type": "code",
      "source": [
        "c_stripped = c.subs(a, 0).subs(sp.cos(gamma), 0).expand().collect([gamma, gamma_dot])\n",
        "peq(\"c_{stripped}\", c_stripped)\n",
        "\n",
        "m11 = c_stripped.coeff(gamma, 2)\n",
        "m12 = c_stripped.coeff(gamma, 1).diff(gamma_dot) / 2\n",
        "m21 = m12\n",
        "m22 = c_stripped.coeff(gamma, 0).diff(gamma_dot).diff(gamma_dot) / 2\n",
        "\n",
        "criteria = [m11 > 0, m11 * m22 - m21 * m12 > 0,\n",
        "            alpha > 0, alpha * delta - beta ** 2 > 0]\n",
        "\n",
        "display(criteria)\n",
        "\n"
      ],
      "metadata": {
        "colab": {
          "base_uri": "https://localhost:8080/",
          "height": 0
        },
        "id": "4SRTVb3_BVJF",
        "outputId": "1708bd25-6e4a-47f7-c6eb-48f45ec2054d"
      },
      "execution_count": 126,
      "outputs": [
        {
          "output_type": "display_data",
          "data": {
            "text/plain": [
              "Eq(c_{stripped}, 2*M*\\beta*\\gamma**2 + \\dot{\\gamma}**2*(2*R*\\delta - 2*\\beta) + \\gamma*(2*M*\\delta*\\dot{\\gamma} + 2*R*\\beta*\\dot{\\gamma} - 2*\\alpha*\\dot{\\gamma}))"
            ],
            "text/latex": "$\\displaystyle c_{stripped} = 2 M \\beta \\gamma^{2} + \\dot{\\gamma}^{2} \\left(2 R \\delta - 2 \\beta\\right) + \\gamma \\left(2 M \\delta \\dot{\\gamma} + 2 R \\beta \\dot{\\gamma} - 2 \\alpha \\dot{\\gamma}\\right)$"
          },
          "metadata": {}
        },
        {
          "output_type": "display_data",
          "data": {
            "text/plain": [
              "[2*M*\\beta > 0,\n",
              " 2*M*\\beta*(2*R*\\delta - 2*\\beta) - (M*\\delta + R*\\beta - \\alpha)**2 > 0,\n",
              " \\alpha > 0,\n",
              " \\alpha*\\delta - \\beta**2 > 0]"
            ]
          },
          "metadata": {}
        }
      ]
    },
    {
      "cell_type": "markdown",
      "source": [
        "### Derive alternative criteria that are convenient for sampling"
      ],
      "metadata": {
        "id": "Mrcj2ZfnDHC8"
      }
    },
    {
      "cell_type": "code",
      "source": [
        "big_rel = (m11 * m22 - m21 * m12).expand().collect(delta)\n",
        "C = big_rel.coeff(delta, 0)\n",
        "B = big_rel.coeff(delta, 1)\n",
        "A = big_rel.coeff(delta, 2)\n",
        "\n",
        "D = (B**2 - 4 * A * C).simplify()\n",
        "\n",
        "peq('A', A)\n",
        "peq('B', B)\n",
        "peq('C', C)\n",
        "peq('D', D)\n",
        "\n",
        "D_root = sp.symbols('D_root')\n",
        "\n",
        "\n",
        "better_criteria = [M > 0, R > 0, beta > 0, alpha > M * beta / R,\n",
        "                   delta > (-B + D_root) / (2 * A),\n",
        "                   delta < (-B - D_root) / (2 * A),\n",
        "                   sp.Eq(D_root * D_root, D)]\n",
        "display(better_criteria)\n",
        "\n"
      ],
      "metadata": {
        "colab": {
          "base_uri": "https://localhost:8080/",
          "height": 0
        },
        "id": "r4rbe_dlDHOs",
        "outputId": "ff9e29bb-7ba8-4d50-ca5b-40f26e6e9f58"
      },
      "execution_count": 127,
      "outputs": [
        {
          "output_type": "display_data",
          "data": {
            "text/plain": [
              "Eq(A, -M**2)"
            ],
            "text/latex": "$\\displaystyle A = - M^{2}$"
          },
          "metadata": {}
        },
        {
          "output_type": "display_data",
          "data": {
            "text/plain": [
              "Eq(B, 2*M*R*\\beta + 2*M*\\alpha)"
            ],
            "text/latex": "$\\displaystyle B = 2 M R \\beta + 2 M \\alpha$"
          },
          "metadata": {}
        },
        {
          "output_type": "display_data",
          "data": {
            "text/plain": [
              "Eq(C, -4*M*\\beta**2 - R**2*\\beta**2 + 2*R*\\alpha*\\beta - \\alpha**2)"
            ],
            "text/latex": "$\\displaystyle C = - 4 M \\beta^{2} - R^{2} \\beta^{2} + 2 R \\alpha \\beta - \\alpha^{2}$"
          },
          "metadata": {}
        },
        {
          "output_type": "display_data",
          "data": {
            "text/plain": [
              "Eq(D, 16*M**2*\\beta*(-M*\\beta + R*\\alpha))"
            ],
            "text/latex": "$\\displaystyle D = 16 M^{2} \\beta \\left(- M \\beta + R \\alpha\\right)$"
          },
          "metadata": {}
        },
        {
          "output_type": "display_data",
          "data": {
            "text/plain": [
              "[M > 0,\n",
              " R > 0,\n",
              " \\beta > 0,\n",
              " \\alpha > M*\\beta/R,\n",
              " \\delta > -(D_root - 2*M*R*\\beta - 2*M*\\alpha)/(2*M**2),\n",
              " \\delta < -(-D_root - 2*M*R*\\beta - 2*M*\\alpha)/(2*M**2),\n",
              " Eq(D_root**2, 16*M**2*\\beta*(-M*\\beta + R*\\alpha))]"
            ]
          },
          "metadata": {}
        }
      ]
    },
    {
      "cell_type": "markdown",
      "source": [
        "### Formally verify that the latter criteria were derived correctly"
      ],
      "metadata": {
        "id": "xouW1GgHDgdw"
      }
    },
    {
      "cell_type": "code",
      "source": [
        "## formal testing\n",
        "\n",
        "better_criteria_are_satisfied = z3.And(*list(map(sympy_relation_to_z3, better_criteria)))\n",
        "but_original_criteria_are_not_satisfied = z3.Not(z3.And(*list(map(sympy_relation_to_z3, criteria))))\n",
        "print(\"Improved criteria are satisfiable:\", is_satisfiable(better_criteria))\n",
        "print(\"It is possible for the original criteria to be unsatisfied:\", is_satisfiable(not_(criteria)))\n",
        "print(\"It is possible that improved criteria are satisfied while original criteria are not:\",\n",
        "      is_satisfiable(criteria + not_(better_criteria)))"
      ],
      "metadata": {
        "colab": {
          "base_uri": "https://localhost:8080/"
        },
        "id": "a9D1HxrJDgDC",
        "outputId": "29d213cd-0eb1-414d-8209-28359c6f48ec"
      },
      "execution_count": 128,
      "outputs": [
        {
          "output_type": "stream",
          "name": "stdout",
          "text": [
            "Improved criteria are satisfiable: True\n",
            "It is possible for the original criteria to be unsatisfied: True\n",
            "It is possible that improved criteria are satisfied while original criteria are not: False\n"
          ]
        }
      ]
    },
    {
      "cell_type": "markdown",
      "source": [
        "### Test"
      ],
      "metadata": {
        "id": "ew7PlCrEDo-D"
      }
    },
    {
      "cell_type": "code",
      "source": [
        "## empirical testing\n",
        "\n",
        "import numpy as np\n",
        "from tqdm import tqdm\n",
        "\n",
        "bottom_d = sp.lambdify([alpha, beta, M, R], (-B + sp.sqrt(D)) / (2 * A))\n",
        "length_d = sp.lambdify([alpha, beta, M, R], -sp.sqrt(D) / A)\n",
        "\n",
        "def generate_abdMR(size, range_=10):\n",
        "    res = np.random.random(size=size * 5).reshape(size, 5) * range_\n",
        "    for i in range(size):\n",
        "        _, beta, _, M, R = res[i]\n",
        "\n",
        "        res[i, 0] += M * beta / R,\n",
        "        alpha = res[i, 0]\n",
        "\n",
        "        res[i, 2] *= length_d(alpha, beta, M, R) / range_\n",
        "        res[i, 2] += bottom_d(alpha, beta, M, R)\n",
        "    return res\n",
        "\n",
        "\n",
        "\n",
        "num_tests = 100\n",
        "params = generate_abdMR(num_tests)\n",
        "\n",
        "count_both_pd = 0\n",
        "for param in tqdm(params):\n",
        "    substitution = list(zip([alpha, beta, delta, M, R], param))\n",
        "    c_ = c_stripped.subs(substitution)\n",
        "    V_ = V.subs(substitution)\n",
        "    res =  is_pd(c_) and is_pd(V_)\n",
        "    count_both_pd += res\n",
        "    if not res:\n",
        "        print(is_pd(c_, return_counterex=True)[1],\n",
        "              is_pd(V_, return_counterex=True)[1])\n",
        "        print(V_, c_, sep=' | ')\n",
        "\n",
        "print(f\"\\nRandom tests passed: {count_both_pd}/{num_tests}\")"
      ],
      "metadata": {
        "colab": {
          "base_uri": "https://localhost:8080/"
        },
        "id": "6kgeSeoSDqZy",
        "outputId": "39c6d81a-13d8-4a24-8586-b73e383d5e9e"
      },
      "execution_count": 129,
      "outputs": [
        {
          "output_type": "stream",
          "name": "stderr",
          "text": [
            "<ipython-input-129-ce70e2edd1d6>:14: DeprecationWarning: Conversion of an array with ndim > 0 to a scalar is deprecated, and will error in future. Ensure you extract a single element from your array before performing this operation. (Deprecated NumPy 1.25.)\n",
            "  res[i, 0] += M * beta / R,\n",
            "100%|██████████| 100/100 [00:03<00:00, 25.93it/s]"
          ]
        },
        {
          "output_type": "stream",
          "name": "stdout",
          "text": [
            "\n",
            "Random tests passed: 100/100\n"
          ]
        },
        {
          "output_type": "stream",
          "name": "stderr",
          "text": [
            "\n"
          ]
        }
      ]
    },
    {
      "cell_type": "markdown",
      "source": [
        "\n",
        "\n",
        "## Integrating two cranks\n",
        "\n",
        "Example for two cranks and concrete parameters\n",
        "\n",
        "\n"
      ],
      "metadata": {
        "id": "u4kGPW9vHtRF"
      }
    },
    {
      "cell_type": "markdown",
      "source": [
        "### Symbols"
      ],
      "metadata": {
        "id": "v8Lk6r3vyt7C"
      }
    },
    {
      "cell_type": "code",
      "source": [
        "M, R = 1, 1 # sp.symbols('M R')\n",
        "alpha, beta, delta = 3, 1, 3 # sp.symbols('a b d')\n",
        "gamma_0, gamma_dot_0, gamma_1, gamma_dot_1 = sp.symbols('\\gamma_0 \\dot{\\gamma}_0 \\gamma_1 \\dot{\\gamma}_1')\n",
        "\n",
        "a_mult = sp.Matrix(sp.symbols('a_0 a_1'))"
      ],
      "metadata": {
        "id": "5E_PWrEqIcH7"
      },
      "execution_count": 130,
      "outputs": []
    },
    {
      "cell_type": "markdown",
      "source": [
        "### Define subsystems\n",
        "\n"
      ],
      "metadata": {
        "id": "1sZlRmiEs_Wz"
      }
    },
    {
      "cell_type": "code",
      "source": [
        "V_n = alpha * gamma ** 2 + 2 * beta * gamma * gamma_dot +  delta * gamma_dot ** 2\n",
        "G_n = sp.Matrix([0, sp.cos(gamma)])\n",
        "H_n = sp.Matrix([-gamma_dot,  M*gamma + R * gamma_dot + (sp.Rational(1, 4) * G_n @ G_n.T @ sp.Matrix([V_n]).jacobian([gamma, gamma_dot]).T)[1]])\n",
        "\n",
        "\n",
        "subs0 = [(gamma, gamma_0), (gamma_dot, gamma_dot_0)]\n",
        "subs1 = [(gamma, gamma_1), (gamma_dot, gamma_dot_1)]\n",
        "\n",
        "\n",
        "\n"
      ],
      "metadata": {
        "id": "P1z-RyY4s2ud"
      },
      "execution_count": 131,
      "outputs": []
    },
    {
      "cell_type": "markdown",
      "source": [
        "### Compose subsystems"
      ],
      "metadata": {
        "id": "9zbOVsWEw5-9"
      }
    },
    {
      "cell_type": "code",
      "source": [
        "V = V_n.subs(subs0) + V_n.subs(subs1)\n",
        "G = sp.diag(G_n.subs(subs0), G_n.subs(subs1))\n",
        "H = sp.Matrix.vstack(H_n.subs(subs0), H_n.subs(subs1))\n"
      ],
      "metadata": {
        "id": "n5a61ccVw21M"
      },
      "execution_count": 132,
      "outputs": []
    },
    {
      "cell_type": "markdown",
      "source": [
        "### Add a spring"
      ],
      "metadata": {
        "id": "fnToidlHxBGi"
      }
    },
    {
      "cell_type": "code",
      "source": [
        "H[1] += 0.2 * (gamma_0 - gamma_1)\n",
        "H[3] += 0.2 * (gamma_1 - gamma_0)\n",
        "\n",
        "peq('H', H)"
      ],
      "metadata": {
        "colab": {
          "base_uri": "https://localhost:8080/",
          "height": 0
        },
        "id": "NENA4BFtxBmf",
        "outputId": "6b07d7b6-2f5c-4d32-f057-e4149ffd4eca"
      },
      "execution_count": 133,
      "outputs": [
        {
          "output_type": "display_data",
          "data": {
            "text/plain": [
              "Eq(H, Matrix([\n",
              "[                                                                                  -\\dot{\\gamma}_0],\n",
              "[\\dot{\\gamma}_0 + 1.2*\\gamma_0 - 0.2*\\gamma_1 + (6*\\dot{\\gamma}_0 + 2*\\gamma_0)*cos(\\gamma_0)**2/4],\n",
              "[                                                                                  -\\dot{\\gamma}_1],\n",
              "[\\dot{\\gamma}_1 - 0.2*\\gamma_0 + 1.2*\\gamma_1 + (6*\\dot{\\gamma}_1 + 2*\\gamma_1)*cos(\\gamma_1)**2/4]]))"
            ],
            "text/latex": "$\\displaystyle H = \\left[\\begin{matrix}- \\dot{\\gamma}_0\\\\\\dot{\\gamma}_0 + 1.2 \\gamma_{0} - 0.2 \\gamma_{1} + \\frac{\\left(6 \\dot{\\gamma}_0 + 2 \\gamma_{0}\\right) \\cos^{2}{\\left(\\gamma_{0} \\right)}}{4}\\\\- \\dot{\\gamma}_1\\\\\\dot{\\gamma}_1 - 0.2 \\gamma_{0} + 1.2 \\gamma_{1} + \\frac{\\left(6 \\dot{\\gamma}_1 + 2 \\gamma_{1}\\right) \\cos^{2}{\\left(\\gamma_{1} \\right)}}{4}\\end{matrix}\\right]$"
          },
          "metadata": {}
        }
      ]
    },
    {
      "cell_type": "markdown",
      "source": [
        "### Construct the dynamics and stage costs"
      ],
      "metadata": {
        "id": "6eHRQFAIxMa9"
      }
    },
    {
      "cell_type": "code",
      "source": [
        "f, c = fc_from_VGH(V, G, H)\n",
        "\n",
        "print_problem(V, f, G, c, a=a_mult)\n",
        "\n",
        "\n",
        "\n"
      ],
      "metadata": {
        "colab": {
          "base_uri": "https://localhost:8080/",
          "height": 0
        },
        "id": "ZJnwyylKxNBc",
        "outputId": "ac5124d4-179d-4557-c434-48e53003707d"
      },
      "execution_count": 134,
      "outputs": [
        {
          "output_type": "display_data",
          "data": {
            "text/plain": [
              "Eq(V, 3*\\dot{\\gamma}_0**2 + 2*\\dot{\\gamma}_0*\\gamma_0 + 3*\\dot{\\gamma}_1**2 + 2*\\dot{\\gamma}_1*\\gamma_1 + 3*\\gamma_0**2 + 3*\\gamma_1**2)"
            ],
            "text/latex": "$\\displaystyle V = 3 \\dot{\\gamma}_0^{2} + 2 \\dot{\\gamma}_0 \\gamma_{0} + 3 \\dot{\\gamma}_1^{2} + 2 \\dot{\\gamma}_1 \\gamma_{1} + 3 \\gamma_{0}^{2} + 3 \\gamma_{1}^{2}$"
          },
          "metadata": {}
        },
        {
          "output_type": "display_data",
          "data": {
            "text/plain": [
              "Eq(\\frac{d}{dt}{\\gamma}_{0}, \\dot{\\gamma}_0)"
            ],
            "text/latex": "$\\displaystyle \\frac{d}{dt}{\\gamma}_{0} = \\dot{\\gamma}_0$"
          },
          "metadata": {}
        },
        {
          "output_type": "display_data",
          "data": {
            "text/plain": [
              "Eq(\\frac{d}{dt}\\dot{\\gamma}_{0}, -\\dot{\\gamma}_0 - 1.2*\\gamma_0 + 0.2*\\gamma_1 + a_0*cos(\\gamma_0))"
            ],
            "text/latex": "$\\displaystyle \\frac{d}{dt}\\dot{\\gamma}_{0} = - \\dot{\\gamma}_0 - 1.2 \\gamma_{0} + 0.2 \\gamma_{1} + a_{0} \\cos{\\left(\\gamma_{0} \\right)}$"
          },
          "metadata": {}
        },
        {
          "output_type": "display_data",
          "data": {
            "text/plain": [
              "Eq(\\frac{d}{dt}{\\gamma}_{1}, \\dot{\\gamma}_1)"
            ],
            "text/latex": "$\\displaystyle \\frac{d}{dt}{\\gamma}_{1} = \\dot{\\gamma}_1$"
          },
          "metadata": {}
        },
        {
          "output_type": "display_data",
          "data": {
            "text/plain": [
              "Eq(\\frac{d}{dt}\\dot{\\gamma}_{1}, -\\dot{\\gamma}_1 + 0.2*\\gamma_0 - 1.2*\\gamma_1 + a_1*cos(\\gamma_1))"
            ],
            "text/latex": "$\\displaystyle \\frac{d}{dt}\\dot{\\gamma}_{1} = - \\dot{\\gamma}_1 + 0.2 \\gamma_{0} - 1.2 \\gamma_{1} + a_{1} \\cos{\\left(\\gamma_{1} \\right)}$"
          },
          "metadata": {}
        },
        {
          "output_type": "display_data",
          "data": {
            "text/plain": [
              "Eq(c, -2*\\dot{\\gamma}_0*(\\dot{\\gamma}_0 + 3*\\gamma_0) - 2*\\dot{\\gamma}_1*(\\dot{\\gamma}_1 + 3*\\gamma_1) + a**2 + (3*\\dot{\\gamma}_0 + \\gamma_0)*(4*\\dot{\\gamma}_0 + 4.8*\\gamma_0 - 0.8*\\gamma_1 + 2*(3*\\dot{\\gamma}_0 + \\gamma_0)*cos(\\gamma_0)**2)/2 + (3*\\dot{\\gamma}_1 + \\gamma_1)*(4*\\dot{\\gamma}_1 - 0.8*\\gamma_0 + 4.8*\\gamma_1 + 2*(3*\\dot{\\gamma}_1 + \\gamma_1)*cos(\\gamma_1)**2)/2)"
            ],
            "text/latex": "$\\displaystyle c = - 2 \\dot{\\gamma}_0 \\left(\\dot{\\gamma}_0 + 3 \\gamma_{0}\\right) - 2 \\dot{\\gamma}_1 \\left(\\dot{\\gamma}_1 + 3 \\gamma_{1}\\right) + a^{2} + \\frac{\\left(3 \\dot{\\gamma}_0 + \\gamma_{0}\\right) \\left(4 \\dot{\\gamma}_0 + 4.8 \\gamma_{0} - 0.8 \\gamma_{1} + 2 \\left(3 \\dot{\\gamma}_0 + \\gamma_{0}\\right) \\cos^{2}{\\left(\\gamma_{0} \\right)}\\right)}{2} + \\frac{\\left(3 \\dot{\\gamma}_1 + \\gamma_{1}\\right) \\left(4 \\dot{\\gamma}_1 - 0.8 \\gamma_{0} + 4.8 \\gamma_{1} + 2 \\left(3 \\dot{\\gamma}_1 + \\gamma_{1}\\right) \\cos^{2}{\\left(\\gamma_{1} \\right)}\\right)}{2}$"
          },
          "metadata": {}
        }
      ]
    },
    {
      "cell_type": "markdown",
      "source": [
        "### Verify correctness"
      ],
      "metadata": {
        "id": "uPXSXHPrxXkV"
      }
    },
    {
      "cell_type": "code",
      "source": [
        "c_stripped = c.subs(a, 0).subs(sp.cos(gamma_0), 0).subs(sp.cos(gamma_1), 0).expand().collect([gamma, gamma_dot])\n",
        "peq(\"c_{stripped}\", c_stripped)\n",
        "\n",
        "is_pd(c_stripped)"
      ],
      "metadata": {
        "colab": {
          "base_uri": "https://localhost:8080/",
          "height": 0
        },
        "id": "Rac8dosQxXuy",
        "outputId": "560d8b84-70ce-4a45-e610-f4305e023031"
      },
      "execution_count": 135,
      "outputs": [
        {
          "output_type": "display_data",
          "data": {
            "text/plain": [
              "Eq(c_{stripped}, 4*\\dot{\\gamma}_0**2 + 3.2*\\dot{\\gamma}_0*\\gamma_0 - 1.2*\\dot{\\gamma}_0*\\gamma_1 + 4*\\dot{\\gamma}_1**2 - 1.2*\\dot{\\gamma}_1*\\gamma_0 + 3.2*\\dot{\\gamma}_1*\\gamma_1 + 2.4*\\gamma_0**2 - 0.8*\\gamma_0*\\gamma_1 + 2.4*\\gamma_1**2)"
            ],
            "text/latex": "$\\displaystyle c_{stripped} = 4 \\dot{\\gamma}_0^{2} + 3.2 \\dot{\\gamma}_0 \\gamma_{0} - 1.2 \\dot{\\gamma}_0 \\gamma_{1} + 4 \\dot{\\gamma}_1^{2} - 1.2 \\dot{\\gamma}_1 \\gamma_{0} + 3.2 \\dot{\\gamma}_1 \\gamma_{1} + 2.4 \\gamma_{0}^{2} - 0.8 \\gamma_{0} \\gamma_{1} + 2.4 \\gamma_{1}^{2}$"
          },
          "metadata": {}
        },
        {
          "output_type": "execute_result",
          "data": {
            "text/plain": [
              "True"
            ]
          },
          "metadata": {},
          "execution_count": 135
        }
      ]
    },
    {
      "cell_type": "markdown",
      "source": [
        "## Integrating $N$ cranks\n",
        "\n"
      ],
      "metadata": {
        "id": "PwaMkcjIzO-U"
      }
    },
    {
      "cell_type": "markdown",
      "source": [
        "### Symbols"
      ],
      "metadata": {
        "id": "IkASydn4yIDy"
      }
    },
    {
      "cell_type": "code",
      "source": [
        "N = 4\n",
        "\n",
        "def symb_array(names, count=N):\n",
        "    res = []\n",
        "    for name in names.split():\n",
        "        res.append(sp.symbols(\" \".join([name + \"_\" + str(i) for i in range(count)])))\n",
        "    return res\n",
        "\n",
        "alphas, betas, deltas, Ms, Rs, Ks = symb_array('\\\\alpha \\\\beta \\\\delta M R K')\n",
        "Ks = Ks[:-1]\n",
        "gammas, gamma_dots, as_ = symb_array('\\\\gamma \\dot{\\\\gamma} a')\n",
        "\n",
        "state = [s for gamma_, gamma_dot_ in zip(gammas, gamma_dots) for s in (gamma_, gamma_dot_)]\n",
        "\n",
        "M, R = sp.symbols('M R')\n",
        "alpha, beta, delta = sp.symbols('\\alpha \\beta \\delta')\n",
        "K = sp.symbols('K')"
      ],
      "metadata": {
        "id": "eUQoI-BDzRfq"
      },
      "execution_count": 136,
      "outputs": []
    },
    {
      "cell_type": "markdown",
      "source": [
        "### Define and compose subsystems\n",
        "\n",
        "It can be inferred that a system of independent cranks can be generated by\n",
        "\n",
        "$$V = \\sum_{i = 1}^{N}V_i,$$\n",
        "$$G = \\begin{pmatrix}G_1 & 0 & 0 & \\ldots & 0\\\\\n",
        "0 & G_2 & 0 &\\ldots & 0\\\\\n",
        "0 & 0 & G_3 &\\ldots & 0\\\\\n",
        "\\ldots & \\ldots & \\ldots & \\ldots & \\ldots\\\\\n",
        "0 & 0 & 0 & \\ldots & G_N,\n",
        "\\end{pmatrix}$$\n",
        "$$H = \\begin{pmatrix}H_1\\\\ \\ldots \\\\ H_N\\end{pmatrix},$$\n",
        "\n",
        "\n"
      ],
      "metadata": {
        "id": "oFRifALgyQo2"
      }
    },
    {
      "cell_type": "code",
      "source": [
        "\n",
        "\n",
        "V_n = alpha * gamma ** 2 + 2 * beta * gamma * gamma_dot +  delta * gamma_dot ** 2\n",
        "G_n = sp.Matrix([0, sp.cos(gamma)])\n",
        "H_n = sp.Matrix([-gamma_dot,  M*gamma + R * gamma_dot + (sp.Rational(1, 4) * G_n @ G_n.T @ sp.Matrix([V_n]).jacobian([gamma, gamma_dot]).T)[1]])\n",
        "\n",
        "V = \\\n",
        "  sum([V_n.subs([(gamma, gammas[i]), (gamma_dot, gamma_dots[i]), (alpha, alphas[i]), (beta, betas[i]), (delta, deltas[i])])\n",
        "       for i in range(N)])\n",
        "G = sp.diag(*[G_n.subs(gamma, gammas[i]) for i in range(N)])\n",
        "H = sp.Matrix.vstack(*[H_n.subs([(gamma, gammas[i]), (gamma_dot, gamma_dots[i]), (alpha, alphas[i]),\n",
        "                                 (beta, betas[i]), (delta, deltas[i]), (M, Ms[i]), (R, Rs[i])]) \\\n",
        "                     for i in range(N)])\n"
      ],
      "metadata": {
        "id": "uPbSME5kyQzE"
      },
      "execution_count": 137,
      "outputs": []
    },
    {
      "cell_type": "markdown",
      "source": [
        "### Add springs\n",
        "\n",
        "These independent subsystems can now be linked by setting\n",
        "$$H_{\\text{new}} := \\begin{pmatrix}H_1 + K_1(\\gamma_1 - \\gamma_2)\\\\ \\ldots \\\\\n",
        "H_{N - 1} + K_{N - 2}(\\gamma_{N - 1} - \\gamma_{N - 2}) + K_{N - 1}(\\gamma_{N - 1} - \\gamma_{N})\\\\\n",
        "H_N + K_{N - 1}(\\gamma_{N} - \\gamma_{N - 1})\\end{pmatrix},$$"
      ],
      "metadata": {
        "id": "HaIbOzDAzKaY"
      }
    },
    {
      "cell_type": "code",
      "source": [
        "pad = sp.symbols('pad')\n",
        "for i in range(N):\n",
        "    padded_gammas = list(gammas) + [pad]\n",
        "    padded_Ks = list(Ks) + [pad]\n",
        "    H[2 * i + 1] += padded_Ks[i - 1] * (padded_gammas[i] - padded_gammas[i - 1]) # enacted by previous crank\n",
        "    H[2 * i + 1] += padded_Ks[i] * (padded_gammas[i] - padded_gammas[i + 1]) # enacted by next crank\n",
        "H = H.subs(pad, 0)\n",
        "\n",
        "peq('H', H)"
      ],
      "metadata": {
        "colab": {
          "base_uri": "https://localhost:8080/",
          "height": 0
        },
        "id": "RcexkNuCzMt5",
        "outputId": "fba51a09-f0bd-4495-ee80-056f0534862e"
      },
      "execution_count": 138,
      "outputs": [
        {
          "output_type": "display_data",
          "data": {
            "text/plain": [
              "Eq(H, Matrix([\n",
              "[                                                                                                                                                 -\\dot{\\gamma}_0],\n",
              "[                             K_0*(\\gamma_0 - \\gamma_1) + M_0*\\gamma_0 + R_0*\\dot{\\gamma}_0 + (2*\\beta_0*\\gamma_0 + 2*\\delta_0*\\dot{\\gamma}_0)*cos(\\gamma_0)**2/4],\n",
              "[                                                                                                                                                 -\\dot{\\gamma}_1],\n",
              "[K_0*(-\\gamma_0 + \\gamma_1) + K_1*(\\gamma_1 - \\gamma_2) + M_1*\\gamma_1 + R_1*\\dot{\\gamma}_1 + (2*\\beta_1*\\gamma_1 + 2*\\delta_1*\\dot{\\gamma}_1)*cos(\\gamma_1)**2/4],\n",
              "[                                                                                                                                                 -\\dot{\\gamma}_2],\n",
              "[K_1*(-\\gamma_1 + \\gamma_2) + K_2*(\\gamma_2 - \\gamma_3) + M_2*\\gamma_2 + R_2*\\dot{\\gamma}_2 + (2*\\beta_2*\\gamma_2 + 2*\\delta_2*\\dot{\\gamma}_2)*cos(\\gamma_2)**2/4],\n",
              "[                                                                                                                                                 -\\dot{\\gamma}_3],\n",
              "[                            K_2*(-\\gamma_2 + \\gamma_3) + M_3*\\gamma_3 + R_3*\\dot{\\gamma}_3 + (2*\\beta_3*\\gamma_3 + 2*\\delta_3*\\dot{\\gamma}_3)*cos(\\gamma_3)**2/4]]))"
            ],
            "text/latex": "$\\displaystyle H = \\left[\\begin{matrix}- \\dot{\\gamma}_0\\\\K_{0} \\left(\\gamma_{0} - \\gamma_{1}\\right) + M_{0} \\gamma_{0} + R_{0} \\dot{\\gamma}_0 + \\frac{\\left(2 \\beta_{0} \\gamma_{0} + 2 \\delta_{0} \\dot{\\gamma}_0\\right) \\cos^{2}{\\left(\\gamma_{0} \\right)}}{4}\\\\- \\dot{\\gamma}_1\\\\K_{0} \\left(- \\gamma_{0} + \\gamma_{1}\\right) + K_{1} \\left(\\gamma_{1} - \\gamma_{2}\\right) + M_{1} \\gamma_{1} + R_{1} \\dot{\\gamma}_1 + \\frac{\\left(2 \\beta_{1} \\gamma_{1} + 2 \\delta_{1} \\dot{\\gamma}_1\\right) \\cos^{2}{\\left(\\gamma_{1} \\right)}}{4}\\\\- \\dot{\\gamma}_2\\\\K_{1} \\left(- \\gamma_{1} + \\gamma_{2}\\right) + K_{2} \\left(\\gamma_{2} - \\gamma_{3}\\right) + M_{2} \\gamma_{2} + R_{2} \\dot{\\gamma}_2 + \\frac{\\left(2 \\beta_{2} \\gamma_{2} + 2 \\delta_{2} \\dot{\\gamma}_2\\right) \\cos^{2}{\\left(\\gamma_{2} \\right)}}{4}\\\\- \\dot{\\gamma}_3\\\\K_{2} \\left(- \\gamma_{2} + \\gamma_{3}\\right) + M_{3} \\gamma_{3} + R_{3} \\dot{\\gamma}_3 + \\frac{\\left(2 \\beta_{3} \\gamma_{3} + 2 \\delta_{3} \\dot{\\gamma}_3\\right) \\cos^{2}{\\left(\\gamma_{3} \\right)}}{4}\\end{matrix}\\right]$"
          },
          "metadata": {}
        }
      ]
    },
    {
      "cell_type": "markdown",
      "source": [
        "### Construct the dynamics and costs"
      ],
      "metadata": {
        "id": "fNy3llCgzp2j"
      }
    },
    {
      "cell_type": "code",
      "source": [
        "\n",
        "f, c = fc_from_VGH(V, G, H, a=sp.Matrix(as_))\n",
        "\n",
        "print_problem(V, f, G, c, a=sp.Matrix(as_))\n"
      ],
      "metadata": {
        "colab": {
          "base_uri": "https://localhost:8080/",
          "height": 0
        },
        "id": "TFYvJBa8zqNQ",
        "outputId": "e9bc96d9-32c2-41b4-9f05-4794943c95c8"
      },
      "execution_count": 139,
      "outputs": [
        {
          "output_type": "display_data",
          "data": {
            "text/plain": [
              "Eq(V, \\alpha_0*\\gamma_0**2 + \\alpha_1*\\gamma_1**2 + \\alpha_2*\\gamma_2**2 + \\alpha_3*\\gamma_3**2 + 2*\\beta_0*\\dot{\\gamma}_0*\\gamma_0 + 2*\\beta_1*\\dot{\\gamma}_1*\\gamma_1 + 2*\\beta_2*\\dot{\\gamma}_2*\\gamma_2 + 2*\\beta_3*\\dot{\\gamma}_3*\\gamma_3 + \\delta_0*\\dot{\\gamma}_0**2 + \\delta_1*\\dot{\\gamma}_1**2 + \\delta_2*\\dot{\\gamma}_2**2 + \\delta_3*\\dot{\\gamma}_3**2)"
            ],
            "text/latex": "$\\displaystyle V = \\alpha_{0} \\gamma_{0}^{2} + \\alpha_{1} \\gamma_{1}^{2} + \\alpha_{2} \\gamma_{2}^{2} + \\alpha_{3} \\gamma_{3}^{2} + 2 \\beta_{0} \\dot{\\gamma}_0 \\gamma_{0} + 2 \\beta_{1} \\dot{\\gamma}_1 \\gamma_{1} + 2 \\beta_{2} \\dot{\\gamma}_2 \\gamma_{2} + 2 \\beta_{3} \\dot{\\gamma}_3 \\gamma_{3} + \\delta_{0} \\dot{\\gamma}_0^{2} + \\delta_{1} \\dot{\\gamma}_1^{2} + \\delta_{2} \\dot{\\gamma}_2^{2} + \\delta_{3} \\dot{\\gamma}_3^{2}$"
          },
          "metadata": {}
        },
        {
          "output_type": "display_data",
          "data": {
            "text/plain": [
              "Eq(\\frac{d}{dt}{\\gamma}_{0}, \\dot{\\gamma}_0)"
            ],
            "text/latex": "$\\displaystyle \\frac{d}{dt}{\\gamma}_{0} = \\dot{\\gamma}_0$"
          },
          "metadata": {}
        },
        {
          "output_type": "display_data",
          "data": {
            "text/plain": [
              "Eq(\\frac{d}{dt}\\dot{\\gamma}_{0}, -K_0*(\\gamma_0 - \\gamma_1) - M_0*\\gamma_0 - R_0*\\dot{\\gamma}_0 + a_0*cos(\\gamma_0))"
            ],
            "text/latex": "$\\displaystyle \\frac{d}{dt}\\dot{\\gamma}_{0} = - K_{0} \\left(\\gamma_{0} - \\gamma_{1}\\right) - M_{0} \\gamma_{0} - R_{0} \\dot{\\gamma}_0 + a_{0} \\cos{\\left(\\gamma_{0} \\right)}$"
          },
          "metadata": {}
        },
        {
          "output_type": "display_data",
          "data": {
            "text/plain": [
              "Eq(\\frac{d}{dt}{\\gamma}_{1}, \\dot{\\gamma}_1)"
            ],
            "text/latex": "$\\displaystyle \\frac{d}{dt}{\\gamma}_{1} = \\dot{\\gamma}_1$"
          },
          "metadata": {}
        },
        {
          "output_type": "display_data",
          "data": {
            "text/plain": [
              "Eq(\\frac{d}{dt}\\dot{\\gamma}_{1}, -K_0*(-\\gamma_0 + \\gamma_1) - K_1*(\\gamma_1 - \\gamma_2) - M_1*\\gamma_1 - R_1*\\dot{\\gamma}_1 + a_1*cos(\\gamma_1))"
            ],
            "text/latex": "$\\displaystyle \\frac{d}{dt}\\dot{\\gamma}_{1} = - K_{0} \\left(- \\gamma_{0} + \\gamma_{1}\\right) - K_{1} \\left(\\gamma_{1} - \\gamma_{2}\\right) - M_{1} \\gamma_{1} - R_{1} \\dot{\\gamma}_1 + a_{1} \\cos{\\left(\\gamma_{1} \\right)}$"
          },
          "metadata": {}
        },
        {
          "output_type": "display_data",
          "data": {
            "text/plain": [
              "Eq(\\frac{d}{dt}{\\gamma}_{2}, \\dot{\\gamma}_2)"
            ],
            "text/latex": "$\\displaystyle \\frac{d}{dt}{\\gamma}_{2} = \\dot{\\gamma}_2$"
          },
          "metadata": {}
        },
        {
          "output_type": "display_data",
          "data": {
            "text/plain": [
              "Eq(\\frac{d}{dt}\\dot{\\gamma}_{2}, -K_1*(-\\gamma_1 + \\gamma_2) - K_2*(\\gamma_2 - \\gamma_3) - M_2*\\gamma_2 - R_2*\\dot{\\gamma}_2 + a_2*cos(\\gamma_2))"
            ],
            "text/latex": "$\\displaystyle \\frac{d}{dt}\\dot{\\gamma}_{2} = - K_{1} \\left(- \\gamma_{1} + \\gamma_{2}\\right) - K_{2} \\left(\\gamma_{2} - \\gamma_{3}\\right) - M_{2} \\gamma_{2} - R_{2} \\dot{\\gamma}_2 + a_{2} \\cos{\\left(\\gamma_{2} \\right)}$"
          },
          "metadata": {}
        },
        {
          "output_type": "display_data",
          "data": {
            "text/plain": [
              "Eq(\\frac{d}{dt}{\\gamma}_{3}, \\dot{\\gamma}_3)"
            ],
            "text/latex": "$\\displaystyle \\frac{d}{dt}{\\gamma}_{3} = \\dot{\\gamma}_3$"
          },
          "metadata": {}
        },
        {
          "output_type": "display_data",
          "data": {
            "text/plain": [
              "Eq(\\frac{d}{dt}\\dot{\\gamma}_{3}, -K_2*(-\\gamma_2 + \\gamma_3) - M_3*\\gamma_3 - R_3*\\dot{\\gamma}_3 + a_3*cos(\\gamma_3))"
            ],
            "text/latex": "$\\displaystyle \\frac{d}{dt}\\dot{\\gamma}_{3} = - K_{2} \\left(- \\gamma_{2} + \\gamma_{3}\\right) - M_{3} \\gamma_{3} - R_{3} \\dot{\\gamma}_3 + a_{3} \\cos{\\left(\\gamma_{3} \\right)}$"
          },
          "metadata": {}
        },
        {
          "output_type": "display_data",
          "data": {
            "text/plain": [
              "Eq(c, -2*\\dot{\\gamma}_0*(\\alpha_0*\\gamma_0 + \\beta_0*\\dot{\\gamma}_0) - 2*\\dot{\\gamma}_1*(\\alpha_1*\\gamma_1 + \\beta_1*\\dot{\\gamma}_1) - 2*\\dot{\\gamma}_2*(\\alpha_2*\\gamma_2 + \\beta_2*\\dot{\\gamma}_2) - 2*\\dot{\\gamma}_3*(\\alpha_3*\\gamma_3 + \\beta_3*\\dot{\\gamma}_3) + a_0**2 + a_1**2 + a_2**2 + a_3**2 + (\\beta_0*\\gamma_0 + \\delta_0*\\dot{\\gamma}_0)*(2*K_0*(\\gamma_0 - \\gamma_1) + 2*M_0*\\gamma_0 + 2*R_0*\\dot{\\gamma}_0 + (\\beta_0*\\gamma_0 + \\delta_0*\\dot{\\gamma}_0)*cos(\\gamma_0)**2) + (\\beta_1*\\gamma_1 + \\delta_1*\\dot{\\gamma}_1)*(-2*K_0*(\\gamma_0 - \\gamma_1) + 2*K_1*(\\gamma_1 - \\gamma_2) + 2*M_1*\\gamma_1 + 2*R_1*\\dot{\\gamma}_1 + (\\beta_1*\\gamma_1 + \\delta_1*\\dot{\\gamma}_1)*cos(\\gamma_1)**2) + (\\beta_2*\\gamma_2 + \\delta_2*\\dot{\\gamma}_2)*(-2*K_1*(\\gamma_1 - \\gamma_2) + 2*K_2*(\\gamma_2 - \\gamma_3) + 2*M_2*\\gamma_2 + 2*R_2*\\dot{\\gamma}_2 + (\\beta_2*\\gamma_2 + \\delta_2*\\dot{\\gamma}_2)*cos(\\gamma_2)**2) + (\\beta_3*\\gamma_3 + \\delta_3*\\dot{\\gamma}_3)*(-2*K_2*(\\gamma_2 - \\gamma_3) + 2*M_3*\\gamma_3 + 2*R_3*\\dot{\\gamma}_3 + (\\beta_3*\\gamma_3 + \\delta_3*\\dot{\\gamma}_3)*cos(\\gamma_3)**2))"
            ],
            "text/latex": "$\\displaystyle c = - 2 \\dot{\\gamma}_0 \\left(\\alpha_{0} \\gamma_{0} + \\beta_{0} \\dot{\\gamma}_0\\right) - 2 \\dot{\\gamma}_1 \\left(\\alpha_{1} \\gamma_{1} + \\beta_{1} \\dot{\\gamma}_1\\right) - 2 \\dot{\\gamma}_2 \\left(\\alpha_{2} \\gamma_{2} + \\beta_{2} \\dot{\\gamma}_2\\right) - 2 \\dot{\\gamma}_3 \\left(\\alpha_{3} \\gamma_{3} + \\beta_{3} \\dot{\\gamma}_3\\right) + a_{0}^{2} + a_{1}^{2} + a_{2}^{2} + a_{3}^{2} + \\left(\\beta_{0} \\gamma_{0} + \\delta_{0} \\dot{\\gamma}_0\\right) \\left(2 K_{0} \\left(\\gamma_{0} - \\gamma_{1}\\right) + 2 M_{0} \\gamma_{0} + 2 R_{0} \\dot{\\gamma}_0 + \\left(\\beta_{0} \\gamma_{0} + \\delta_{0} \\dot{\\gamma}_0\\right) \\cos^{2}{\\left(\\gamma_{0} \\right)}\\right) + \\left(\\beta_{1} \\gamma_{1} + \\delta_{1} \\dot{\\gamma}_1\\right) \\left(- 2 K_{0} \\left(\\gamma_{0} - \\gamma_{1}\\right) + 2 K_{1} \\left(\\gamma_{1} - \\gamma_{2}\\right) + 2 M_{1} \\gamma_{1} + 2 R_{1} \\dot{\\gamma}_1 + \\left(\\beta_{1} \\gamma_{1} + \\delta_{1} \\dot{\\gamma}_1\\right) \\cos^{2}{\\left(\\gamma_{1} \\right)}\\right) + \\left(\\beta_{2} \\gamma_{2} + \\delta_{2} \\dot{\\gamma}_2\\right) \\left(- 2 K_{1} \\left(\\gamma_{1} - \\gamma_{2}\\right) + 2 K_{2} \\left(\\gamma_{2} - \\gamma_{3}\\right) + 2 M_{2} \\gamma_{2} + 2 R_{2} \\dot{\\gamma}_2 + \\left(\\beta_{2} \\gamma_{2} + \\delta_{2} \\dot{\\gamma}_2\\right) \\cos^{2}{\\left(\\gamma_{2} \\right)}\\right) + \\left(\\beta_{3} \\gamma_{3} + \\delta_{3} \\dot{\\gamma}_3\\right) \\left(- 2 K_{2} \\left(\\gamma_{2} - \\gamma_{3}\\right) + 2 M_{3} \\gamma_{3} + 2 R_{3} \\dot{\\gamma}_3 + \\left(\\beta_{3} \\gamma_{3} + \\delta_{3} \\dot{\\gamma}_3\\right) \\cos^{2}{\\left(\\gamma_{3} \\right)}\\right)$"
          },
          "metadata": {}
        }
      ]
    },
    {
      "cell_type": "markdown",
      "source": [
        "### Separate quadratic terms and isolate the contribution of springs"
      ],
      "metadata": {
        "id": "kikUNSw-0Moq"
      }
    },
    {
      "cell_type": "code",
      "source": [
        "c_stripped = c\n",
        "for i in range(N):\n",
        "    c_stripped = c_stripped.subs(as_[i], 0).subs(sp.cos(gammas[i]), 0)\n",
        "Q = sp.Matrix([c_stripped]).jacobian(state).T.jacobian(state) / 2\n",
        "\n",
        "Q_no_springs = Q.subs(list(zip(Ks, [0] * (N - 1))))\n",
        "DeltaQ = Q - Q_no_springs\n",
        "\n",
        "\n",
        "peq('c_{stripped|same|K}', c_stripped.subs(list(zip(Ks, [K] * (N - 1)))).expand().collect(K))\n",
        "\n",
        "peq(\"\\Delta{Q}\", DeltaQ)"
      ],
      "metadata": {
        "colab": {
          "base_uri": "https://localhost:8080/",
          "height": 0
        },
        "id": "G6Vm83rF0Q3D",
        "outputId": "141c1662-330b-412e-fc3b-59da2b754da5"
      },
      "execution_count": 140,
      "outputs": [
        {
          "output_type": "display_data",
          "data": {
            "text/plain": [
              "Eq(c_{stripped|same|K}, K*(2*\\beta_0*\\gamma_0**2 - 2*\\beta_0*\\gamma_0*\\gamma_1 - 2*\\beta_1*\\gamma_0*\\gamma_1 + 4*\\beta_1*\\gamma_1**2 - 2*\\beta_1*\\gamma_1*\\gamma_2 - 2*\\beta_2*\\gamma_1*\\gamma_2 + 4*\\beta_2*\\gamma_2**2 - 2*\\beta_2*\\gamma_2*\\gamma_3 - 2*\\beta_3*\\gamma_2*\\gamma_3 + 2*\\beta_3*\\gamma_3**2 + 2*\\delta_0*\\dot{\\gamma}_0*\\gamma_0 - 2*\\delta_0*\\dot{\\gamma}_0*\\gamma_1 - 2*\\delta_1*\\dot{\\gamma}_1*\\gamma_0 + 4*\\delta_1*\\dot{\\gamma}_1*\\gamma_1 - 2*\\delta_1*\\dot{\\gamma}_1*\\gamma_2 - 2*\\delta_2*\\dot{\\gamma}_2*\\gamma_1 + 4*\\delta_2*\\dot{\\gamma}_2*\\gamma_2 - 2*\\delta_2*\\dot{\\gamma}_2*\\gamma_3 - 2*\\delta_3*\\dot{\\gamma}_3*\\gamma_2 + 2*\\delta_3*\\dot{\\gamma}_3*\\gamma_3) + 2*M_0*\\beta_0*\\gamma_0**2 + 2*M_0*\\delta_0*\\dot{\\gamma}_0*\\gamma_0 + 2*M_1*\\beta_1*\\gamma_1**2 + 2*M_1*\\delta_1*\\dot{\\gamma}_1*\\gamma_1 + 2*M_2*\\beta_2*\\gamma_2**2 + 2*M_2*\\delta_2*\\dot{\\gamma}_2*\\gamma_2 + 2*M_3*\\beta_3*\\gamma_3**2 + 2*M_3*\\delta_3*\\dot{\\gamma}_3*\\gamma_3 + 2*R_0*\\beta_0*\\dot{\\gamma}_0*\\gamma_0 + 2*R_0*\\delta_0*\\dot{\\gamma}_0**2 + 2*R_1*\\beta_1*\\dot{\\gamma}_1*\\gamma_1 + 2*R_1*\\delta_1*\\dot{\\gamma}_1**2 + 2*R_2*\\beta_2*\\dot{\\gamma}_2*\\gamma_2 + 2*R_2*\\delta_2*\\dot{\\gamma}_2**2 + 2*R_3*\\beta_3*\\dot{\\gamma}_3*\\gamma_3 + 2*R_3*\\delta_3*\\dot{\\gamma}_3**2 - 2*\\alpha_0*\\dot{\\gamma}_0*\\gamma_0 - 2*\\alpha_1*\\dot{\\gamma}_1*\\gamma_1 - 2*\\alpha_2*\\dot{\\gamma}_2*\\gamma_2 - 2*\\alpha_3*\\dot{\\gamma}_3*\\gamma_3 - 2*\\beta_0*\\dot{\\gamma}_0**2 - 2*\\beta_1*\\dot{\\gamma}_1**2 - 2*\\beta_2*\\dot{\\gamma}_2**2 - 2*\\beta_3*\\dot{\\gamma}_3**2)"
            ],
            "text/latex": "$\\displaystyle c_{stripped|same|K} = K \\left(2 \\beta_{0} \\gamma_{0}^{2} - 2 \\beta_{0} \\gamma_{0} \\gamma_{1} - 2 \\beta_{1} \\gamma_{0} \\gamma_{1} + 4 \\beta_{1} \\gamma_{1}^{2} - 2 \\beta_{1} \\gamma_{1} \\gamma_{2} - 2 \\beta_{2} \\gamma_{1} \\gamma_{2} + 4 \\beta_{2} \\gamma_{2}^{2} - 2 \\beta_{2} \\gamma_{2} \\gamma_{3} - 2 \\beta_{3} \\gamma_{2} \\gamma_{3} + 2 \\beta_{3} \\gamma_{3}^{2} + 2 \\delta_{0} \\dot{\\gamma}_0 \\gamma_{0} - 2 \\delta_{0} \\dot{\\gamma}_0 \\gamma_{1} - 2 \\delta_{1} \\dot{\\gamma}_1 \\gamma_{0} + 4 \\delta_{1} \\dot{\\gamma}_1 \\gamma_{1} - 2 \\delta_{1} \\dot{\\gamma}_1 \\gamma_{2} - 2 \\delta_{2} \\dot{\\gamma}_2 \\gamma_{1} + 4 \\delta_{2} \\dot{\\gamma}_2 \\gamma_{2} - 2 \\delta_{2} \\dot{\\gamma}_2 \\gamma_{3} - 2 \\delta_{3} \\dot{\\gamma}_3 \\gamma_{2} + 2 \\delta_{3} \\dot{\\gamma}_3 \\gamma_{3}\\right) + 2 M_{0} \\beta_{0} \\gamma_{0}^{2} + 2 M_{0} \\delta_{0} \\dot{\\gamma}_0 \\gamma_{0} + 2 M_{1} \\beta_{1} \\gamma_{1}^{2} + 2 M_{1} \\delta_{1} \\dot{\\gamma}_1 \\gamma_{1} + 2 M_{2} \\beta_{2} \\gamma_{2}^{2} + 2 M_{2} \\delta_{2} \\dot{\\gamma}_2 \\gamma_{2} + 2 M_{3} \\beta_{3} \\gamma_{3}^{2} + 2 M_{3} \\delta_{3} \\dot{\\gamma}_3 \\gamma_{3} + 2 R_{0} \\beta_{0} \\dot{\\gamma}_0 \\gamma_{0} + 2 R_{0} \\delta_{0} \\dot{\\gamma}_0^{2} + 2 R_{1} \\beta_{1} \\dot{\\gamma}_1 \\gamma_{1} + 2 R_{1} \\delta_{1} \\dot{\\gamma}_1^{2} + 2 R_{2} \\beta_{2} \\dot{\\gamma}_2 \\gamma_{2} + 2 R_{2} \\delta_{2} \\dot{\\gamma}_2^{2} + 2 R_{3} \\beta_{3} \\dot{\\gamma}_3 \\gamma_{3} + 2 R_{3} \\delta_{3} \\dot{\\gamma}_3^{2} - 2 \\alpha_{0} \\dot{\\gamma}_0 \\gamma_{0} - 2 \\alpha_{1} \\dot{\\gamma}_1 \\gamma_{1} - 2 \\alpha_{2} \\dot{\\gamma}_2 \\gamma_{2} - 2 \\alpha_{3} \\dot{\\gamma}_3 \\gamma_{3} - 2 \\beta_{0} \\dot{\\gamma}_0^{2} - 2 \\beta_{1} \\dot{\\gamma}_1^{2} - 2 \\beta_{2} \\dot{\\gamma}_2^{2} - 2 \\beta_{3} \\dot{\\gamma}_3^{2}$"
          },
          "metadata": {}
        },
        {
          "output_type": "display_data",
          "data": {
            "text/plain": [
              "Eq(\\Delta{Q}, Matrix([\n",
              "[  -2*M_0*\\beta_0 + \\beta_0*(2*K_0 + 2*M_0), -M_0*\\delta_0 + \\delta_0*(2*K_0 + 2*M_0)/2,                         -K_0*\\beta_0 - K_0*\\beta_1,                                      -K_0*\\delta_1,                                                  0,                                                  0,                                          0,                                          0],\n",
              "[-M_0*\\delta_0 + \\delta_0*(2*K_0 + 2*M_0)/2,                                          0,                                      -K_0*\\delta_0,                                                  0,                                                  0,                                                  0,                                          0,                                          0],\n",
              "[                -K_0*\\beta_0 - K_0*\\beta_1,                              -K_0*\\delta_0,   -2*M_1*\\beta_1 + \\beta_1*(2*K_0 + 2*K_1 + 2*M_1), -M_1*\\delta_1 + \\delta_1*(2*K_0 + 2*K_1 + 2*M_1)/2,                         -K_1*\\beta_1 - K_1*\\beta_2,                                      -K_1*\\delta_2,                                          0,                                          0],\n",
              "[                             -K_0*\\delta_1,                                          0, -M_1*\\delta_1 + \\delta_1*(2*K_0 + 2*K_1 + 2*M_1)/2,                                                  0,                                      -K_1*\\delta_1,                                                  0,                                          0,                                          0],\n",
              "[                                         0,                                          0,                         -K_1*\\beta_1 - K_1*\\beta_2,                                      -K_1*\\delta_1,   -2*M_2*\\beta_2 + \\beta_2*(2*K_1 + 2*K_2 + 2*M_2), -M_2*\\delta_2 + \\delta_2*(2*K_1 + 2*K_2 + 2*M_2)/2,                 -K_2*\\beta_2 - K_2*\\beta_3,                              -K_2*\\delta_3],\n",
              "[                                         0,                                          0,                                      -K_1*\\delta_2,                                                  0, -M_2*\\delta_2 + \\delta_2*(2*K_1 + 2*K_2 + 2*M_2)/2,                                                  0,                              -K_2*\\delta_2,                                          0],\n",
              "[                                         0,                                          0,                                                  0,                                                  0,                         -K_2*\\beta_2 - K_2*\\beta_3,                                      -K_2*\\delta_2,   -2*M_3*\\beta_3 + \\beta_3*(2*K_2 + 2*M_3), -M_3*\\delta_3 + \\delta_3*(2*K_2 + 2*M_3)/2],\n",
              "[                                         0,                                          0,                                                  0,                                                  0,                                      -K_2*\\delta_3,                                                  0, -M_3*\\delta_3 + \\delta_3*(2*K_2 + 2*M_3)/2,                                          0]]))"
            ],
            "text/latex": "$\\displaystyle \\Delta{Q} = \\left[\\begin{matrix}- 2 M_{0} \\beta_{0} + \\beta_{0} \\left(2 K_{0} + 2 M_{0}\\right) & - M_{0} \\delta_{0} + \\frac{\\delta_{0} \\left(2 K_{0} + 2 M_{0}\\right)}{2} & - K_{0} \\beta_{0} - K_{0} \\beta_{1} & - K_{0} \\delta_{1} & 0 & 0 & 0 & 0\\\\- M_{0} \\delta_{0} + \\frac{\\delta_{0} \\left(2 K_{0} + 2 M_{0}\\right)}{2} & 0 & - K_{0} \\delta_{0} & 0 & 0 & 0 & 0 & 0\\\\- K_{0} \\beta_{0} - K_{0} \\beta_{1} & - K_{0} \\delta_{0} & - 2 M_{1} \\beta_{1} + \\beta_{1} \\left(2 K_{0} + 2 K_{1} + 2 M_{1}\\right) & - M_{1} \\delta_{1} + \\frac{\\delta_{1} \\left(2 K_{0} + 2 K_{1} + 2 M_{1}\\right)}{2} & - K_{1} \\beta_{1} - K_{1} \\beta_{2} & - K_{1} \\delta_{2} & 0 & 0\\\\- K_{0} \\delta_{1} & 0 & - M_{1} \\delta_{1} + \\frac{\\delta_{1} \\left(2 K_{0} + 2 K_{1} + 2 M_{1}\\right)}{2} & 0 & - K_{1} \\delta_{1} & 0 & 0 & 0\\\\0 & 0 & - K_{1} \\beta_{1} - K_{1} \\beta_{2} & - K_{1} \\delta_{1} & - 2 M_{2} \\beta_{2} + \\beta_{2} \\left(2 K_{1} + 2 K_{2} + 2 M_{2}\\right) & - M_{2} \\delta_{2} + \\frac{\\delta_{2} \\left(2 K_{1} + 2 K_{2} + 2 M_{2}\\right)}{2} & - K_{2} \\beta_{2} - K_{2} \\beta_{3} & - K_{2} \\delta_{3}\\\\0 & 0 & - K_{1} \\delta_{2} & 0 & - M_{2} \\delta_{2} + \\frac{\\delta_{2} \\left(2 K_{1} + 2 K_{2} + 2 M_{2}\\right)}{2} & 0 & - K_{2} \\delta_{2} & 0\\\\0 & 0 & 0 & 0 & - K_{2} \\beta_{2} - K_{2} \\beta_{3} & - K_{2} \\delta_{2} & - 2 M_{3} \\beta_{3} + \\beta_{3} \\left(2 K_{2} + 2 M_{3}\\right) & - M_{3} \\delta_{3} + \\frac{\\delta_{3} \\left(2 K_{2} + 2 M_{3}\\right)}{2}\\\\0 & 0 & 0 & 0 & - K_{2} \\delta_{3} & 0 & - M_{3} \\delta_{3} + \\frac{\\delta_{3} \\left(2 K_{2} + 2 M_{3}\\right)}{2} & 0\\end{matrix}\\right]$"
          },
          "metadata": {}
        }
      ]
    },
    {
      "cell_type": "markdown",
      "source": [
        "### Construct sampling map for elastic moduli\n",
        "\n",
        "#### Useful bounds\n",
        "\n",
        "\n",
        "It is known that a p.d. matrix $A$ stays p.d. after perturbation $\\Delta A$ if\n",
        "$$ \\lVert \\Delta A \\rVert_2\\lVert  A^{-1} \\rVert_2 < 1.$$\n",
        "\n",
        "Trivially, this is implied by\n",
        "$$\\lVert \\Delta A \\rVert_F^2 < \\frac{\\lvert A \\rvert^2}{\\lVert{\\text{adj }A\\rVert_F^2}}$$\n",
        "\n",
        "Additionally if one assumes diagonal structure of $A$, we obtain:\n",
        "$$\\lVert \\Delta A \\rVert_F^2 < \\frac{\\prod_i \\lvert A_i \\rvert^2}{\\sum_j\\lVert{\\text{adj }A_j\\rVert_F^2 }\\prod_{i \\neq j}\\lvert A_i \\rvert^2}$$\n",
        "\n",
        "If one further assumes that $A$ is $2\\times 2$ and symmetric, we get\n",
        "$$\\lVert \\Delta A \\rVert_F^2 < \\frac{\\prod_i (a_{i11}a_{i22} - a_{i12}^2)^2}{\\sum_j (a_{j11}^2 + 2a_{j12}^2 + a_{j22}^2)\\prod_{i \\neq j}(a_{i11}a_{i22} - a_{i12}^2)^2}$$\n",
        "\n",
        "or alternatively:\n",
        "$$\\frac{1}{\\lVert \\Delta A \\rVert_F^2} > \\sum_j \\frac{a_{j11}^2 + 2a_{j12}^2 + a_{j22}^2}{(a_{j11}a_{j22} - a_{j12}^2)^2}$$\n"
      ],
      "metadata": {
        "id": "P8yaP3ON0m-q"
      }
    },
    {
      "cell_type": "code",
      "source": [
        "DeltaQ_vectorized = DeltaQ.reshape(len(DeltaQ), 1)\n",
        "DeltaQ_F2 = DeltaQ_vectorized.dot(DeltaQ_vectorized)\n",
        "peq(\"||\\Delta{Q}||_F^2\", DeltaQ_F2.expand().collect(Ks[0]))\n",
        "P = sp.Matrix([DeltaQ_F2]).jacobian(Ks).T.jacobian(Ks) / 2\n",
        "peq(\"P\", P)\n",
        "L, D = ((P + P.T)/2).LDLdecomposition(hermitian=False)\n",
        "peq(\"LDL\", (L, D))\n",
        "\n",
        "\n",
        "print(\"The linear part is zero:\")\n",
        "peq(\"F\", sp.Matrix([DeltaQ_F2]).jacobian(Ks).subs(list(zip(Ks, [0] * (N - 1)))))\n",
        "\n",
        "\n",
        "## Let's compute the inverse\n",
        "peq(\"Q_{initial}\", Q_no_springs)\n",
        "Q_no_springs_inv = sp.diag(*[Q_no_springs[2 * i: 2 * i + 2, 2 * i: 2 * i + 2].inv() for i in range(N)])\n",
        "peq(\"Q_{initial|inverse}\", Q_no_springs_inv)\n",
        "\n",
        "Q_no_springs_inv_vec = Q_no_springs_inv.reshape(len(DeltaQ), 1)\n",
        "\n",
        "\n",
        "rhs = 1 / Q_no_springs_inv_vec.dot(Q_no_springs_inv_vec)\n",
        "\n",
        "\n",
        "# transform from unit ball that yields valid Ks\n",
        "transform = L.T.inv() @ D.inv(method=\"LU\").pow(sp.Rational(1, 2)) * sp.sqrt(rhs)\n",
        "\n"
      ],
      "metadata": {
        "colab": {
          "base_uri": "https://localhost:8080/",
          "height": 0
        },
        "id": "NLPDNebe0qg8",
        "outputId": "39183f0c-b9cd-4e2a-c2f0-22d304478abe"
      },
      "execution_count": 141,
      "outputs": [
        {
          "output_type": "display_data",
          "data": {
            "text/plain": [
              "Eq(||\\Delta{Q}||_F^2, K_0**2*(6*\\beta_0**2 + 4*\\beta_0*\\beta_1 + 6*\\beta_1**2 + 4*\\delta_0**2 + 4*\\delta_1**2) + K_0*(8*K_1*\\beta_1**2 + 4*K_1*\\delta_1**2) + 6*K_1**2*\\beta_1**2 + 4*K_1**2*\\beta_1*\\beta_2 + 6*K_1**2*\\beta_2**2 + 4*K_1**2*\\delta_1**2 + 4*K_1**2*\\delta_2**2 + 8*K_1*K_2*\\beta_2**2 + 4*K_1*K_2*\\delta_2**2 + 6*K_2**2*\\beta_2**2 + 4*K_2**2*\\beta_2*\\beta_3 + 6*K_2**2*\\beta_3**2 + 4*K_2**2*\\delta_2**2 + 4*K_2**2*\\delta_3**2)"
            ],
            "text/latex": "$\\displaystyle ||\\Delta{Q}||_F^2 = K_{0}^{2} \\left(6 \\beta_{0}^{2} + 4 \\beta_{0} \\beta_{1} + 6 \\beta_{1}^{2} + 4 \\delta_{0}^{2} + 4 \\delta_{1}^{2}\\right) + K_{0} \\left(8 K_{1} \\beta_{1}^{2} + 4 K_{1} \\delta_{1}^{2}\\right) + 6 K_{1}^{2} \\beta_{1}^{2} + 4 K_{1}^{2} \\beta_{1} \\beta_{2} + 6 K_{1}^{2} \\beta_{2}^{2} + 4 K_{1}^{2} \\delta_{1}^{2} + 4 K_{1}^{2} \\delta_{2}^{2} + 8 K_{1} K_{2} \\beta_{2}^{2} + 4 K_{1} K_{2} \\delta_{2}^{2} + 6 K_{2}^{2} \\beta_{2}^{2} + 4 K_{2}^{2} \\beta_{2} \\beta_{3} + 6 K_{2}^{2} \\beta_{3}^{2} + 4 K_{2}^{2} \\delta_{2}^{2} + 4 K_{2}^{2} \\delta_{3}^{2}$"
          },
          "metadata": {}
        },
        {
          "output_type": "display_data",
          "data": {
            "text/plain": [
              "Eq(P, Matrix([\n",
              "[4*\\beta_0**2 + 4*\\beta_1**2 + 4*\\delta_0**2 + 4*\\delta_1**2 + (-2*\\beta_0 - 2*\\beta_1)*(-\\beta_0 - \\beta_1),                                                                                4*\\beta_1**2 + 2*\\delta_1**2,                                                                                                           0],\n",
              "[                                                                               4*\\beta_1**2 + 2*\\delta_1**2, 4*\\beta_1**2 + 4*\\beta_2**2 + 4*\\delta_1**2 + 4*\\delta_2**2 + (-2*\\beta_1 - 2*\\beta_2)*(-\\beta_1 - \\beta_2),                                                                                4*\\beta_2**2 + 2*\\delta_2**2],\n",
              "[                                                                                                          0,                                                                                4*\\beta_2**2 + 2*\\delta_2**2, 4*\\beta_2**2 + 4*\\beta_3**2 + 4*\\delta_2**2 + 4*\\delta_3**2 + (-2*\\beta_2 - 2*\\beta_3)*(-\\beta_2 - \\beta_3)]]))"
            ],
            "text/latex": "$\\displaystyle P = \\left[\\begin{matrix}4 \\beta_{0}^{2} + 4 \\beta_{1}^{2} + 4 \\delta_{0}^{2} + 4 \\delta_{1}^{2} + \\left(- 2 \\beta_{0} - 2 \\beta_{1}\\right) \\left(- \\beta_{0} - \\beta_{1}\\right) & 4 \\beta_{1}^{2} + 2 \\delta_{1}^{2} & 0\\\\4 \\beta_{1}^{2} + 2 \\delta_{1}^{2} & 4 \\beta_{1}^{2} + 4 \\beta_{2}^{2} + 4 \\delta_{1}^{2} + 4 \\delta_{2}^{2} + \\left(- 2 \\beta_{1} - 2 \\beta_{2}\\right) \\left(- \\beta_{1} - \\beta_{2}\\right) & 4 \\beta_{2}^{2} + 2 \\delta_{2}^{2}\\\\0 & 4 \\beta_{2}^{2} + 2 \\delta_{2}^{2} & 4 \\beta_{2}^{2} + 4 \\beta_{3}^{2} + 4 \\delta_{2}^{2} + 4 \\delta_{3}^{2} + \\left(- 2 \\beta_{2} - 2 \\beta_{3}\\right) \\left(- \\beta_{2} - \\beta_{3}\\right)\\end{matrix}\\right]$"
          },
          "metadata": {}
        },
        {
          "output_type": "display_data",
          "data": {
            "text/plain": [
              "Eq(LDL, (Matrix([\n",
              "[                                                                                                                                           1,                                                                                                                                                                                                                                                                                              0, 0],\n",
              "[(4*\\beta_1**2 + 2*\\delta_1**2)/(4*\\beta_0**2 + 4*\\beta_1**2 + 4*\\delta_0**2 + 4*\\delta_1**2 + (-2*\\beta_0 - 2*\\beta_1)*(-\\beta_0 - \\beta_1)),                                                                                                                                                                                                                                                                                              1, 0],\n",
              "[                                                                                                                                           0, (4*\\beta_2**2 + 2*\\delta_2**2)/(4*\\beta_1**2 + 4*\\beta_2**2 + 4*\\delta_1**2 + 4*\\delta_2**2 + (-2*\\beta_1 - 2*\\beta_2)*(-\\beta_1 - \\beta_2) - (4*\\beta_1**2 + 2*\\delta_1**2)**2/(4*\\beta_0**2 + 4*\\beta_1**2 + 4*\\delta_0**2 + 4*\\delta_1**2 + (-2*\\beta_0 - 2*\\beta_1)*(-\\beta_0 - \\beta_1))), 1]]), Matrix([\n",
              "[4*\\beta_0**2 + 4*\\beta_1**2 + 4*\\delta_0**2 + 4*\\delta_1**2 + (-2*\\beta_0 - 2*\\beta_1)*(-\\beta_0 - \\beta_1),                                                                                                                                                                                                                                                             0,                                                                                                                                                                                                                                                                                                                                                                                                               0],\n",
              "[                                                                                                          0, 4*\\beta_1**2 + 4*\\beta_2**2 + 4*\\delta_1**2 + 4*\\delta_2**2 + (-2*\\beta_1 - 2*\\beta_2)*(-\\beta_1 - \\beta_2) - (4*\\beta_1**2 + 2*\\delta_1**2)**2/(4*\\beta_0**2 + 4*\\beta_1**2 + 4*\\delta_0**2 + 4*\\delta_1**2 + (-2*\\beta_0 - 2*\\beta_1)*(-\\beta_0 - \\beta_1)),                                                                                                                                                                                                                                                                                                                                                                                                               0],\n",
              "[                                                                                                          0,                                                                                                                                                                                                                                                             0, 4*\\beta_2**2 + 4*\\beta_3**2 + 4*\\delta_2**2 + 4*\\delta_3**2 + (-2*\\beta_2 - 2*\\beta_3)*(-\\beta_2 - \\beta_3) - (4*\\beta_2**2 + 2*\\delta_2**2)**2/(4*\\beta_1**2 + 4*\\beta_2**2 + 4*\\delta_1**2 + 4*\\delta_2**2 + (-2*\\beta_1 - 2*\\beta_2)*(-\\beta_1 - \\beta_2) - (4*\\beta_1**2 + 2*\\delta_1**2)**2/(4*\\beta_0**2 + 4*\\beta_1**2 + 4*\\delta_0**2 + 4*\\delta_1**2 + (-2*\\beta_0 - 2*\\beta_1)*(-\\beta_0 - \\beta_1)))]])))"
            ],
            "text/latex": "$\\displaystyle LDL = \\left( \\left[\\begin{matrix}1 & 0 & 0\\\\\\frac{4 \\beta_{1}^{2} + 2 \\delta_{1}^{2}}{4 \\beta_{0}^{2} + 4 \\beta_{1}^{2} + 4 \\delta_{0}^{2} + 4 \\delta_{1}^{2} + \\left(- 2 \\beta_{0} - 2 \\beta_{1}\\right) \\left(- \\beta_{0} - \\beta_{1}\\right)} & 1 & 0\\\\0 & \\frac{4 \\beta_{2}^{2} + 2 \\delta_{2}^{2}}{4 \\beta_{1}^{2} + 4 \\beta_{2}^{2} + 4 \\delta_{1}^{2} + 4 \\delta_{2}^{2} + \\left(- 2 \\beta_{1} - 2 \\beta_{2}\\right) \\left(- \\beta_{1} - \\beta_{2}\\right) - \\frac{\\left(4 \\beta_{1}^{2} + 2 \\delta_{1}^{2}\\right)^{2}}{4 \\beta_{0}^{2} + 4 \\beta_{1}^{2} + 4 \\delta_{0}^{2} + 4 \\delta_{1}^{2} + \\left(- 2 \\beta_{0} - 2 \\beta_{1}\\right) \\left(- \\beta_{0} - \\beta_{1}\\right)}} & 1\\end{matrix}\\right], \\  \\left[\\begin{matrix}4 \\beta_{0}^{2} + 4 \\beta_{1}^{2} + 4 \\delta_{0}^{2} + 4 \\delta_{1}^{2} + \\left(- 2 \\beta_{0} - 2 \\beta_{1}\\right) \\left(- \\beta_{0} - \\beta_{1}\\right) & 0 & 0\\\\0 & 4 \\beta_{1}^{2} + 4 \\beta_{2}^{2} + 4 \\delta_{1}^{2} + 4 \\delta_{2}^{2} + \\left(- 2 \\beta_{1} - 2 \\beta_{2}\\right) \\left(- \\beta_{1} - \\beta_{2}\\right) - \\frac{\\left(4 \\beta_{1}^{2} + 2 \\delta_{1}^{2}\\right)^{2}}{4 \\beta_{0}^{2} + 4 \\beta_{1}^{2} + 4 \\delta_{0}^{2} + 4 \\delta_{1}^{2} + \\left(- 2 \\beta_{0} - 2 \\beta_{1}\\right) \\left(- \\beta_{0} - \\beta_{1}\\right)} & 0\\\\0 & 0 & 4 \\beta_{2}^{2} + 4 \\beta_{3}^{2} + 4 \\delta_{2}^{2} + 4 \\delta_{3}^{2} + \\left(- 2 \\beta_{2} - 2 \\beta_{3}\\right) \\left(- \\beta_{2} - \\beta_{3}\\right) - \\frac{\\left(4 \\beta_{2}^{2} + 2 \\delta_{2}^{2}\\right)^{2}}{4 \\beta_{1}^{2} + 4 \\beta_{2}^{2} + 4 \\delta_{1}^{2} + 4 \\delta_{2}^{2} + \\left(- 2 \\beta_{1} - 2 \\beta_{2}\\right) \\left(- \\beta_{1} - \\beta_{2}\\right) - \\frac{\\left(4 \\beta_{1}^{2} + 2 \\delta_{1}^{2}\\right)^{2}}{4 \\beta_{0}^{2} + 4 \\beta_{1}^{2} + 4 \\delta_{0}^{2} + 4 \\delta_{1}^{2} + \\left(- 2 \\beta_{0} - 2 \\beta_{1}\\right) \\left(- \\beta_{0} - \\beta_{1}\\right)}}\\end{matrix}\\right]\\right)$"
          },
          "metadata": {}
        },
        {
          "output_type": "stream",
          "name": "stdout",
          "text": [
            "The linear part is zero:\n"
          ]
        },
        {
          "output_type": "display_data",
          "data": {
            "text/plain": [
              "Eq(F, Matrix([[0, 0, 0]]))"
            ],
            "text/latex": "$\\displaystyle F = \\left[\\begin{matrix}0 & 0 & 0\\end{matrix}\\right]$"
          },
          "metadata": {}
        },
        {
          "output_type": "display_data",
          "data": {
            "text/plain": [
              "Eq(Q_{initial}, Matrix([\n",
              "[                        2*M_0*\\beta_0, M_0*\\delta_0 + R_0*\\beta_0 - \\alpha_0,                                     0,                                     0,                                     0,                                     0,                                     0,                                     0],\n",
              "[M_0*\\delta_0 + R_0*\\beta_0 - \\alpha_0,            2*R_0*\\delta_0 - 2*\\beta_0,                                     0,                                     0,                                     0,                                     0,                                     0,                                     0],\n",
              "[                                    0,                                     0,                         2*M_1*\\beta_1, M_1*\\delta_1 + R_1*\\beta_1 - \\alpha_1,                                     0,                                     0,                                     0,                                     0],\n",
              "[                                    0,                                     0, M_1*\\delta_1 + R_1*\\beta_1 - \\alpha_1,            2*R_1*\\delta_1 - 2*\\beta_1,                                     0,                                     0,                                     0,                                     0],\n",
              "[                                    0,                                     0,                                     0,                                     0,                         2*M_2*\\beta_2, M_2*\\delta_2 + R_2*\\beta_2 - \\alpha_2,                                     0,                                     0],\n",
              "[                                    0,                                     0,                                     0,                                     0, M_2*\\delta_2 + R_2*\\beta_2 - \\alpha_2,            2*R_2*\\delta_2 - 2*\\beta_2,                                     0,                                     0],\n",
              "[                                    0,                                     0,                                     0,                                     0,                                     0,                                     0,                         2*M_3*\\beta_3, M_3*\\delta_3 + R_3*\\beta_3 - \\alpha_3],\n",
              "[                                    0,                                     0,                                     0,                                     0,                                     0,                                     0, M_3*\\delta_3 + R_3*\\beta_3 - \\alpha_3,            2*R_3*\\delta_3 - 2*\\beta_3]]))"
            ],
            "text/latex": "$\\displaystyle Q_{initial} = \\left[\\begin{matrix}2 M_{0} \\beta_{0} & M_{0} \\delta_{0} + R_{0} \\beta_{0} - \\alpha_{0} & 0 & 0 & 0 & 0 & 0 & 0\\\\M_{0} \\delta_{0} + R_{0} \\beta_{0} - \\alpha_{0} & 2 R_{0} \\delta_{0} - 2 \\beta_{0} & 0 & 0 & 0 & 0 & 0 & 0\\\\0 & 0 & 2 M_{1} \\beta_{1} & M_{1} \\delta_{1} + R_{1} \\beta_{1} - \\alpha_{1} & 0 & 0 & 0 & 0\\\\0 & 0 & M_{1} \\delta_{1} + R_{1} \\beta_{1} - \\alpha_{1} & 2 R_{1} \\delta_{1} - 2 \\beta_{1} & 0 & 0 & 0 & 0\\\\0 & 0 & 0 & 0 & 2 M_{2} \\beta_{2} & M_{2} \\delta_{2} + R_{2} \\beta_{2} - \\alpha_{2} & 0 & 0\\\\0 & 0 & 0 & 0 & M_{2} \\delta_{2} + R_{2} \\beta_{2} - \\alpha_{2} & 2 R_{2} \\delta_{2} - 2 \\beta_{2} & 0 & 0\\\\0 & 0 & 0 & 0 & 0 & 0 & 2 M_{3} \\beta_{3} & M_{3} \\delta_{3} + R_{3} \\beta_{3} - \\alpha_{3}\\\\0 & 0 & 0 & 0 & 0 & 0 & M_{3} \\delta_{3} + R_{3} \\beta_{3} - \\alpha_{3} & 2 R_{3} \\delta_{3} - 2 \\beta_{3}\\end{matrix}\\right]$"
          },
          "metadata": {}
        },
        {
          "output_type": "display_data",
          "data": {
            "text/plain": [
              "Eq(Q_{initial|inverse}, Matrix([\n",
              "[          (-2*R_0*\\delta_0 + 2*\\beta_0)/(M_0**2*\\delta_0**2 - 2*M_0*R_0*\\beta_0*\\delta_0 - 2*M_0*\\alpha_0*\\delta_0 + 4*M_0*\\beta_0**2 + R_0**2*\\beta_0**2 - 2*R_0*\\alpha_0*\\beta_0 + \\alpha_0**2), (M_0*\\delta_0 + R_0*\\beta_0 - \\alpha_0)/(M_0**2*\\delta_0**2 - 2*M_0*R_0*\\beta_0*\\delta_0 - 2*M_0*\\alpha_0*\\delta_0 + 4*M_0*\\beta_0**2 + R_0**2*\\beta_0**2 - 2*R_0*\\alpha_0*\\beta_0 + \\alpha_0**2),                                                                                                                                                                                                 0,                                                                                                                                                                                                 0,                                                                                                                                                                                                 0,                                                                                                                                                                                                 0,                                                                                                                                                                                                 0,                                                                                                                                                                                                 0],\n",
              "[(M_0*\\delta_0 + R_0*\\beta_0 - \\alpha_0)/(M_0**2*\\delta_0**2 - 2*M_0*R_0*\\beta_0*\\delta_0 - 2*M_0*\\alpha_0*\\delta_0 + 4*M_0*\\beta_0**2 + R_0**2*\\beta_0**2 - 2*R_0*\\alpha_0*\\beta_0 + \\alpha_0**2),                          -2*M_0*\\beta_0/(M_0**2*\\delta_0**2 - 2*M_0*R_0*\\beta_0*\\delta_0 - 2*M_0*\\alpha_0*\\delta_0 + 4*M_0*\\beta_0**2 + R_0**2*\\beta_0**2 - 2*R_0*\\alpha_0*\\beta_0 + \\alpha_0**2),                                                                                                                                                                                                 0,                                                                                                                                                                                                 0,                                                                                                                                                                                                 0,                                                                                                                                                                                                 0,                                                                                                                                                                                                 0,                                                                                                                                                                                                 0],\n",
              "[                                                                                                                                                                                                0,                                                                                                                                                                                                 0,           (-2*R_1*\\delta_1 + 2*\\beta_1)/(M_1**2*\\delta_1**2 - 2*M_1*R_1*\\beta_1*\\delta_1 - 2*M_1*\\alpha_1*\\delta_1 + 4*M_1*\\beta_1**2 + R_1**2*\\beta_1**2 - 2*R_1*\\alpha_1*\\beta_1 + \\alpha_1**2), (M_1*\\delta_1 + R_1*\\beta_1 - \\alpha_1)/(M_1**2*\\delta_1**2 - 2*M_1*R_1*\\beta_1*\\delta_1 - 2*M_1*\\alpha_1*\\delta_1 + 4*M_1*\\beta_1**2 + R_1**2*\\beta_1**2 - 2*R_1*\\alpha_1*\\beta_1 + \\alpha_1**2),                                                                                                                                                                                                 0,                                                                                                                                                                                                 0,                                                                                                                                                                                                 0,                                                                                                                                                                                                 0],\n",
              "[                                                                                                                                                                                                0,                                                                                                                                                                                                 0, (M_1*\\delta_1 + R_1*\\beta_1 - \\alpha_1)/(M_1**2*\\delta_1**2 - 2*M_1*R_1*\\beta_1*\\delta_1 - 2*M_1*\\alpha_1*\\delta_1 + 4*M_1*\\beta_1**2 + R_1**2*\\beta_1**2 - 2*R_1*\\alpha_1*\\beta_1 + \\alpha_1**2),                          -2*M_1*\\beta_1/(M_1**2*\\delta_1**2 - 2*M_1*R_1*\\beta_1*\\delta_1 - 2*M_1*\\alpha_1*\\delta_1 + 4*M_1*\\beta_1**2 + R_1**2*\\beta_1**2 - 2*R_1*\\alpha_1*\\beta_1 + \\alpha_1**2),                                                                                                                                                                                                 0,                                                                                                                                                                                                 0,                                                                                                                                                                                                 0,                                                                                                                                                                                                 0],\n",
              "[                                                                                                                                                                                                0,                                                                                                                                                                                                 0,                                                                                                                                                                                                 0,                                                                                                                                                                                                 0,           (-2*R_2*\\delta_2 + 2*\\beta_2)/(M_2**2*\\delta_2**2 - 2*M_2*R_2*\\beta_2*\\delta_2 - 2*M_2*\\alpha_2*\\delta_2 + 4*M_2*\\beta_2**2 + R_2**2*\\beta_2**2 - 2*R_2*\\alpha_2*\\beta_2 + \\alpha_2**2), (M_2*\\delta_2 + R_2*\\beta_2 - \\alpha_2)/(M_2**2*\\delta_2**2 - 2*M_2*R_2*\\beta_2*\\delta_2 - 2*M_2*\\alpha_2*\\delta_2 + 4*M_2*\\beta_2**2 + R_2**2*\\beta_2**2 - 2*R_2*\\alpha_2*\\beta_2 + \\alpha_2**2),                                                                                                                                                                                                 0,                                                                                                                                                                                                 0],\n",
              "[                                                                                                                                                                                                0,                                                                                                                                                                                                 0,                                                                                                                                                                                                 0,                                                                                                                                                                                                 0, (M_2*\\delta_2 + R_2*\\beta_2 - \\alpha_2)/(M_2**2*\\delta_2**2 - 2*M_2*R_2*\\beta_2*\\delta_2 - 2*M_2*\\alpha_2*\\delta_2 + 4*M_2*\\beta_2**2 + R_2**2*\\beta_2**2 - 2*R_2*\\alpha_2*\\beta_2 + \\alpha_2**2),                          -2*M_2*\\beta_2/(M_2**2*\\delta_2**2 - 2*M_2*R_2*\\beta_2*\\delta_2 - 2*M_2*\\alpha_2*\\delta_2 + 4*M_2*\\beta_2**2 + R_2**2*\\beta_2**2 - 2*R_2*\\alpha_2*\\beta_2 + \\alpha_2**2),                                                                                                                                                                                                 0,                                                                                                                                                                                                 0],\n",
              "[                                                                                                                                                                                                0,                                                                                                                                                                                                 0,                                                                                                                                                                                                 0,                                                                                                                                                                                                 0,                                                                                                                                                                                                 0,                                                                                                                                                                                                 0,           (-2*R_3*\\delta_3 + 2*\\beta_3)/(M_3**2*\\delta_3**2 - 2*M_3*R_3*\\beta_3*\\delta_3 - 2*M_3*\\alpha_3*\\delta_3 + 4*M_3*\\beta_3**2 + R_3**2*\\beta_3**2 - 2*R_3*\\alpha_3*\\beta_3 + \\alpha_3**2), (M_3*\\delta_3 + R_3*\\beta_3 - \\alpha_3)/(M_3**2*\\delta_3**2 - 2*M_3*R_3*\\beta_3*\\delta_3 - 2*M_3*\\alpha_3*\\delta_3 + 4*M_3*\\beta_3**2 + R_3**2*\\beta_3**2 - 2*R_3*\\alpha_3*\\beta_3 + \\alpha_3**2)],\n",
              "[                                                                                                                                                                                                0,                                                                                                                                                                                                 0,                                                                                                                                                                                                 0,                                                                                                                                                                                                 0,                                                                                                                                                                                                 0,                                                                                                                                                                                                 0, (M_3*\\delta_3 + R_3*\\beta_3 - \\alpha_3)/(M_3**2*\\delta_3**2 - 2*M_3*R_3*\\beta_3*\\delta_3 - 2*M_3*\\alpha_3*\\delta_3 + 4*M_3*\\beta_3**2 + R_3**2*\\beta_3**2 - 2*R_3*\\alpha_3*\\beta_3 + \\alpha_3**2),                          -2*M_3*\\beta_3/(M_3**2*\\delta_3**2 - 2*M_3*R_3*\\beta_3*\\delta_3 - 2*M_3*\\alpha_3*\\delta_3 + 4*M_3*\\beta_3**2 + R_3**2*\\beta_3**2 - 2*R_3*\\alpha_3*\\beta_3 + \\alpha_3**2)]]))"
            ],
            "text/latex": "$\\displaystyle Q_{initial|inverse} = \\left[\\begin{matrix}\\frac{- 2 R_{0} \\delta_{0} + 2 \\beta_{0}}{M_{0}^{2} \\delta_{0}^{2} - 2 M_{0} R_{0} \\beta_{0} \\delta_{0} - 2 M_{0} \\alpha_{0} \\delta_{0} + 4 M_{0} \\beta_{0}^{2} + R_{0}^{2} \\beta_{0}^{2} - 2 R_{0} \\alpha_{0} \\beta_{0} + \\alpha_{0}^{2}} & \\frac{M_{0} \\delta_{0} + R_{0} \\beta_{0} - \\alpha_{0}}{M_{0}^{2} \\delta_{0}^{2} - 2 M_{0} R_{0} \\beta_{0} \\delta_{0} - 2 M_{0} \\alpha_{0} \\delta_{0} + 4 M_{0} \\beta_{0}^{2} + R_{0}^{2} \\beta_{0}^{2} - 2 R_{0} \\alpha_{0} \\beta_{0} + \\alpha_{0}^{2}} & 0 & 0 & 0 & 0 & 0 & 0\\\\\\frac{M_{0} \\delta_{0} + R_{0} \\beta_{0} - \\alpha_{0}}{M_{0}^{2} \\delta_{0}^{2} - 2 M_{0} R_{0} \\beta_{0} \\delta_{0} - 2 M_{0} \\alpha_{0} \\delta_{0} + 4 M_{0} \\beta_{0}^{2} + R_{0}^{2} \\beta_{0}^{2} - 2 R_{0} \\alpha_{0} \\beta_{0} + \\alpha_{0}^{2}} & - \\frac{2 M_{0} \\beta_{0}}{M_{0}^{2} \\delta_{0}^{2} - 2 M_{0} R_{0} \\beta_{0} \\delta_{0} - 2 M_{0} \\alpha_{0} \\delta_{0} + 4 M_{0} \\beta_{0}^{2} + R_{0}^{2} \\beta_{0}^{2} - 2 R_{0} \\alpha_{0} \\beta_{0} + \\alpha_{0}^{2}} & 0 & 0 & 0 & 0 & 0 & 0\\\\0 & 0 & \\frac{- 2 R_{1} \\delta_{1} + 2 \\beta_{1}}{M_{1}^{2} \\delta_{1}^{2} - 2 M_{1} R_{1} \\beta_{1} \\delta_{1} - 2 M_{1} \\alpha_{1} \\delta_{1} + 4 M_{1} \\beta_{1}^{2} + R_{1}^{2} \\beta_{1}^{2} - 2 R_{1} \\alpha_{1} \\beta_{1} + \\alpha_{1}^{2}} & \\frac{M_{1} \\delta_{1} + R_{1} \\beta_{1} - \\alpha_{1}}{M_{1}^{2} \\delta_{1}^{2} - 2 M_{1} R_{1} \\beta_{1} \\delta_{1} - 2 M_{1} \\alpha_{1} \\delta_{1} + 4 M_{1} \\beta_{1}^{2} + R_{1}^{2} \\beta_{1}^{2} - 2 R_{1} \\alpha_{1} \\beta_{1} + \\alpha_{1}^{2}} & 0 & 0 & 0 & 0\\\\0 & 0 & \\frac{M_{1} \\delta_{1} + R_{1} \\beta_{1} - \\alpha_{1}}{M_{1}^{2} \\delta_{1}^{2} - 2 M_{1} R_{1} \\beta_{1} \\delta_{1} - 2 M_{1} \\alpha_{1} \\delta_{1} + 4 M_{1} \\beta_{1}^{2} + R_{1}^{2} \\beta_{1}^{2} - 2 R_{1} \\alpha_{1} \\beta_{1} + \\alpha_{1}^{2}} & - \\frac{2 M_{1} \\beta_{1}}{M_{1}^{2} \\delta_{1}^{2} - 2 M_{1} R_{1} \\beta_{1} \\delta_{1} - 2 M_{1} \\alpha_{1} \\delta_{1} + 4 M_{1} \\beta_{1}^{2} + R_{1}^{2} \\beta_{1}^{2} - 2 R_{1} \\alpha_{1} \\beta_{1} + \\alpha_{1}^{2}} & 0 & 0 & 0 & 0\\\\0 & 0 & 0 & 0 & \\frac{- 2 R_{2} \\delta_{2} + 2 \\beta_{2}}{M_{2}^{2} \\delta_{2}^{2} - 2 M_{2} R_{2} \\beta_{2} \\delta_{2} - 2 M_{2} \\alpha_{2} \\delta_{2} + 4 M_{2} \\beta_{2}^{2} + R_{2}^{2} \\beta_{2}^{2} - 2 R_{2} \\alpha_{2} \\beta_{2} + \\alpha_{2}^{2}} & \\frac{M_{2} \\delta_{2} + R_{2} \\beta_{2} - \\alpha_{2}}{M_{2}^{2} \\delta_{2}^{2} - 2 M_{2} R_{2} \\beta_{2} \\delta_{2} - 2 M_{2} \\alpha_{2} \\delta_{2} + 4 M_{2} \\beta_{2}^{2} + R_{2}^{2} \\beta_{2}^{2} - 2 R_{2} \\alpha_{2} \\beta_{2} + \\alpha_{2}^{2}} & 0 & 0\\\\0 & 0 & 0 & 0 & \\frac{M_{2} \\delta_{2} + R_{2} \\beta_{2} - \\alpha_{2}}{M_{2}^{2} \\delta_{2}^{2} - 2 M_{2} R_{2} \\beta_{2} \\delta_{2} - 2 M_{2} \\alpha_{2} \\delta_{2} + 4 M_{2} \\beta_{2}^{2} + R_{2}^{2} \\beta_{2}^{2} - 2 R_{2} \\alpha_{2} \\beta_{2} + \\alpha_{2}^{2}} & - \\frac{2 M_{2} \\beta_{2}}{M_{2}^{2} \\delta_{2}^{2} - 2 M_{2} R_{2} \\beta_{2} \\delta_{2} - 2 M_{2} \\alpha_{2} \\delta_{2} + 4 M_{2} \\beta_{2}^{2} + R_{2}^{2} \\beta_{2}^{2} - 2 R_{2} \\alpha_{2} \\beta_{2} + \\alpha_{2}^{2}} & 0 & 0\\\\0 & 0 & 0 & 0 & 0 & 0 & \\frac{- 2 R_{3} \\delta_{3} + 2 \\beta_{3}}{M_{3}^{2} \\delta_{3}^{2} - 2 M_{3} R_{3} \\beta_{3} \\delta_{3} - 2 M_{3} \\alpha_{3} \\delta_{3} + 4 M_{3} \\beta_{3}^{2} + R_{3}^{2} \\beta_{3}^{2} - 2 R_{3} \\alpha_{3} \\beta_{3} + \\alpha_{3}^{2}} & \\frac{M_{3} \\delta_{3} + R_{3} \\beta_{3} - \\alpha_{3}}{M_{3}^{2} \\delta_{3}^{2} - 2 M_{3} R_{3} \\beta_{3} \\delta_{3} - 2 M_{3} \\alpha_{3} \\delta_{3} + 4 M_{3} \\beta_{3}^{2} + R_{3}^{2} \\beta_{3}^{2} - 2 R_{3} \\alpha_{3} \\beta_{3} + \\alpha_{3}^{2}}\\\\0 & 0 & 0 & 0 & 0 & 0 & \\frac{M_{3} \\delta_{3} + R_{3} \\beta_{3} - \\alpha_{3}}{M_{3}^{2} \\delta_{3}^{2} - 2 M_{3} R_{3} \\beta_{3} \\delta_{3} - 2 M_{3} \\alpha_{3} \\delta_{3} + 4 M_{3} \\beta_{3}^{2} + R_{3}^{2} \\beta_{3}^{2} - 2 R_{3} \\alpha_{3} \\beta_{3} + \\alpha_{3}^{2}} & - \\frac{2 M_{3} \\beta_{3}}{M_{3}^{2} \\delta_{3}^{2} - 2 M_{3} R_{3} \\beta_{3} \\delta_{3} - 2 M_{3} \\alpha_{3} \\delta_{3} + 4 M_{3} \\beta_{3}^{2} + R_{3}^{2} \\beta_{3}^{2} - 2 R_{3} \\alpha_{3} \\beta_{3} + \\alpha_{3}^{2}}\\end{matrix}\\right]$"
          },
          "metadata": {}
        }
      ]
    },
    {
      "cell_type": "code",
      "source": [
        "transform_matrix = sp.lambdify(alphas + betas + deltas + Ms + Rs, transform)"
      ],
      "metadata": {
        "id": "ZKzmvHEIkBxz"
      },
      "execution_count": 142,
      "outputs": []
    },
    {
      "cell_type": "markdown",
      "source": [
        "### Test"
      ],
      "metadata": {
        "id": "nINj3Jl_1Fj6"
      }
    },
    {
      "cell_type": "code",
      "source": [
        "def generate_abdMR(size, range_=10):\n",
        "    res = np.random.random(size=size * 5).reshape(size, 5) * range_\n",
        "    for i in range(size):\n",
        "        _, beta, _, M, R = res[i]\n",
        "\n",
        "        res[i, 0] += M * beta / R,\n",
        "        alpha = res[i, 0]\n",
        "\n",
        "        res[i, 2] *= length_d(alpha, beta, M, R) / range_\n",
        "        res[i, 2] += bottom_d(alpha, beta, M, R)\n",
        "    return res\n",
        "\n",
        "\n",
        "def sample_unit_ball(dim=N-1):\n",
        "    while True:\n",
        "        res = np.random.random(size=dim) * 2 - 1\n",
        "        if res @ res < 1:\n",
        "            return res\n",
        "\n",
        "\n",
        "\n",
        "def gen_params(size, range_=30):\n",
        "    samples = []\n",
        "    for i in range(size):\n",
        "        params = generate_abdMR(N, range_=range_)\n",
        "        alphas_, betas_, deltas_, Ms_, Rs_ = params.T.tolist()\n",
        "        transform_ = transform_matrix(*(alphas_ + betas_ + deltas_ + Ms_ + Rs_))\n",
        "        p = sample_unit_ball()\n",
        "        subs = dict(zip(alphas + betas + deltas + Ms + Rs, params.T.flatten().tolist()))\n",
        "        subs.update(dict(zip(Ks, (transform_ @ p).tolist())))\n",
        "        samples.append(subs)\n",
        "    return samples\n",
        "\n",
        "\n",
        "num_tests = 30\n",
        "params = gen_params(num_tests)\n",
        "\n",
        "count_both_pd = 0\n",
        "for param in tqdm(params):\n",
        "    print(param)\n",
        "    c_ = c_stripped.subs(param)\n",
        "    V_ = V.subs(param)\n",
        "    res =  is_pd(c_) and is_pd(V_)\n",
        "    count_both_pd += res\n",
        "    if not res:\n",
        "        print(is_pd(c_, return_counterex=True)[1],\n",
        "              is_pd(V_, return_counterex=True)[1])\n",
        "        print(V_, c_, sep=' | ')\n",
        "\n",
        "print(f\"\\nRandom tests passed: {count_both_pd}/{num_tests}\")\n",
        "\n",
        "\n",
        "\n",
        "\n"
      ],
      "metadata": {
        "id": "h8DPC-LNWjlz",
        "colab": {
          "base_uri": "https://localhost:8080/"
        },
        "outputId": "c618d7ec-d868-4925-869f-5345abc62237"
      },
      "execution_count": 143,
      "outputs": [
        {
          "output_type": "stream",
          "name": "stderr",
          "text": [
            "<ipython-input-143-4002124431bb>:6: DeprecationWarning: Conversion of an array with ndim > 0 to a scalar is deprecated, and will error in future. Ensure you extract a single element from your array before performing this operation. (Deprecated NumPy 1.25.)\n",
            "  res[i, 0] += M * beta / R,\n",
            "  0%|          | 0/30 [00:00<?, ?it/s]"
          ]
        },
        {
          "output_type": "stream",
          "name": "stdout",
          "text": [
            "{\\alpha_0: 34.277606694252704, \\alpha_1: 20.880863702700008, \\alpha_2: 28.077015689514266, \\alpha_3: 16.364188947593284, \\beta_0: 24.45956975050775, \\beta_1: 0.6879623302624049, \\beta_2: 1.3248585981845373, \\beta_3: 21.20093652112663, \\delta_0: 67.13259720850346, \\delta_1: 2.096700436695644, \\delta_2: 0.5061310249642229, \\delta_3: 58.6745103085628, M_0: 12.739454016694852, M_1: 13.326979191805833, M_2: 22.736656990278163, M_3: 8.125452572331, R_0: 25.029921760781594, R_1: 5.031009046006153, R_2: 8.174735220513199, R_3: 22.4651209382709, K_0: -0.006882255151145188, K_1: -0.005391613179342192, K_2: 0.0019229835790989334}\n"
          ]
        },
        {
          "output_type": "stream",
          "name": "stderr",
          "text": [
            "\r  3%|▎         | 1/30 [00:00<00:07,  3.71it/s]"
          ]
        },
        {
          "output_type": "stream",
          "name": "stdout",
          "text": [
            "{\\alpha_0: 38.4682545786093, \\alpha_1: 33.91126339265964, \\alpha_2: 46.45675852470047, \\alpha_3: 25.497638027020756, \\beta_0: 27.906646334835983, \\beta_1: 27.71316952590236, \\beta_2: 24.421920612329078, \\beta_3: 20.855673123116933, \\delta_0: 58.632158205288626, \\delta_1: 84.45682959034502, \\delta_2: 33.750540352202364, \\delta_3: 37.35303464330934, M_0: 10.140594846733675, M_1: 10.524582568465394, M_2: 14.490263208067741, M_3: 7.928096886896078, R_0: 27.19782710609107, R_1: 29.84166575166868, R_2: 18.605913885213234, R_3: 9.817250658268922, K_0: -0.0011562200469330203, K_1: 0.005957003811186741, K_2: 0.010711112394275578}\n"
          ]
        },
        {
          "output_type": "stream",
          "name": "stderr",
          "text": [
            "\r  7%|▋         | 2/30 [00:00<00:07,  3.79it/s]"
          ]
        },
        {
          "output_type": "stream",
          "name": "stdout",
          "text": [
            "{\\alpha_0: 34.05518317402976, \\alpha_1: 36.285493108992185, \\alpha_2: 2.9778449856569553, \\alpha_3: 25.629532521242616, \\beta_0: 16.275200901595976, \\beta_1: 19.450403356859866, \\beta_2: 2.648182572630249, \\beta_3: 8.494108371317706, \\delta_0: 8.556056668209916, \\delta_1: 28.73960726397914, \\delta_2: 6.422493592558516, \\delta_3: 206.3234346127519, M_0: 24.24044735024095, M_1: 8.744119855809137, M_2: 13.614404657002652, M_3: 0.9876123750965526, R_0: 17.238096944469362, R_1: 17.80586054625638, R_2: 29.073039103876372, R_3: 29.566357213663967, K_0: 0.00041126081842526754, K_1: -5.271085142103462e-06, K_2: 0.001357494884360702}\n"
          ]
        },
        {
          "output_type": "stream",
          "name": "stderr",
          "text": [
            "\r 10%|█         | 3/30 [00:00<00:07,  3.63it/s]"
          ]
        },
        {
          "output_type": "stream",
          "name": "stdout",
          "text": [
            "{\\alpha_0: 21.344213458454817, \\alpha_1: 25.46347899316505, \\alpha_2: 17.203213792412974, \\alpha_3: 16.45757177962424, \\beta_0: 22.66800035313949, \\beta_1: 6.540266436761483, \\beta_2: 1.1065528536901625, \\beta_3: 1.8373782703089303, \\delta_0: 31.97393639883498, \\delta_1: 24.181961872711955, \\delta_2: 1.4075576014665603, \\delta_3: 1.5619059913856834, M_0: 19.216110709286205, M_1: 1.9946248600109473, M_2: 19.06887921295235, M_3: 2.937866112169644, R_0: 26.231964168872786, R_1: 9.533033141803472, R_2: 2.017155131289845, R_3: 2.827415756070466, K_0: 0.000521465556894371, K_1: -0.00035928859878729783, K_2: 0.013066805043572357}\n"
          ]
        },
        {
          "output_type": "stream",
          "name": "stderr",
          "text": [
            "\r 13%|█▎        | 4/30 [00:01<00:07,  3.71it/s]"
          ]
        },
        {
          "output_type": "stream",
          "name": "stdout",
          "text": [
            "{\\alpha_0: 38.02011049660784, \\alpha_1: 17.744682601254045, \\alpha_2: 6.0594721725715015, \\alpha_3: 29.94713938874145, \\beta_0: 25.77018989738351, \\beta_1: 16.75188826409045, \\beta_2: 18.82265720181707, \\beta_3: 6.860946830848945, \\delta_0: 25.009372668031673, \\delta_1: 26.683104771985974, \\delta_2: 336.68090533840495, \\delta_3: 22.2810908024173, M_0: 11.640000469530328, M_1: 13.174199872847371, M_2: 0.8922258310639908, M_3: 9.246275094353582, R_0: 14.888210497017296, R_1: 16.667067301831736, R_2: 16.794290458238034, R_3: 24.761542343098547, K_0: 0.001136568928703476, K_1: -0.00016870633786503689, K_2: 0.0007086643062018385}\n"
          ]
        },
        {
          "output_type": "stream",
          "name": "stderr",
          "text": [
            "\r 17%|█▋        | 5/30 [00:01<00:06,  3.75it/s]"
          ]
        },
        {
          "output_type": "stream",
          "name": "stdout",
          "text": [
            "{\\alpha_0: 59.0218830037561, \\alpha_1: 28.254488119110277, \\alpha_2: 17.66461129169969, \\alpha_3: 35.47816927280522, \\beta_0: 29.93165756098774, \\beta_1: 11.656349681794286, \\beta_2: 15.720952270029118, \\beta_3: 13.116183115161878, \\delta_0: 17.402370796261458, \\delta_1: 9.595776137656358, \\delta_2: 19.624133194365804, \\delta_3: 16.7698911478618, M_0: 17.05740479505309, M_1: 5.376960035564137, M_2: 24.162869435944124, M_3: 10.00454591737949, R_0: 9.184534933093879, R_1: 2.72934497521561, R_2: 28.588396992528928, R_3: 8.301033005273206, K_0: 0.008395295369385871, K_1: 0.014261610616277271, K_2: -0.008317277233107634}\n"
          ]
        },
        {
          "output_type": "stream",
          "name": "stderr",
          "text": [
            "\r 20%|██        | 6/30 [00:01<00:06,  3.78it/s]"
          ]
        },
        {
          "output_type": "stream",
          "name": "stdout",
          "text": [
            "{\\alpha_0: 34.7753289403842, \\alpha_1: 46.71342508522199, \\alpha_2: 96.11717012713383, \\alpha_3: 24.317008132075067, \\beta_0: 16.323634491114603, \\beta_1: 27.272400593741168, \\beta_2: 12.223302654537354, \\beta_3: 1.8592023309282868, \\delta_0: 23.87614037944278, \\delta_1: 27.210567764111193, \\delta_2: 13.216301680053668, \\delta_3: 1.4406584247123395, M_0: 19.14250660064846, M_1: 10.769889720544318, M_2: 7.341408954438277, M_3: 23.765152026618406, R_0: 19.32325071294885, R_1: 13.40665364603564, R_2: 0.9705254176167244, R_3: 9.148699258874968, K_0: -0.0009257256065477607, K_1: 0.0027820447820857673, K_2: -0.004758636210915328}\n"
          ]
        },
        {
          "output_type": "stream",
          "name": "stderr",
          "text": [
            "\r 23%|██▎       | 7/30 [00:01<00:06,  3.75it/s]"
          ]
        },
        {
          "output_type": "stream",
          "name": "stdout",
          "text": [
            "{\\alpha_0: 25.093674619000684, \\alpha_1: 12.423475952467726, \\alpha_2: 41.46150961073502, \\alpha_3: 2.1908219439893353, \\beta_0: 5.878446620467105, \\beta_1: 1.8123095858718952, \\beta_2: 24.47158320224217, \\beta_3: 12.990467429756482, \\delta_0: 9.99652825619655, \\delta_1: 4.4449854214079, \\delta_2: 31.997386715294414, \\delta_3: 129.25541528139786, M_0: 9.224212704199413, M_1: 19.489107726307065, M_2: 17.41449818073641, M_3: 2.2748814076113897, R_0: 7.0976001425173525, R_1: 23.71172990967276, R_2: 23.51087462096736, R_3: 22.639571369441786, K_0: -0.002845443592908924, K_1: -0.001148036807841141, K_2: -0.00020196233381608526}\n"
          ]
        },
        {
          "output_type": "stream",
          "name": "stderr",
          "text": [
            "\r 27%|██▋       | 8/30 [00:02<00:05,  3.79it/s]"
          ]
        },
        {
          "output_type": "stream",
          "name": "stdout",
          "text": [
            "{\\alpha_0: 22.66554030298816, \\alpha_1: 26.6376046395503, \\alpha_2: 24.417894387116895, \\alpha_3: 24.309351801862835, \\beta_0: 0.9813760348016121, \\beta_1: 8.764451367818975, \\beta_2: 7.114635977744807, \\beta_3: 9.58227830322626, \\delta_0: 2.022697441959528, \\delta_1: 7.273929273522244, \\delta_2: 5.886980757009504, \\delta_3: 19.160826168313925, M_0: 20.01848177386054, M_1: 23.31938552869351, M_2: 21.585613119310885, M_3: 7.990903766739056, R_0: 18.71588316196646, R_1: 11.938186624785024, R_2: 23.41398062385963, R_3: 11.727984259274617, K_0: -0.049963574069329136, K_1: 0.08600844987766296, K_2: -0.0007120223031889391}\n"
          ]
        },
        {
          "output_type": "stream",
          "name": "stderr",
          "text": [
            "\r 30%|███       | 9/30 [00:02<00:05,  3.82it/s]"
          ]
        },
        {
          "output_type": "stream",
          "name": "stdout",
          "text": [
            "{\\alpha_0: 502.37518428714156, \\alpha_1: 39.90702641556433, \\alpha_2: 29.47675413941349, \\alpha_3: 8.814225912650048, \\beta_0: 23.58163636465988, \\beta_1: 22.98313279575528, \\beta_2: 22.636983955557014, \\beta_3: 25.239568287344216, \\delta_0: 22.844950347916395, \\delta_1: 21.158562842869276, \\delta_2: 4164.953486640209, \\delta_3: 169.7848354094738, M_0: 22.067379353330658, M_1: 13.687988204505126, M_2: 0.14377938045039174, M_3: 0.8601857553458103, R_0: 1.0476754626514462, R_1: 10.30819220739695, R_2: 28.71785948484957, R_3: 4.581664962091305, K_0: 0.0002271598765345948, K_1: -2.8385118014225816e-07, K_2: 2.1457544627070117e-06}\n"
          ]
        },
        {
          "output_type": "stream",
          "name": "stderr",
          "text": [
            "\r 33%|███▎      | 10/30 [00:02<00:05,  3.82it/s]"
          ]
        },
        {
          "output_type": "stream",
          "name": "stdout",
          "text": [
            "{\\alpha_0: 738.5151858981104, \\alpha_1: 13.386820916845922, \\alpha_2: 44.06712646691608, \\alpha_3: 48.08861076834535, \\beta_0: 11.541216258347713, \\beta_1: 29.83866514279559, \\beta_2: 7.9229087573890595, \\beta_3: 20.57346653836385, \\delta_0: 55.74185131810094, \\delta_1: 271.4223138121347, \\delta_2: 6.492860700110578, \\delta_3: 21.838905605255405, M_0: 13.052072603012034, M_1: 1.940553607490193, M_2: 26.014206796785107, M_3: 15.56002985198043, R_0: 0.21208917321613785, R_1: 18.11149086677543, R_2: 9.416215208564907, R_3: 13.215109098829407, K_0: -0.00030649937159917434, K_1: -1.6546639903513574e-05, K_2: -0.0015194277204048049}\n"
          ]
        },
        {
          "output_type": "stream",
          "name": "stderr",
          "text": [
            "\r 37%|███▋      | 11/30 [00:02<00:05,  3.78it/s]"
          ]
        },
        {
          "output_type": "stream",
          "name": "stdout",
          "text": [
            "{\\alpha_0: 10.221120723853735, \\alpha_1: 8.879930523422836, \\alpha_2: 31.25089598163506, \\alpha_3: 36.32879241333747, \\beta_0: 2.214927071620547, \\beta_1: 8.456997376884393, \\beta_2: 16.580181281815303, \\beta_3: 29.27483136202855, \\delta_0: 1.975514825124163, \\delta_1: 30.02753280123157, \\delta_2: 13.117791067129001, \\delta_3: 33.55805331710303, M_0: 16.16630603589475, M_1: 6.120611398915291, M_2: 20.72742383472232, M_3: 14.010018797883236, R_0: 9.061547300724587, R_1: 20.2192354038725, R_2: 12.689304723688357, R_3: 16.104752511714132, K_0: -0.008098729229404801, K_1: -0.004919612109444374, K_2: -0.004795993660948755}\n"
          ]
        },
        {
          "output_type": "stream",
          "name": "stderr",
          "text": [
            "\r 40%|████      | 12/30 [00:03<00:04,  3.79it/s]"
          ]
        },
        {
          "output_type": "stream",
          "name": "stdout",
          "text": [
            "{\\alpha_0: 19.59140208086587, \\alpha_1: 94.8565366306997, \\alpha_2: 31.80624104629181, \\alpha_3: 30.456167813038405, \\beta_0: 14.267632675083407, \\beta_1: 26.49685071323921, \\beta_2: 20.00363550009159, \\beta_3: 16.03051046246109, \\delta_0: 69.71971657267481, \\delta_1: 18.84015032092651, \\delta_2: 20.26397478894263, \\delta_3: 27.976398212991498, M_0: 3.7941667985400915, M_1: 27.05636706769919, M_2: 15.025025267245283, M_3: 10.837995832204154, R_0: 18.94603231729417, R_1: 10.965915492156276, R_2: 20.603271221803414, R_3: 15.839325504022776, K_0: 0.007657050173021068, K_1: 0.006640131165111074, K_2: -0.019669218383781824}\n"
          ]
        },
        {
          "output_type": "stream",
          "name": "stderr",
          "text": [
            "\r 43%|████▎     | 13/30 [00:03<00:05,  3.28it/s]"
          ]
        },
        {
          "output_type": "stream",
          "name": "stdout",
          "text": [
            "{\\alpha_0: 14.441132860378953, \\alpha_1: 386.70380544609486, \\alpha_2: 32.407095659303195, \\alpha_3: 20.13648731911978, \\beta_0: 17.397930882076945, \\beta_1: 12.759380709252051, \\beta_2: 6.732901481092393, \\beta_3: 18.745131903234494, \\delta_0: 69.39492470799493, \\delta_1: 18.364592749794642, \\delta_2: 2.5929316008576047, \\delta_3: 46.65444554386521, M_0: 3.857240585620534, M_1: 21.457186608916565, M_2: 21.666994785746514, M_3: 10.498218558906036, R_0: 20.068173399942722, R_1: 0.7362245581219229, R_2: 9.009694806176174, R_3: 25.173977120095202, K_0: 0.0007514215726029985, K_1: -0.010244768736994, K_2: 0.00513975620383135}\n"
          ]
        },
        {
          "output_type": "stream",
          "name": "stderr",
          "text": [
            "\r 47%|████▋     | 14/30 [00:04<00:05,  2.88it/s]"
          ]
        },
        {
          "output_type": "stream",
          "name": "stdout",
          "text": [
            "{\\alpha_0: 99.45624058518777, \\alpha_1: 42.54772103210712, \\alpha_2: 139.73882122996324, \\alpha_3: 15.76758258388956, \\beta_0: 29.892508187097825, \\beta_1: 27.30513267492594, \\beta_2: 29.80323655793495, \\beta_3: 3.9625593373802026, \\delta_0: 12.353694632444522, \\delta_1: 24.110180494146746, \\delta_2: 11.182492845952934, \\delta_3: 7.276109139535629, M_0: 27.782454923364995, M_1: 8.264659161409751, M_2: 26.940760641136354, M_3: 3.1142423076835146, R_0: 9.225072950450667, R_1: 7.026706489571707, R_2: 6.610397128025926, R_3: 1.0455452327693882, K_0: 0.0025367935220797517, K_1: 0.0063021926589693425, K_2: 0.002423494950150676}\n"
          ]
        },
        {
          "output_type": "stream",
          "name": "stderr",
          "text": [
            "\r 50%|█████     | 15/30 [00:04<00:05,  2.70it/s]"
          ]
        },
        {
          "output_type": "stream",
          "name": "stdout",
          "text": [
            "{\\alpha_0: 23.559045182449587, \\alpha_1: 29.218329813534318, \\alpha_2: 46.79583431854408, \\alpha_3: 46.897165319760894, \\beta_0: 17.694524689688738, \\beta_1: 4.651675968543011, \\beta_2: 9.905746232061185, \\beta_3: 24.99432702532321, \\delta_0: 14.681991389505754, \\delta_1: 2.040981988077558, \\delta_2: 3.7049163830953655, \\delta_3: 15.372891343050716, M_0: 7.0314714869986545, M_1: 18.736927463095878, M_2: 13.049835468401243, M_3: 25.31455928253194, R_0: 7.962457561323745, R_1: 17.705321902732095, R_2: 5.9686016209645025, R_3: 16.792424478317297, K_0: 0.0012296646725483006, K_1: 0.019553717554719467, K_2: 0.01085925900156452}\n"
          ]
        },
        {
          "output_type": "stream",
          "name": "stderr",
          "text": [
            "\r 53%|█████▎    | 16/30 [00:04<00:05,  2.60it/s]"
          ]
        },
        {
          "output_type": "stream",
          "name": "stdout",
          "text": [
            "{\\alpha_0: 135.03989344126902, \\alpha_1: 48.634455569719265, \\alpha_2: 26.560669408650114, \\alpha_3: 31.798218920835293, \\beta_0: 28.60320878919717, \\beta_1: 14.259186141506348, \\beta_2: 20.065391425584178, \\beta_3: 17.273000936447303, \\delta_0: 11.004720184258264, \\delta_1: 5.961231464840036, \\delta_2: 25.697992909383647, \\delta_3: 41.120737561152346, M_0: 19.038831191334296, M_1: 27.780429496596096, M_2: 18.21470133399392, M_3: 14.16466630960827, R_0: 4.190263113240307, R_1: 13.018280006491715, R_2: 22.493951408840108, R_3: 25.923720969618746, K_0: 0.0002786864880559333, K_1: -0.00028508909326622496, K_2: 0.001036977493913984}\n"
          ]
        },
        {
          "output_type": "stream",
          "name": "stderr",
          "text": [
            "\r 57%|█████▋    | 17/30 [00:05<00:05,  2.42it/s]"
          ]
        },
        {
          "output_type": "stream",
          "name": "stdout",
          "text": [
            "{\\alpha_0: 13.302094424094319, \\alpha_1: 13.208514410777955, \\alpha_2: 25.761450419977635, \\alpha_3: 39.49400359684287, \\beta_0: 8.819189555371084, \\beta_1: 10.0525267738042, \\beta_2: 1.987473066504024, \\beta_3: 20.29925414368217, \\delta_0: 9.469112465449578, \\delta_1: 203.7000173545859, \\delta_2: 2.6861174153479017, \\delta_3: 23.95057759137938, M_0: 8.981110274701674, M_1: 0.7807612387530471, M_2: 9.864973866588874, M_3: 13.583454240738822, R_0: 6.592523729875781, R_1: 15.411515742789103, R_2: 15.438225367661778, R_3: 17.059796476801456, K_0: 0.0005403184060218989, K_1: -0.00018816610002927794, K_2: 0.002620400840433427}\n"
          ]
        },
        {
          "output_type": "stream",
          "name": "stderr",
          "text": [
            "\r 60%|██████    | 18/30 [00:05<00:05,  2.36it/s]"
          ]
        },
        {
          "output_type": "stream",
          "name": "stdout",
          "text": [
            "{\\alpha_0: 30.55372012430609, \\alpha_1: 16.29809150554751, \\alpha_2: 14.689616976760302, \\alpha_3: 31.096731462909887, \\beta_0: 20.377503719253042, \\beta_1: 3.5871867379582847, \\beta_2: 13.403746767518658, \\beta_3: 16.3158692820742, \\delta_0: 454.1226246661838, \\delta_1: 1.7985027540868725, \\delta_2: 13.254186577813936, \\delta_3: 13.524816974222773, M_0: 1.318418504189115, M_1: 22.96279707221865, M_2: 25.44070324525999, M_3: 22.12782685173597, R_0: 19.584904277550446, R_1: 19.34140572311477, R_2: 23.53984180660584, R_3: 14.535288004615683, K_0: -3.934782580274358e-05, K_1: -0.003294923887051143, K_2: 0.00034407319612299596}\n"
          ]
        },
        {
          "output_type": "stream",
          "name": "stderr",
          "text": [
            "\r 63%|██████▎   | 19/30 [00:06<00:04,  2.57it/s]"
          ]
        },
        {
          "output_type": "stream",
          "name": "stdout",
          "text": [
            "{\\alpha_0: 25.087494786197922, \\alpha_1: 223.1249496726884, \\alpha_2: 69.59049561351274, \\alpha_3: 10.701509132060261, \\beta_0: 1.9747534400768774, \\beta_1: 17.942660565476782, \\beta_2: 22.5381435996307, \\beta_3: 7.000379629262367, \\delta_0: 10.752594863419514, \\delta_1: 10.37873889200234, \\delta_2: 13.44107098943537, \\delta_3: 4.945809805046278, M_0: 11.557951067537797, M_1: 26.595998356579322, M_2: 21.951177285131326, M_3: 21.099022014389988, R_0: 29.456086471695226, R_1: 2.270155708581215, R_2: 8.790727576083073, R_3: 14.681685350989536, K_0: -0.006081957164741871, K_1: -0.0014291926470019203, K_2: -0.0006891910661895593}\n"
          ]
        },
        {
          "output_type": "stream",
          "name": "stderr",
          "text": [
            "\r 67%|██████▋   | 20/30 [00:06<00:03,  2.85it/s]"
          ]
        },
        {
          "output_type": "stream",
          "name": "stdout",
          "text": [
            "{\\alpha_0: 34.126791268962634, \\alpha_1: 57.56002738814875, \\alpha_2: 57.21610376662891, \\alpha_3: 48.0009785553668, \\beta_0: 15.46796686001, \\beta_1: 11.167007173914335, \\beta_2: 19.734576317531534, \\beta_3: 20.211799742397247, \\delta_0: 18.99502927225327, \\delta_1: 8.480927450803668, \\delta_2: 11.319874386124365, \\delta_3: 24.97160528367406, M_0: 10.248524360759477, M_1: 8.080718311634623, M_2: 12.465295084356775, M_3: 15.166904538618615, R_0: 14.413824112431834, R_1: 1.6148182333864747, R_2: 5.0253098130249505, R_3: 16.177898894791188, K_0: 0.00036914640064503575, K_1: -0.00012884155140000604, K_2: -0.000573706998969958}\n"
          ]
        },
        {
          "output_type": "stream",
          "name": "stderr",
          "text": [
            "\r 70%|███████   | 21/30 [00:06<00:02,  3.09it/s]"
          ]
        },
        {
          "output_type": "stream",
          "name": "stdout",
          "text": [
            "{\\alpha_0: 11.451005840702745, \\alpha_1: 63.21875260539964, \\alpha_2: 15.866121983105, \\alpha_3: 37.59090602635068, \\beta_0: 16.919898929363796, \\beta_1: 29.17079801335518, \\beta_2: 22.92927749999715, \\beta_3: 24.401237832028098, \\delta_0: 38.60549731681995, \\delta_1: 22.863412421762888, \\delta_2: 66.46649721448146, \\delta_3: 79.90417038428956, M_0: 10.688779122480831, M_1: 26.099128796138064, M_2: 3.9969699482999346, M_3: 10.120549393869762, R_0: 27.786171653642533, R_1: 17.545015610357144, R_2: 12.855290624725312, R_3: 23.316413097275273, K_0: -0.009589123388167638, K_1: 0.0011513067408846097, K_2: 0.0010689964876676764}\n"
          ]
        },
        {
          "output_type": "stream",
          "name": "stderr",
          "text": [
            "\r 73%|███████▎  | 22/30 [00:06<00:02,  3.26it/s]"
          ]
        },
        {
          "output_type": "stream",
          "name": "stdout",
          "text": [
            "{\\alpha_0: 35.212979823479564, \\alpha_1: 209.31481858019737, \\alpha_2: 26.003065719273053, \\alpha_3: 59.75386837661567, \\beta_0: 3.4540697114674446, \\beta_1: 6.443728855364119, \\beta_2: 16.435745938776364, \\beta_3: 29.171487018457725, \\delta_0: 2.6698581508338806, \\delta_1: 9.626438144021552, \\delta_2: 15.517346226618663, \\delta_3: 35.493593002966335, M_0: 18.789682681741155, M_1: 23.49354883054592, M_2: 24.224053555761003, M_3: 18.311139782896156, R_0: 11.080725132766482, R_1: 0.8218038671441963, R_2: 28.41860315958728, R_3: 16.669552631466743, K_0: -0.03817675182687281, K_1: -0.0030510319781882644, K_2: -0.0005852300973626181}\n"
          ]
        },
        {
          "output_type": "stream",
          "name": "stderr",
          "text": [
            "\r 77%|███████▋  | 23/30 [00:07<00:02,  3.37it/s]"
          ]
        },
        {
          "output_type": "stream",
          "name": "stdout",
          "text": [
            "{\\alpha_0: 9.285807982714935, \\alpha_1: 41.122735837972556, \\alpha_2: 29.270152987021756, \\alpha_3: 345.1571679656683, \\beta_0: 2.3334409928482147, \\beta_1: 27.112047941672948, \\beta_2: 23.185515503556644, \\beta_3: 10.240614957491124, \\delta_0: 4.7681917541411964, \\delta_1: 74.2443515165246, \\delta_2: 210.11348929620803, \\delta_3: 26.327139600411687, M_0: 17.837801185109907, M_1: 8.974965337414812, M_2: 1.824582168008383, M_3: 13.184874388585268, R_0: 22.815011794168356, R_1: 19.06473121575827, R_2: 11.619490188383663, R_3: 0.3972194785748673, K_0: 0.00037904115055781, K_1: 0.00012834640879961598, K_2: 0.0004823757154032654}\n"
          ]
        },
        {
          "output_type": "stream",
          "name": "stderr",
          "text": [
            "\r 80%|████████  | 24/30 [00:07<00:01,  3.50it/s]"
          ]
        },
        {
          "output_type": "stream",
          "name": "stdout",
          "text": [
            "{\\alpha_0: 34.84551038216558, \\alpha_1: 29.082546767646072, \\alpha_2: 13.03282386229943, \\alpha_3: 48.69960026568367, \\beta_0: 21.578901341288237, \\beta_1: 14.75419352111565, \\beta_2: 13.899353761669659, \\beta_3: 18.89351059884067, \\delta_0: 39.46431856002456, \\delta_1: 26.350260125508843, \\delta_2: 75.22093883584608, \\delta_3: 18.265695615406567, M_0: 3.5096735417915106, M_1: 9.79172718406502, M_2: 3.228412253340892, M_3: 25.044096257156383, R_0: 5.254316237028824, R_1: 25.84912901743321, R_2: 15.959474706421194, R_3: 25.13780912610362, K_0: -0.00395164310938686, K_1: 0.012859929825590572, K_2: -0.0074864943178167215}\n"
          ]
        },
        {
          "output_type": "stream",
          "name": "stderr",
          "text": [
            "\r 83%|████████▎ | 25/30 [00:07<00:01,  3.60it/s]"
          ]
        },
        {
          "output_type": "stream",
          "name": "stdout",
          "text": [
            "{\\alpha_0: 50.85866740164577, \\alpha_1: 3.947997030018812, \\alpha_2: 55.9304222915475, \\alpha_3: 63.82802538702435, \\beta_0: 9.322702148299115, \\beta_1: 9.470012863041035, \\beta_2: 26.423177916762846, \\beta_3: 20.327746351488642, \\delta_0: 7.448494943658749, \\delta_1: 43.40048071995046, \\delta_2: 21.249687279198294, \\delta_3: 12.489045003080726, M_0: 22.677365806004968, M_1: 4.9956822994515235, M_2: 24.10614711764099, M_3: 21.71730248734111, R_0: 7.2095494527587, R_1: 24.880209033169287, R_2: 14.358734477414078, R_3: 9.906305916789641, K_0: -0.0012659749395730507, K_1: 0.0045517956772478385, K_2: -0.004361734525694222}\n"
          ]
        },
        {
          "output_type": "stream",
          "name": "stderr",
          "text": [
            "\r 87%|████████▋ | 26/30 [00:07<00:01,  3.68it/s]"
          ]
        },
        {
          "output_type": "stream",
          "name": "stdout",
          "text": [
            "{\\alpha_0: 7.102936322490451, \\alpha_1: 59.7787727332031, \\alpha_2: 11.513533843823458, \\alpha_3: 35.588855892723764, \\beta_0: 2.1489055798228094, \\beta_1: 27.153862226202037, \\beta_2: 10.667212046550556, \\beta_3: 27.637116568051724, \\delta_0: 3.3481301653928512, \\delta_1: 25.136533647429978, \\delta_2: 13.96001695364201, \\delta_3: 46.04552779650991, M_0: 24.540246580546512, M_1: 22.54820667207473, M_2: 21.140593481843627, M_3: 15.895484196735435, R_0: 25.954002534282374, R_1: 16.463171779848157, R_2: 24.660959155046395, R_3: 26.111586785600206, K_0: 0.00958765642662516, K_1: 0.00015824753300561762, K_2: -0.004336601203974587}\n"
          ]
        },
        {
          "output_type": "stream",
          "name": "stderr",
          "text": [
            "\r 90%|█████████ | 27/30 [00:08<00:00,  3.67it/s]"
          ]
        },
        {
          "output_type": "stream",
          "name": "stdout",
          "text": [
            "{\\alpha_0: 28.792481345270804, \\alpha_1: 30.653245217078968, \\alpha_2: 517.7256698344212, \\alpha_3: 57.21918640884629, \\beta_0: 26.49368531040898, \\beta_1: 5.148908083837558, \\beta_2: 11.206644013796087, \\beta_3: 23.26278396756464, \\delta_0: 28.531992624406147, \\delta_1: 3.6336835729047388, \\delta_2: 21.659328686986438, \\delta_3: 15.385548243455752, M_0: 27.814299467907663, M_1: 10.347301237390965, M_2: 24.51233717891026, M_3: 25.13639844161087, R_0: 27.81355764552709, R_1: 16.149986415735693, R_2: 0.5536047936873334, R_3: 13.109473977882418, K_0: -0.0014370144637797933, K_1: 0.005556916848558052, K_2: -0.0031509288069354784}\n"
          ]
        },
        {
          "output_type": "stream",
          "name": "stderr",
          "text": [
            "\r 93%|█████████▎| 28/30 [00:08<00:00,  3.72it/s]"
          ]
        },
        {
          "output_type": "stream",
          "name": "stdout",
          "text": [
            "{\\alpha_0: 34.710658362964345, \\alpha_1: 28.984379049194665, \\alpha_2: 27.76183624916264, \\alpha_3: 27.437009868905943, \\beta_0: 16.881805986924135, \\beta_1: 5.673613326953786, \\beta_2: 4.691644841968346, \\beta_3: 14.23789234830454, \\delta_0: 9.866448439628531, \\delta_1: 11.156146551392334, \\delta_2: 1.7628614343952393, \\delta_3: 13.100021200179395, M_0: 18.408079818141378, M_1: 7.8145007729662, M_2: 25.87698190139883, M_3: 28.0296448650059, R_0: 12.97445582109412, R_1: 8.062177250457257, R_2: 8.114866930281382, R_3: 25.18156369556972, K_0: -0.0011140547834222181, K_1: 0.05072885403766256, K_2: 0.05686596652125608}\n"
          ]
        },
        {
          "output_type": "stream",
          "name": "stderr",
          "text": [
            "\r 97%|█████████▋| 29/30 [00:08<00:00,  3.75it/s]"
          ]
        },
        {
          "output_type": "stream",
          "name": "stdout",
          "text": [
            "{\\alpha_0: 23.505809930734852, \\alpha_1: 16.04578148982907, \\alpha_2: 139.16974848545323, \\alpha_3: 81.84754939761847, \\beta_0: 19.19460965813764, \\beta_1: 14.076239268070985, \\beta_2: 14.658762056350675, \\beta_3: 5.917869836156491, \\delta_0: 46.707974583142224, \\delta_1: 60.578022411768515, \\delta_2: 9.020060891158597, \\delta_3: 11.37724706200821, M_0: 10.294182314013877, M_1: 7.502536218355354, M_2: 23.45438218525349, M_3: 7.426255005806289, R_0: 29.58332696560804, R_1: 26.386702326103396, R_2: 2.8024743115617943, R_3: 0.6660865585602027, K_0: 0.0082614911582716, K_1: -0.004489990501297457, K_2: 0.0044498661097712245}\n"
          ]
        },
        {
          "output_type": "stream",
          "name": "stderr",
          "text": [
            "100%|██████████| 30/30 [00:08<00:00,  3.33it/s]"
          ]
        },
        {
          "output_type": "stream",
          "name": "stdout",
          "text": [
            "\n",
            "Random tests passed: 30/30\n"
          ]
        },
        {
          "output_type": "stream",
          "name": "stderr",
          "text": [
            "\n"
          ]
        }
      ]
    }
  ]
}
