{
  "nbformat": 4,
  "nbformat_minor": 0,
  "metadata": {
    "colab": {
      "provenance": [],
      "gpuType": "T4"
    },
    "kernelspec": {
      "name": "python3",
      "display_name": "Python 3"
    },
    "language_info": {
      "name": "python"
    },
    "accelerator": "GPU"
  },
  "cells": [
    {
      "cell_type": "markdown",
      "source": [
        "# Preliminaries\n",
        "(Installations, imports, definitions. Don't read, just run it.)"
      ],
      "metadata": {
        "id": "frFAJyqwvCVZ"
      }
    },
    {
      "cell_type": "code",
      "source": [
        "!pip install z3-solver"
      ],
      "metadata": {
        "id": "-Y_p8T0DtQp3",
        "colab": {
          "base_uri": "https://localhost:8080/"
        },
        "outputId": "1303dde1-76af-4cb7-a81a-686517f6dedd"
      },
      "execution_count": null,
      "outputs": [
        {
          "output_type": "stream",
          "name": "stdout",
          "text": [
            "Requirement already satisfied: z3-solver in /usr/local/lib/python3.11/dist-packages (4.14.1.0)\n"
          ]
        }
      ]
    },
    {
      "cell_type": "code",
      "source": [
        "import sympy as sp\n",
        "from IPython.display import display\n",
        "\n",
        "\n",
        "x, y, u = sp.symbols('x y u')\n",
        "a, b, d, e, p, q  = sp.symbols('a b d e p q')\n",
        "\n",
        "\n",
        "def lie(field, F):\n",
        "    vars = sorted(list(filter(lambda s: 'x' in s.name or 'y' in s.name, F.free_symbols)),\n",
        "                  key=lambda s: s.name)\n",
        "    xs, ys = vars[:len(vars)//2], vars[len(vars)//2:]\n",
        "    vars = [val for pair in zip(xs, ys) for val in pair]\n",
        "    print(vars)\n",
        "    return (sp.Matrix([F]).jacobian(vars) @ field)\n",
        "\n",
        "def fc_from_VGH(V, G, H, u=sp.Matrix([u])):\n",
        "    f = sp.Rational(1, 4) * G @ lie(G, V).T - H\n",
        "    c = lie(H, V)[0] + (u @ u)[0]\n",
        "    return f, c.simplify().collect([y])\n",
        "\n",
        "def peq(var, rhss):\n",
        "    \"\"\"pretty prints expresions of the kind $A = F(X, Y, Z)$\"\"\"\n",
        "    if not isinstance(var, list):\n",
        "        var = var.split()\n",
        "    var_symbs = sp.symbols(\" \".join(var))\n",
        "    if len(var) == 1:\n",
        "        var_symbs = [var_symbs]\n",
        "        rhss = [rhss]\n",
        "    for var_symb, rhs in zip(var_symbs, rhss):\n",
        "        with sp.evaluate(False):\n",
        "            display(sp.Eq(var_symb, rhs))\n",
        "\n",
        "# assumes we're dealing with \"concatenated cranks\"\n",
        "def print_problem(V, f, g, c, u=sp.Matrix([u])):\n",
        "    peq('V', V)\n",
        "    if not len(f) == 2:\n",
        "        peq(\" \".join([f'\\dot{{x}}_{{{i}}} \\dot{{y}}_{{{i}}}' for i in range(len(f) // 2)]), f + g @ u)\n",
        "    else:\n",
        "        peq(\"\\dot{x} \\dot{y}\", f + g @ u)\n",
        "    peq('c', c)\n",
        "\n",
        "import sympy as sp\n",
        "import z3\n",
        "from typing import List, Dict, Tuple, Union, Optional\n",
        "\n",
        "def sympy_to_z3(expr, variables_map: Dict[str, z3.ArithRef] = None) -> z3.ExprRef:\n",
        "    \"\"\"\n",
        "    Convert a sympy expression to a Z3 expression.\n",
        "\n",
        "    Args:\n",
        "        expr: A sympy expression\n",
        "        variables_map: A dictionary mapping sympy variable names to Z3 variables\n",
        "\n",
        "    Returns:\n",
        "        The equivalent Z3 expression\n",
        "    \"\"\"\n",
        "    if variables_map is None:\n",
        "        variables_map = {}\n",
        "\n",
        "    # Handle constants\n",
        "    if expr.is_number:\n",
        "        return z3.RealVal(float(expr))\n",
        "\n",
        "    # Handle symbols (variables)\n",
        "    if expr.is_Symbol:\n",
        "        var_name = expr.name\n",
        "        if var_name not in variables_map:\n",
        "            variables_map[var_name] = z3.Real(var_name)\n",
        "        return variables_map[var_name]\n",
        "\n",
        "    # Handle addition\n",
        "    if expr.is_Add:\n",
        "        result = z3.RealVal(0)\n",
        "        for arg in expr.args:\n",
        "            result = result + sympy_to_z3(arg, variables_map)\n",
        "        return result\n",
        "\n",
        "    # Handle multiplication\n",
        "    if expr.is_Mul:\n",
        "        result = z3.RealVal(1)\n",
        "        for arg in expr.args:\n",
        "            result = result * sympy_to_z3(arg, variables_map)\n",
        "        return result\n",
        "\n",
        "    # Handle power\n",
        "    if expr.is_Pow:\n",
        "        base = sympy_to_z3(expr.base, variables_map)\n",
        "        exp = expr.exp\n",
        "\n",
        "        # Only handle integer exponents for simplicity\n",
        "        if exp.is_Integer:\n",
        "            exp_val = int(exp)\n",
        "            return base ** exp_val\n",
        "        elif isinstance(exp, sp.Rational):\n",
        "            return z3.Sqrt(base)\n",
        "    # if isinstance(expr, sp.cos):\n",
        "    #     print(\"*cos*\")\n",
        "    #     return z3.cos(sympy_to_z3(expr.args[0], variables_map))\n",
        "\n",
        "    # Handle subtraction (will be converted to addition with negative coefficient)\n",
        "\n",
        "    # Handle division\n",
        "    if isinstance(expr, sp.Mul) and any(arg.is_Pow and arg.exp.is_negative for arg in expr.args):\n",
        "        # Extract the numerator and denominator\n",
        "        num, den = sp.fraction(expr)\n",
        "        return sympy_to_z3(num, variables_map) / sympy_to_z3(den, variables_map)\n",
        "\n",
        "    # Add more operations as needed\n",
        "\n",
        "    raise ValueError(f\"Unsupported expression type: {type(expr)}\")\n",
        "\n",
        "def sympy_relation_to_z3(relation, variables_map: Dict[str, z3.ArithRef] = None) -> z3.BoolRef:\n",
        "    \"\"\"\n",
        "    Convert a sympy relation to a Z3 constraint.\n",
        "\n",
        "    Args:\n",
        "        relation: A sympy relation (>, >=, =, <, <=, !=)\n",
        "        variables_map: A dictionary mapping sympy variable names to Z3 variables\n",
        "\n",
        "    Returns:\n",
        "        The equivalent Z3 constraint\n",
        "    \"\"\"\n",
        "    if variables_map is None:\n",
        "        variables_map = {}\n",
        "\n",
        "    # Check if relation is an actual sympy relational object\n",
        "    if not isinstance(relation, sp.Rel):\n",
        "        raise TypeError(f\"Expected a sympy relational object, got {type(relation)}. Make sure you're using sympy relations and not Python's built-in comparisons.\")\n",
        "\n",
        "    # Get the left and right hand sides\n",
        "    lhs, rhs = relation.lhs, relation.rhs\n",
        "\n",
        "    # Convert to Z3 expressions\n",
        "    z3_lhs = sympy_to_z3(lhs, variables_map)\n",
        "    z3_rhs = sympy_to_z3(rhs, variables_map)\n",
        "\n",
        "    # Create the appropriate Z3 constraint based on the relation type\n",
        "    if isinstance(relation, sp.Gt):  # >\n",
        "        return z3_lhs > z3_rhs\n",
        "    elif isinstance(relation, sp.Ge):  # >=\n",
        "        return z3_lhs >= z3_rhs\n",
        "    elif isinstance(relation, sp.Eq):  # =\n",
        "        return z3_lhs == z3_rhs\n",
        "    elif isinstance(relation, sp.Lt):  # <\n",
        "        return z3_lhs < z3_rhs\n",
        "    elif isinstance(relation, sp.Le):  # <=\n",
        "        return z3_lhs <= z3_rhs\n",
        "    elif isinstance(relation, sp.Ne):  # !=\n",
        "        return z3_lhs != z3_rhs\n",
        "    else:\n",
        "        raise ValueError(f\"Unsupported relation type: {type(relation)}\")\n",
        "\n",
        "def ensure_sympy_relation(rel):\n",
        "    \"\"\"\n",
        "    Ensure that the input is a sympy relational object.\n",
        "    If it's already a sympy relation, return it.\n",
        "    If it's a boolean, raise an error with a helpful message.\n",
        "\n",
        "    Args:\n",
        "        rel: A potential sympy relation\n",
        "\n",
        "    Returns:\n",
        "        The input if it's a sympy relation\n",
        "\n",
        "    Raises:\n",
        "        TypeError: If the input is not a sympy relation\n",
        "    \"\"\"\n",
        "    if isinstance(rel, sp.Rel):\n",
        "        return rel\n",
        "    elif isinstance(rel, bool):\n",
        "        raise TypeError(\n",
        "            \"Received a Python boolean instead of a sympy relation. \"\n",
        "            \"This often happens when using '==' with sympy symbols. \"\n",
        "            \"Use sp.Eq(x, y) instead of x == y to ensure you get a sympy relational object.\"\n",
        "        )\n",
        "    else:\n",
        "        raise TypeError(f\"Expected a sympy relational object, got {type(rel)}.\")\n",
        "\n",
        "def is_satisfiable(relations: List[sp.Rel], return_counterex=False) -> Tuple[bool, Optional[Dict[str, float]]]:\n",
        "    \"\"\"\n",
        "    Check if a list of sympy relations are simultaneously satisfiable.\n",
        "\n",
        "    Args:\n",
        "        relations: A list of sympy relations\n",
        "\n",
        "    Returns:\n",
        "        A tuple containing:\n",
        "            - A boolean indicating if the relations are satisfiable\n",
        "            - If satisfiable, a dictionary mapping variable names to values\n",
        "              that satisfy all relations. If not satisfiable, None.\n",
        "    \"\"\"\n",
        "    # Create Z3 solver\n",
        "    solver = z3.Solver()\n",
        "\n",
        "    # Map to keep track of variables\n",
        "    variables_map = {}\n",
        "\n",
        "    # Convert each relation to Z3 and add to solver\n",
        "    for relation in relations:\n",
        "        # Ensure we have a sympy relation\n",
        "        relation = ensure_sympy_relation(relation)\n",
        "        z3_constraint = sympy_relation_to_z3(relation, variables_map)\n",
        "        solver.add(z3_constraint)\n",
        "\n",
        "    # Check satisfiability\n",
        "    result = solver.check()\n",
        "    # print(result)\n",
        "    if result == z3.sat:\n",
        "        # Get the model (a satisfying assignment)\n",
        "        model = solver.model()\n",
        "\n",
        "        # Convert model to a Python dictionary\n",
        "        solution = {}\n",
        "        for var_name, z3_var in variables_map.items():\n",
        "            if model[z3_var] is not None:\n",
        "                solution[var_name] = float(model[z3_var].as_decimal(10).replace('?', ''))\n",
        "\n",
        "        return (True, solution) if return_counterex else True\n",
        "    else:\n",
        "        return (False, None) if return_counterex else False\n",
        "\n",
        "\n",
        "def not_(relations):\n",
        "    return list(map(lambda s: ~s, relations))\n",
        "\n",
        "\n",
        "def remove_control(expr): ## assuming SISO\n",
        "    return expr.subs(u, 0)\n",
        "\n",
        "def is_pd(F, verbose=False, return_counterex=False):\n",
        "    F = remove_control(F)\n",
        "    zero_at_origin = F.subs({key : 0 for key in F.free_symbols}).simplify() == 0\n",
        "    if not zero_at_origin:\n",
        "        if verbose:\n",
        "            print(F, \"is not zero at the origin.\")\n",
        "        return (False, None) if return_counterex else False\n",
        "    v = sp.Matrix(list(F.free_symbols))\n",
        "    if not v:\n",
        "        print(F, \"has non-positive values everywhere.\")\n",
        "        return (False, None) if return_counterex else False\n",
        "    has_nonpos_val, counterex = is_satisfiable([(v.T @ v)[0] > 0, F <= 0],\n",
        "                                                      return_counterex=True)\n",
        "    if has_nonpos_val and verbose:\n",
        "        print(F, \"has a non-positive value at\", counterex)\n",
        "\n",
        "    return (not has_nonpos_val, counterex) if return_counterex else not has_nonpos_val\n",
        "\n",
        "\n",
        "\n",
        "def is_psd(F, verbose=False, return_counterex=False):\n",
        "    F = remove_control(F)\n",
        "    zero_at_origin = F.subs({key : 0 for key in F.free_symbols}).simplify() == 0\n",
        "    if not zero_at_origin:\n",
        "        if verbose:\n",
        "            print(F, \"is not zero at the origin.\")\n",
        "        return (False, None) if return_counterex else False\n",
        "    has_neg_val, counterex = is_satisfiable([F < 0],\n",
        "                                            return_counterex=True)\n",
        "    if has_neg_val and verbose:\n",
        "        print(F, \"has a negative value at\", counterex)\n",
        "\n",
        "    return (not has_neg_val, counterex) if return_counterex else not has_neg_val\n",
        "\n",
        "\n",
        "def check_pd(V, c):\n",
        "    V_, c_ = sp.symbols(['V', 'c'])\n",
        "    res = {}\n",
        "    for symb, val in zip([V_, c_], [V, c]):\n",
        "        print(\"Checking positive-definitness of\", symb, \"...\")\n",
        "        pd, counterex = is_pd(val, verbose=True, return_counterex=True)\n",
        "        if pd:\n",
        "            print(\"Confirmed.\", symb, \"is positive-definite.\\n\")\n",
        "        else:\n",
        "            print(\"Refuted.\", symb, \"is NOT positive-definite.\\n\")\n",
        "        res[str(symb)] = [pd, counterex]\n",
        "    return res\n",
        "\n",
        "\n",
        "def pd_feasibility(V, c):\n",
        "    c = remove_control(c)\n",
        "    V_z3  = sympy_to_z3(V)\n",
        "    c_z3  = sympy_to_z3(c)\n",
        "    return z3.solve([z3.ForAll([z3.Real(x.name), z3.Real(y.name)],\n",
        "                               z3.Implies(z3.Real(x.name) ** 2 + z3.Real(y.name) ** 2 > 0,\n",
        "                                          z3.And(V_z3 > 0, c_z3 > 0)))])\n",
        "\n",
        "\n",
        "\n",
        "\n"
      ],
      "metadata": {
        "id": "1_9FJNCCvM_h"
      },
      "execution_count": null,
      "outputs": []
    },
    {
      "cell_type": "markdown",
      "source": [
        "# Crank Environments"
      ],
      "metadata": {
        "id": "pGNhbYt3vK27"
      }
    },
    {
      "cell_type": "markdown",
      "source": [],
      "metadata": {
        "id": "iIq7aip61Bjs"
      }
    },
    {
      "cell_type": "code",
      "source": [
        "## PREPARE FOR RADICAL RENAMING OF PARAMETERS\n",
        "\n",
        "M, R = sp.symbols('M R')\n",
        "a, b, d = sp.symbols('a b d')\n",
        "\n",
        "\n",
        "V = a * x ** 2 + 2 * b * x * y +  d * y ** 2\n",
        "G = sp.Matrix([0, sp.cos(x)])\n",
        "H = sp.Matrix([-y,  M*x + R * y + (sp.Rational(1, 4) * G @ G.T @ sp.Matrix([V]).jacobian([x, y]).T)[1]])\n",
        "\n",
        "print(sp.Matrix([V]).jacobian([x, y]).T)\n",
        "\n",
        "peq('H', H)\n",
        "\n",
        "f, c = fc_from_VGH(V, G, H)\n",
        "\n",
        "print_problem(V, f, G, c)\n",
        "\n",
        "\n",
        "c_stripped = c.subs(u, 0).subs(sp.cos(x), 0).expand().collect([x, y])\n",
        "peq(\"c_{stripped}\", c_stripped)\n",
        "\n",
        "m11 = c_stripped.coeff(x, 2)\n",
        "m12 = c_stripped.coeff(x, 1).diff(y) / 2\n",
        "m21 = m12\n",
        "m22 = c_stripped.coeff(x, 0).diff(y).diff(y) / 2\n",
        "\n",
        "criteria = [m11 > 0, m11 * m22 - m21 * m12 > 0,\n",
        "            a > 0, a * d - b ** 2 > 0]\n",
        "\n",
        "print(criteria)\n",
        "\n",
        "big_rel = (m11 * m22 - m21 * m12).expand().collect(d)\n",
        "C = big_rel.coeff(d, 0)\n",
        "B = big_rel.coeff(d, 1)\n",
        "A = big_rel.coeff(d, 2)\n",
        "\n",
        "D = (B**2 - 4 * A * C).simplify()\n",
        "\n",
        "peq('D', D)\n",
        "\n",
        "D_root = sp.symbols('D_root')\n",
        "\n",
        "\n",
        "better_criteria = [M > 0, R > 0, b > 0, a > M * b / R,\n",
        "                   d > (-B + D_root) / (2 * A),\n",
        "                   d < (-B - D_root) / (2 * A),\n",
        "                   sp.Eq(D_root * D_root, D)]\n",
        "print(better_criteria)\n",
        "\n",
        "## formal testing\n",
        "x_z3 = z3.Real(x.name)\n",
        "y_z3 = z3.Real(y.name)\n",
        "\n",
        "better_criteria_are_satisfied = z3.And(*list(map(sympy_relation_to_z3, better_criteria)))\n",
        "but_original_criteria_are_not_satisfied = z3.Not(z3.And(*list(map(sympy_relation_to_z3, criteria))))\n",
        "print(\"Improved criteria are satisfiable:\", is_satisfiable(better_criteria))\n",
        "print(\"It is possible for the original criteria to be unsatisfied:\", is_satisfiable(not_(criteria)))\n",
        "print(\"It is possible that improved criteria are satisfied while original criteria are not:\",\n",
        "      is_satisfiable(criteria + not_(better_criteria)))\n",
        "\n",
        "## empirical testing\n",
        "\n",
        "import numpy as np\n",
        "from tqdm import tqdm\n",
        "\n",
        "bottom_d = sp.lambdify([a, b, M, R], (-B + sp.sqrt(D)) / (2 * A))\n",
        "length_d = sp.lambdify([a, b, M, R], -sp.sqrt(D) / A)\n",
        "\n",
        "def generate_abdMR(size, range_=10):\n",
        "    res = np.random.random(size=size * 5).reshape(size, 5) * range_\n",
        "    for i in range(size):\n",
        "        _, b, _, M, R = res[i]\n",
        "\n",
        "        res[i, 0] += M * b / R,\n",
        "        a = res[i, 0]\n",
        "\n",
        "        res[i, 2] *= length_d(a, b, M, R) / range_\n",
        "        res[i, 2] += bottom_d(a, b, M, R)\n",
        "    return res\n",
        "\n",
        "\n",
        "\n",
        "num_tests = 100\n",
        "params = generate_abdMR(num_tests)\n",
        "\n",
        "count_both_pd = 0\n",
        "for param in tqdm(params):\n",
        "    substitution = list(zip([a, b, d, M, R], param))\n",
        "    c_ = c_stripped.subs(substitution)\n",
        "    V_ = V.subs(substitution)\n",
        "    res =  is_pd(c_) and is_pd(V_)\n",
        "    count_both_pd += res\n",
        "    if not res:\n",
        "        print(is_pd(c_, return_counterex=True)[1],\n",
        "              is_pd(V_, return_counterex=True)[1])\n",
        "        print(V_, c_, sep=' | ')\n",
        "\n",
        "print(f\"\\nRandom tests passed: {count_both_pd}/{num_tests}\")\n",
        "\n"
      ],
      "metadata": {
        "colab": {
          "base_uri": "https://localhost:8080/",
          "height": 441
        },
        "id": "uihuC4R81QI1",
        "outputId": "841f21f3-8a52-49eb-83c7-7f7c7283b4ff"
      },
      "execution_count": null,
      "outputs": [
        {
          "output_type": "stream",
          "name": "stdout",
          "text": [
            "Matrix([[2*a*x + 2*b*y], [2*b*x + 2*d*y]])\n"
          ]
        },
        {
          "output_type": "display_data",
          "data": {
            "text/plain": [
              "Eq(H, Matrix([\n",
              "[                                     -y],\n",
              "[M*x + R*y + (2*b*x + 2*d*y)*cos(x)**2/4]]))"
            ],
            "text/latex": "$\\displaystyle H = \\left[\\begin{matrix}- y\\\\M x + R y + \\frac{\\left(2 b x + 2 d y\\right) \\cos^{2}{\\left(x \\right)}}{4}\\end{matrix}\\right]$"
          },
          "metadata": {}
        },
        {
          "output_type": "stream",
          "name": "stdout",
          "text": [
            "[x, y]\n",
            "[x, y]\n"
          ]
        },
        {
          "output_type": "display_data",
          "data": {
            "text/plain": [
              "Eq(V, a*x**2 + 2*b*x*y + d*y**2)"
            ],
            "text/latex": "$\\displaystyle V = a x^{2} + 2 b x y + d y^{2}$"
          },
          "metadata": {}
        },
        {
          "output_type": "display_data",
          "data": {
            "text/plain": [
              "Eq(\\dot{x}, y)"
            ],
            "text/latex": "$\\displaystyle \\dot{x} = y$"
          },
          "metadata": {}
        },
        {
          "output_type": "display_data",
          "data": {
            "text/plain": [
              "Eq(\\dot{y}, -M*x - R*y + u*cos(x))"
            ],
            "text/latex": "$\\displaystyle \\dot{y} = - M x - R y + u \\cos{\\left(x \\right)}$"
          },
          "metadata": {}
        },
        {
          "output_type": "display_data",
          "data": {
            "text/plain": [
              "Eq(c, u**2 + y*(-2*a*x - 2*b*y) + (b*x + d*y)*(2*M*x + 2*R*y + (b*x + d*y)*cos(x)**2))"
            ],
            "text/latex": "$\\displaystyle c = u^{2} + y \\left(- 2 a x - 2 b y\\right) + \\left(b x + d y\\right) \\left(2 M x + 2 R y + \\left(b x + d y\\right) \\cos^{2}{\\left(x \\right)}\\right)$"
          },
          "metadata": {}
        },
        {
          "output_type": "display_data",
          "data": {
            "text/plain": [
              "Eq(c_{stripped}, 2*M*b*x**2 + x*(2*M*d*y + 2*R*b*y - 2*a*y) + y**2*(2*R*d - 2*b))"
            ],
            "text/latex": "$\\displaystyle c_{stripped} = 2 M b x^{2} + x \\left(2 M d y + 2 R b y - 2 a y\\right) + y^{2} \\left(2 R d - 2 b\\right)$"
          },
          "metadata": {}
        },
        {
          "output_type": "stream",
          "name": "stdout",
          "text": [
            "[2*M*b > 0, 2*M*b*(2*R*d - 2*b) - (M*d + R*b - a)**2 > 0, a > 0, a*d - b**2 > 0]\n"
          ]
        },
        {
          "output_type": "display_data",
          "data": {
            "text/plain": [
              "Eq(D, 16*M**2*b*(-M*b + R*a))"
            ],
            "text/latex": "$\\displaystyle D = 16 M^{2} b \\left(- M b + R a\\right)$"
          },
          "metadata": {}
        },
        {
          "output_type": "stream",
          "name": "stderr",
          "text": [
            "<ipython-input-16-289fac5ee460>:75: DeprecationWarning: Conversion of an array with ndim > 0 to a scalar is deprecated, and will error in future. Ensure you extract a single element from your array before performing this operation. (Deprecated NumPy 1.25.)\n",
            "  res[i, 0] += M * b / R,\n"
          ]
        },
        {
          "output_type": "stream",
          "name": "stdout",
          "text": [
            "[M > 0, R > 0, b > 0, a > M*b/R, d > -(D_root - 2*M*R*b - 2*M*a)/(2*M**2), d < -(-D_root - 2*M*R*b - 2*M*a)/(2*M**2), Eq(D_root**2, 16*M**2*b*(-M*b + R*a))]\n",
            "Improved criteria are satisfiable: True\n",
            "It is possible for the original criteria to be unsatisfied: True\n",
            "It is possible that improved criteria are satisfied while original criteria are not: False\n"
          ]
        },
        {
          "output_type": "stream",
          "name": "stderr",
          "text": [
            "100%|██████████| 100/100 [00:06<00:00, 14.76it/s]"
          ]
        },
        {
          "output_type": "stream",
          "name": "stdout",
          "text": [
            "\n",
            "Random tests passed: 100/100\n"
          ]
        },
        {
          "output_type": "stream",
          "name": "stderr",
          "text": [
            "\n"
          ]
        }
      ]
    },
    {
      "cell_type": "markdown",
      "source": [
        "\n",
        "\n",
        "## Integrating cranks\n",
        "\n"
      ],
      "metadata": {
        "id": "u4kGPW9vHtRF"
      }
    },
    {
      "cell_type": "code",
      "source": [
        "M, R = 1, 1 # sp.symbols('M R')\n",
        "a, b, d = 3, 1, 3 # sp.symbols('a b d')\n",
        "x0, y0, x1, y1 = sp.symbols('x_0 y_0 x_1 y_1')\n",
        "\n",
        "V_n = a * x ** 2 + 2 * b * x * y +  d * y ** 2\n",
        "G_n = sp.Matrix([0, sp.cos(x)])\n",
        "H_n = sp.Matrix([-y,  M*x + R * y + (sp.Rational(1, 4) * G_n @ G_n.T @ sp.Matrix([V_n]).jacobian([x, y]).T)[1]])\n",
        "\n",
        "u_mult = sp.Matrix(sp.symbols('u_0 u_1'))\n",
        "\n",
        "subs0 = [(x, x0), (y, y0)]\n",
        "subs1 = [(x, x1), (y, y1)]\n",
        "\n",
        "\n",
        "V = V_n.subs(subs0) + V_n.subs(subs1)\n",
        "G = sp.diag(G_n.subs(subs0), G_n.subs(subs1))\n",
        "H = sp.Matrix.vstack(H_n.subs(subs0), H_n.subs(subs1))\n",
        "H[1] += 0.2 * (x0 - x1)\n",
        "H[3] += 0.2 * (x1 - x0)\n",
        "\n",
        "\n",
        "print(sp.Matrix([V]).jacobian([x0, y0, x1, y1]).T)\n",
        "\n",
        "peq('H', H)\n",
        "\n",
        "f, c = fc_from_VGH(V, G, H)\n",
        "\n",
        "print_problem(V, f, G, c, u=u_mult)\n",
        "\n",
        "c_stripped = c.subs(u, 0).subs(sp.cos(x0), 0).subs(sp.cos(x1), 0).expand().collect([x, y])\n",
        "peq(\"c_{stripped}\", c_stripped)\n",
        "\n",
        "is_pd(c_stripped)\n"
      ],
      "metadata": {
        "colab": {
          "base_uri": "https://localhost:8080/",
          "height": 383
        },
        "id": "5E_PWrEqIcH7",
        "outputId": "b6ebd299-342d-4316-8e53-b3483fecbedc"
      },
      "execution_count": null,
      "outputs": [
        {
          "output_type": "stream",
          "name": "stdout",
          "text": [
            "Matrix([[6*x_0 + 2*y_0], [2*x_0 + 6*y_0], [6*x_1 + 2*y_1], [2*x_1 + 6*y_1]])\n"
          ]
        },
        {
          "output_type": "display_data",
          "data": {
            "text/plain": [
              "Eq(H, Matrix([\n",
              "[                                                    -y_0],\n",
              "[ 1.2*x_0 - 0.2*x_1 + y_0 + (2*x_0 + 6*y_0)*cos(x_0)**2/4],\n",
              "[                                                    -y_1],\n",
              "[-0.2*x_0 + 1.2*x_1 + y_1 + (2*x_1 + 6*y_1)*cos(x_1)**2/4]]))"
            ],
            "text/latex": "$\\displaystyle H = \\left[\\begin{matrix}- y_{0}\\\\1.2 x_{0} - 0.2 x_{1} + y_{0} + \\frac{\\left(2 x_{0} + 6 y_{0}\\right) \\cos^{2}{\\left(x_{0} \\right)}}{4}\\\\- y_{1}\\\\- 0.2 x_{0} + 1.2 x_{1} + y_{1} + \\frac{\\left(2 x_{1} + 6 y_{1}\\right) \\cos^{2}{\\left(x_{1} \\right)}}{4}\\end{matrix}\\right]$"
          },
          "metadata": {}
        },
        {
          "output_type": "stream",
          "name": "stdout",
          "text": [
            "[x_0, y_0, x_1, y_1]\n",
            "[x_0, y_0, x_1, y_1]\n"
          ]
        },
        {
          "output_type": "display_data",
          "data": {
            "text/plain": [
              "Eq(V, 3*x_0**2 + 2*x_0*y_0 + 3*x_1**2 + 2*x_1*y_1 + 3*y_0**2 + 3*y_1**2)"
            ],
            "text/latex": "$\\displaystyle V = 3 x_{0}^{2} + 2 x_{0} y_{0} + 3 x_{1}^{2} + 2 x_{1} y_{1} + 3 y_{0}^{2} + 3 y_{1}^{2}$"
          },
          "metadata": {}
        },
        {
          "output_type": "display_data",
          "data": {
            "text/plain": [
              "Eq(\\dot{x}_{0}, y_0)"
            ],
            "text/latex": "$\\displaystyle \\dot{x}_{0} = y_{0}$"
          },
          "metadata": {}
        },
        {
          "output_type": "display_data",
          "data": {
            "text/plain": [
              "Eq(\\dot{y}_{0}, u_0*cos(x_0) - 1.2*x_0 + 0.2*x_1 - y_0)"
            ],
            "text/latex": "$\\displaystyle \\dot{y}_{0} = u_{0} \\cos{\\left(x_{0} \\right)} - 1.2 x_{0} + 0.2 x_{1} - y_{0}$"
          },
          "metadata": {}
        },
        {
          "output_type": "display_data",
          "data": {
            "text/plain": [
              "Eq(\\dot{x}_{1}, y_1)"
            ],
            "text/latex": "$\\displaystyle \\dot{x}_{1} = y_{1}$"
          },
          "metadata": {}
        },
        {
          "output_type": "display_data",
          "data": {
            "text/plain": [
              "Eq(\\dot{y}_{1}, u_1*cos(x_1) + 0.2*x_0 - 1.2*x_1 - y_1)"
            ],
            "text/latex": "$\\displaystyle \\dot{y}_{1} = u_{1} \\cos{\\left(x_{1} \\right)} + 0.2 x_{0} - 1.2 x_{1} - y_{1}$"
          },
          "metadata": {}
        },
        {
          "output_type": "display_data",
          "data": {
            "text/plain": [
              "Eq(c, u**2 - 2*y_0*(3*x_0 + y_0) - 2*y_1*(3*x_1 + y_1) + (x_0 + 3*y_0)*(4.8*x_0 - 0.8*x_1 + 4*y_0 + 2*(x_0 + 3*y_0)*cos(x_0)**2)/2 + (x_1 + 3*y_1)*(-0.8*x_0 + 4.8*x_1 + 4*y_1 + 2*(x_1 + 3*y_1)*cos(x_1)**2)/2)"
            ],
            "text/latex": "$\\displaystyle c = u^{2} - 2 y_{0} \\left(3 x_{0} + y_{0}\\right) - 2 y_{1} \\left(3 x_{1} + y_{1}\\right) + \\frac{\\left(x_{0} + 3 y_{0}\\right) \\left(4.8 x_{0} - 0.8 x_{1} + 4 y_{0} + 2 \\left(x_{0} + 3 y_{0}\\right) \\cos^{2}{\\left(x_{0} \\right)}\\right)}{2} + \\frac{\\left(x_{1} + 3 y_{1}\\right) \\left(- 0.8 x_{0} + 4.8 x_{1} + 4 y_{1} + 2 \\left(x_{1} + 3 y_{1}\\right) \\cos^{2}{\\left(x_{1} \\right)}\\right)}{2}$"
          },
          "metadata": {}
        },
        {
          "output_type": "display_data",
          "data": {
            "text/plain": [
              "Eq(c_{stripped}, 2.4*x_0**2 - 0.8*x_0*x_1 + 3.2*x_0*y_0 - 1.2*x_0*y_1 + 2.4*x_1**2 - 1.2*x_1*y_0 + 3.2*x_1*y_1 + 4*y_0**2 + 4*y_1**2)"
            ],
            "text/latex": "$\\displaystyle c_{stripped} = 2.4 x_{0}^{2} - 0.8 x_{0} x_{1} + 3.2 x_{0} y_{0} - 1.2 x_{0} y_{1} + 2.4 x_{1}^{2} - 1.2 x_{1} y_{0} + 3.2 x_{1} y_{1} + 4 y_{0}^{2} + 4 y_{1}^{2}$"
          },
          "metadata": {}
        },
        {
          "output_type": "execute_result",
          "data": {
            "text/plain": [
              "True"
            ]
          },
          "metadata": {},
          "execution_count": 17
        }
      ]
    },
    {
      "cell_type": "markdown",
      "source": [
        "## Generating parameters\n",
        "\n"
      ],
      "metadata": {
        "id": "PwaMkcjIzO-U"
      }
    },
    {
      "cell_type": "markdown",
      "source": [
        "The Frobenius norm bounds the operator norm:\n",
        "https://math.stackexchange.com/questions/252819/why-is-the-frobenius-norm-of-a-matrix-greater-than-or-equal-to-the-spectral-norm .\n",
        "\n",
        "https://math.hecker.org/2011/06/26/the-inverse-of-a-block-diagonal-matrix/\n",
        "\n",
        "\n",
        "It is known that a p.d. matrix $A$ stays p.d. after perturbation $\\Delta A$ if\n",
        "$$ \\lVert \\Delta A \\rVert_2\\lVert  A^{-1} \\rVert_2 < 1.$$\n",
        "\n",
        "Trivially, this is implied by\n",
        "$$\\lVert \\Delta A \\rVert_F^2 < \\frac{\\lvert A \\rvert^2}{\\lVert{\\text{adj }A\\rVert_F^2}}$$\n",
        "\n",
        "Additionally if one assumes diagonal structure of $A$, we obtain:\n",
        "$$\\lVert \\Delta A \\rVert_F^2 < \\frac{\\prod_i \\lvert A_i \\rvert^2}{\\sum_j\\lVert{\\text{adj }A_j\\rVert_F^2 }\\prod_{i \\neq j}\\lvert A_i \\rvert^2}$$\n",
        "\n",
        "If one further assumes that $A$ is $2\\times 2$ and symmetric, we get\n",
        "$$\\lVert \\Delta A \\rVert_F^2 < \\frac{\\prod_i (a_{i11}a_{i22} - a_{i12}^2)^2}{\\sum_j (a_{j11}^2 + 2a_{j12}^2 + a_{j22}^2)\\prod_{i \\neq j}(a_{i11}a_{i22} - a_{i12}^2)^2}$$\n",
        "\n",
        "or alternatively:\n",
        "$$\\frac{1}{\\lVert \\Delta A \\rVert_F^2} > \\sum_j \\frac{a_{j11}^2 + 2a_{j12}^2 + a_{j22}^2}{(a_{j11}a_{j22} - a_{j12}^2)^2}$$\n",
        "\n"
      ],
      "metadata": {
        "id": "v3qpLgWf0YSh"
      }
    },
    {
      "cell_type": "code",
      "source": [
        "N = 5\n",
        "\n",
        "def symb_array(names, count=N):\n",
        "    res = []\n",
        "    for name in names.split():\n",
        "        res.append(sp.symbols(\" \".join([name + str(i) for i in range(count)])))\n",
        "    return res\n",
        "\n",
        "as_, bs, ds, Ms, Rs, Ks = symb_array('a b d M R K')\n",
        "Ks = Ks[:-1]\n",
        "xs, ys, us = symb_array('x y u')\n",
        "\n",
        "state = [s for x_, y_ in zip(xs, ys) for s in (x_, y_)]\n",
        "\n",
        "M, R = sp.symbols('M R')\n",
        "a, b, d = sp.symbols('a b d')\n",
        "K = sp.symbols('K')\n",
        "\n",
        "V_n = a * x ** 2 + 2 * b * x * y +  d * y ** 2\n",
        "G_n = sp.Matrix([0, sp.cos(x)])\n",
        "H_n = sp.Matrix([-y,  M*x + R * y + (sp.Rational(1, 4) * G_n @ G_n.T @ sp.Matrix([V_n]).jacobian([x, y]).T)[1]])\n",
        "\n",
        "\n",
        "\n",
        "\n",
        "V = \\\n",
        "  sum([V_n.subs([(x, xs[i]), (y, ys[i]), (a, as_[i]), (b, bs[i]), (d, ds[i])])\n",
        "       for i in range(N)])\n",
        "G = sp.diag(*[G_n.subs(x, xs[i]) for i in range(N)])\n",
        "H = sp.Matrix.vstack(*[H_n.subs([(x, xs[i]), (y, ys[i]), (a, as_[i]),\n",
        "                                 (b, bs[i]), (d, ds[i]), (M, Ms[i]), (R, Rs[i])]) \\\n",
        "                     for i in range(N)])\n",
        "pad = sp.symbols('pad')\n",
        "for i in range(N):\n",
        "    padded_xs = list(xs) + [pad]\n",
        "    padded_Ks = list(Ks) + [pad]\n",
        "    H[2 * i + 1] += padded_Ks[i - 1] * (padded_xs[i] - padded_xs[i - 1]) # enacted by previous crank\n",
        "    H[2 * i + 1] += padded_Ks[i] * (padded_xs[i] - padded_xs[i + 1]) # enacted by next crank\n",
        "H = H.subs(pad, 0)\n",
        "\n",
        "# H[1] += 0.1 * (x0 - x1)\n",
        "# H[3] += 0.1 * (x1 - x0)\n",
        "\n",
        "\n",
        "print(sp.Matrix([V]).jacobian([x0, y0, x1, y1]).T)\n",
        "\n",
        "peq('H', H)\n",
        "\n",
        "f, c = fc_from_VGH(V, G, H, u=sp.Matrix(us))\n",
        "\n",
        "print_problem(V, f, G, c, u=sp.Matrix(us))\n",
        "\n",
        "c_stripped = c\n",
        "for i in range(N):\n",
        "    c_stripped = c_stripped.subs(us[i], 0).subs(sp.cos(xs[i]), 0)\n",
        "Q = sp.Matrix([c_stripped]).jacobian(state).T.jacobian(state) / 2\n",
        "\n",
        "Q_no_springs = Q.subs(list(zip(Ks, [0] * (N - 1))))\n",
        "DeltaQ = Q - Q_no_springs\n",
        "\n",
        "\n",
        "peq('c_{stripped|same|K}', c_stripped.subs(list(zip(Ks, [K] * (N - 1)))).expand().collect(K))\n",
        "\n",
        "peq(\"\\Delta{Q}\", DeltaQ)\n",
        "\n",
        "\n"
      ],
      "metadata": {
        "colab": {
          "base_uri": "https://localhost:8080/",
          "height": 1000
        },
        "id": "eUQoI-BDzRfq",
        "outputId": "81600306-753a-49d7-c28e-767fbe354186"
      },
      "execution_count": null,
      "outputs": [
        {
          "output_type": "stream",
          "name": "stdout",
          "text": [
            "Matrix([[0], [0], [0], [0]])\n"
          ]
        },
        {
          "output_type": "display_data",
          "data": {
            "text/plain": [
              "Eq(H, Matrix([\n",
              "[                                                                            -y0],\n",
              "[                K0*(x0 - x1) + M0*x0 + R0*y0 + (2*b0*x0 + 2*d0*y0)*cos(x0)**2/4],\n",
              "[                                                                            -y1],\n",
              "[K0*(-x0 + x1) + K1*(x1 - x2) + M1*x1 + R1*y1 + (2*b1*x1 + 2*d1*y1)*cos(x1)**2/4],\n",
              "[                                                                            -y2],\n",
              "[K1*(-x1 + x2) + K2*(x2 - x3) + M2*x2 + R2*y2 + (2*b2*x2 + 2*d2*y2)*cos(x2)**2/4],\n",
              "[                                                                            -y3],\n",
              "[K2*(-x2 + x3) + K3*(x3 - x4) + M3*x3 + R3*y3 + (2*b3*x3 + 2*d3*y3)*cos(x3)**2/4],\n",
              "[                                                                            -y4],\n",
              "[               K3*(-x3 + x4) + M4*x4 + R4*y4 + (2*b4*x4 + 2*d4*y4)*cos(x4)**2/4]]))"
            ],
            "text/latex": "$\\displaystyle H = \\left[\\begin{matrix}- y_{0}\\\\K_{0} \\left(x_{0} - x_{1}\\right) + M_{0} x_{0} + R_{0} y_{0} + \\frac{\\left(2 b_{0} x_{0} + 2 d_{0} y_{0}\\right) \\cos^{2}{\\left(x_{0} \\right)}}{4}\\\\- y_{1}\\\\K_{0} \\left(- x_{0} + x_{1}\\right) + K_{1} \\left(x_{1} - x_{2}\\right) + M_{1} x_{1} + R_{1} y_{1} + \\frac{\\left(2 b_{1} x_{1} + 2 d_{1} y_{1}\\right) \\cos^{2}{\\left(x_{1} \\right)}}{4}\\\\- y_{2}\\\\K_{1} \\left(- x_{1} + x_{2}\\right) + K_{2} \\left(x_{2} - x_{3}\\right) + M_{2} x_{2} + R_{2} y_{2} + \\frac{\\left(2 b_{2} x_{2} + 2 d_{2} y_{2}\\right) \\cos^{2}{\\left(x_{2} \\right)}}{4}\\\\- y_{3}\\\\K_{2} \\left(- x_{2} + x_{3}\\right) + K_{3} \\left(x_{3} - x_{4}\\right) + M_{3} x_{3} + R_{3} y_{3} + \\frac{\\left(2 b_{3} x_{3} + 2 d_{3} y_{3}\\right) \\cos^{2}{\\left(x_{3} \\right)}}{4}\\\\- y_{4}\\\\K_{3} \\left(- x_{3} + x_{4}\\right) + M_{4} x_{4} + R_{4} y_{4} + \\frac{\\left(2 b_{4} x_{4} + 2 d_{4} y_{4}\\right) \\cos^{2}{\\left(x_{4} \\right)}}{4}\\end{matrix}\\right]$"
          },
          "metadata": {}
        },
        {
          "output_type": "stream",
          "name": "stdout",
          "text": [
            "[x0, y0, x1, y1, x2, y2, x3, y3, x4, y4]\n",
            "[x0, y0, x1, y1, x2, y2, x3, y3, x4, y4]\n"
          ]
        },
        {
          "output_type": "display_data",
          "data": {
            "text/plain": [
              "Eq(V, a0*x0**2 + a1*x1**2 + a2*x2**2 + a3*x3**2 + a4*x4**2 + 2*b0*x0*y0 + 2*b1*x1*y1 + 2*b2*x2*y2 + 2*b3*x3*y3 + 2*b4*x4*y4 + d0*y0**2 + d1*y1**2 + d2*y2**2 + d3*y3**2 + d4*y4**2)"
            ],
            "text/latex": "$\\displaystyle V = a_{0} x_{0}^{2} + a_{1} x_{1}^{2} + a_{2} x_{2}^{2} + a_{3} x_{3}^{2} + a_{4} x_{4}^{2} + 2 b_{0} x_{0} y_{0} + 2 b_{1} x_{1} y_{1} + 2 b_{2} x_{2} y_{2} + 2 b_{3} x_{3} y_{3} + 2 b_{4} x_{4} y_{4} + d_{0} y_{0}^{2} + d_{1} y_{1}^{2} + d_{2} y_{2}^{2} + d_{3} y_{3}^{2} + d_{4} y_{4}^{2}$"
          },
          "metadata": {}
        },
        {
          "output_type": "display_data",
          "data": {
            "text/plain": [
              "Eq(\\dot{x}_{0}, y0)"
            ],
            "text/latex": "$\\displaystyle \\dot{x}_{0} = y_{0}$"
          },
          "metadata": {}
        },
        {
          "output_type": "display_data",
          "data": {
            "text/plain": [
              "Eq(\\dot{y}_{0}, -K0*(x0 - x1) - M0*x0 - R0*y0 + u0*cos(x0))"
            ],
            "text/latex": "$\\displaystyle \\dot{y}_{0} = - K_{0} \\left(x_{0} - x_{1}\\right) - M_{0} x_{0} - R_{0} y_{0} + u_{0} \\cos{\\left(x_{0} \\right)}$"
          },
          "metadata": {}
        },
        {
          "output_type": "display_data",
          "data": {
            "text/plain": [
              "Eq(\\dot{x}_{1}, y1)"
            ],
            "text/latex": "$\\displaystyle \\dot{x}_{1} = y_{1}$"
          },
          "metadata": {}
        },
        {
          "output_type": "display_data",
          "data": {
            "text/plain": [
              "Eq(\\dot{y}_{1}, -K0*(-x0 + x1) - K1*(x1 - x2) - M1*x1 - R1*y1 + u1*cos(x1))"
            ],
            "text/latex": "$\\displaystyle \\dot{y}_{1} = - K_{0} \\left(- x_{0} + x_{1}\\right) - K_{1} \\left(x_{1} - x_{2}\\right) - M_{1} x_{1} - R_{1} y_{1} + u_{1} \\cos{\\left(x_{1} \\right)}$"
          },
          "metadata": {}
        },
        {
          "output_type": "display_data",
          "data": {
            "text/plain": [
              "Eq(\\dot{x}_{2}, y2)"
            ],
            "text/latex": "$\\displaystyle \\dot{x}_{2} = y_{2}$"
          },
          "metadata": {}
        },
        {
          "output_type": "display_data",
          "data": {
            "text/plain": [
              "Eq(\\dot{y}_{2}, -K1*(-x1 + x2) - K2*(x2 - x3) - M2*x2 - R2*y2 + u2*cos(x2))"
            ],
            "text/latex": "$\\displaystyle \\dot{y}_{2} = - K_{1} \\left(- x_{1} + x_{2}\\right) - K_{2} \\left(x_{2} - x_{3}\\right) - M_{2} x_{2} - R_{2} y_{2} + u_{2} \\cos{\\left(x_{2} \\right)}$"
          },
          "metadata": {}
        },
        {
          "output_type": "display_data",
          "data": {
            "text/plain": [
              "Eq(\\dot{x}_{3}, y3)"
            ],
            "text/latex": "$\\displaystyle \\dot{x}_{3} = y_{3}$"
          },
          "metadata": {}
        },
        {
          "output_type": "display_data",
          "data": {
            "text/plain": [
              "Eq(\\dot{y}_{3}, -K2*(-x2 + x3) - K3*(x3 - x4) - M3*x3 - R3*y3 + u3*cos(x3))"
            ],
            "text/latex": "$\\displaystyle \\dot{y}_{3} = - K_{2} \\left(- x_{2} + x_{3}\\right) - K_{3} \\left(x_{3} - x_{4}\\right) - M_{3} x_{3} - R_{3} y_{3} + u_{3} \\cos{\\left(x_{3} \\right)}$"
          },
          "metadata": {}
        },
        {
          "output_type": "display_data",
          "data": {
            "text/plain": [
              "Eq(\\dot{x}_{4}, y4)"
            ],
            "text/latex": "$\\displaystyle \\dot{x}_{4} = y_{4}$"
          },
          "metadata": {}
        },
        {
          "output_type": "display_data",
          "data": {
            "text/plain": [
              "Eq(\\dot{y}_{4}, -K3*(-x3 + x4) - M4*x4 - R4*y4 + u4*cos(x4))"
            ],
            "text/latex": "$\\displaystyle \\dot{y}_{4} = - K_{3} \\left(- x_{3} + x_{4}\\right) - M_{4} x_{4} - R_{4} y_{4} + u_{4} \\cos{\\left(x_{4} \\right)}$"
          },
          "metadata": {}
        },
        {
          "output_type": "display_data",
          "data": {
            "text/plain": [
              "Eq(c, u**2 - 2*y0*(a0*x0 + b0*y0) - 2*y1*(a1*x1 + b1*y1) - 2*y2*(a2*x2 + b2*y2) - 2*y3*(a3*x3 + b3*y3) - 2*y4*(a4*x4 + b4*y4) + (b0*x0 + d0*y0)*(2*K0*(x0 - x1) + 2*M0*x0 + 2*R0*y0 + (b0*x0 + d0*y0)*cos(x0)**2) + (b1*x1 + d1*y1)*(-2*K0*(x0 - x1) + 2*K1*(x1 - x2) + 2*M1*x1 + 2*R1*y1 + (b1*x1 + d1*y1)*cos(x1)**2) + (b2*x2 + d2*y2)*(-2*K1*(x1 - x2) + 2*K2*(x2 - x3) + 2*M2*x2 + 2*R2*y2 + (b2*x2 + d2*y2)*cos(x2)**2) + (b3*x3 + d3*y3)*(-2*K2*(x2 - x3) + 2*K3*(x3 - x4) + 2*M3*x3 + 2*R3*y3 + (b3*x3 + d3*y3)*cos(x3)**2) + (b4*x4 + d4*y4)*(-2*K3*(x3 - x4) + 2*M4*x4 + 2*R4*y4 + (b4*x4 + d4*y4)*cos(x4)**2))"
            ],
            "text/latex": "$\\displaystyle c = u^{2} - 2 y_{0} \\left(a_{0} x_{0} + b_{0} y_{0}\\right) - 2 y_{1} \\left(a_{1} x_{1} + b_{1} y_{1}\\right) - 2 y_{2} \\left(a_{2} x_{2} + b_{2} y_{2}\\right) - 2 y_{3} \\left(a_{3} x_{3} + b_{3} y_{3}\\right) - 2 y_{4} \\left(a_{4} x_{4} + b_{4} y_{4}\\right) + \\left(b_{0} x_{0} + d_{0} y_{0}\\right) \\left(2 K_{0} \\left(x_{0} - x_{1}\\right) + 2 M_{0} x_{0} + 2 R_{0} y_{0} + \\left(b_{0} x_{0} + d_{0} y_{0}\\right) \\cos^{2}{\\left(x_{0} \\right)}\\right) + \\left(b_{1} x_{1} + d_{1} y_{1}\\right) \\left(- 2 K_{0} \\left(x_{0} - x_{1}\\right) + 2 K_{1} \\left(x_{1} - x_{2}\\right) + 2 M_{1} x_{1} + 2 R_{1} y_{1} + \\left(b_{1} x_{1} + d_{1} y_{1}\\right) \\cos^{2}{\\left(x_{1} \\right)}\\right) + \\left(b_{2} x_{2} + d_{2} y_{2}\\right) \\left(- 2 K_{1} \\left(x_{1} - x_{2}\\right) + 2 K_{2} \\left(x_{2} - x_{3}\\right) + 2 M_{2} x_{2} + 2 R_{2} y_{2} + \\left(b_{2} x_{2} + d_{2} y_{2}\\right) \\cos^{2}{\\left(x_{2} \\right)}\\right) + \\left(b_{3} x_{3} + d_{3} y_{3}\\right) \\left(- 2 K_{2} \\left(x_{2} - x_{3}\\right) + 2 K_{3} \\left(x_{3} - x_{4}\\right) + 2 M_{3} x_{3} + 2 R_{3} y_{3} + \\left(b_{3} x_{3} + d_{3} y_{3}\\right) \\cos^{2}{\\left(x_{3} \\right)}\\right) + \\left(b_{4} x_{4} + d_{4} y_{4}\\right) \\left(- 2 K_{3} \\left(x_{3} - x_{4}\\right) + 2 M_{4} x_{4} + 2 R_{4} y_{4} + \\left(b_{4} x_{4} + d_{4} y_{4}\\right) \\cos^{2}{\\left(x_{4} \\right)}\\right)$"
          },
          "metadata": {}
        },
        {
          "output_type": "display_data",
          "data": {
            "text/plain": [
              "Eq(c_{stripped|same|K}, K*(2*b0*x0**2 - 2*b0*x0*x1 - 2*b1*x0*x1 + 4*b1*x1**2 - 2*b1*x1*x2 - 2*b2*x1*x2 + 4*b2*x2**2 - 2*b2*x2*x3 - 2*b3*x2*x3 + 4*b3*x3**2 - 2*b3*x3*x4 - 2*b4*x3*x4 + 2*b4*x4**2 + 2*d0*x0*y0 - 2*d0*x1*y0 - 2*d1*x0*y1 + 4*d1*x1*y1 - 2*d1*x2*y1 - 2*d2*x1*y2 + 4*d2*x2*y2 - 2*d2*x3*y2 - 2*d3*x2*y3 + 4*d3*x3*y3 - 2*d3*x4*y3 - 2*d4*x3*y4 + 2*d4*x4*y4) + 2*M0*b0*x0**2 + 2*M0*d0*x0*y0 + 2*M1*b1*x1**2 + 2*M1*d1*x1*y1 + 2*M2*b2*x2**2 + 2*M2*d2*x2*y2 + 2*M3*b3*x3**2 + 2*M3*d3*x3*y3 + 2*M4*b4*x4**2 + 2*M4*d4*x4*y4 + 2*R0*b0*x0*y0 + 2*R0*d0*y0**2 + 2*R1*b1*x1*y1 + 2*R1*d1*y1**2 + 2*R2*b2*x2*y2 + 2*R2*d2*y2**2 + 2*R3*b3*x3*y3 + 2*R3*d3*y3**2 + 2*R4*b4*x4*y4 + 2*R4*d4*y4**2 - 2*a0*x0*y0 - 2*a1*x1*y1 - 2*a2*x2*y2 - 2*a3*x3*y3 - 2*a4*x4*y4 - 2*b0*y0**2 - 2*b1*y1**2 - 2*b2*y2**2 - 2*b3*y3**2 - 2*b4*y4**2 + u**2)"
            ],
            "text/latex": "$\\displaystyle c_{stripped|same|K} = K \\left(2 b_{0} x_{0}^{2} - 2 b_{0} x_{0} x_{1} - 2 b_{1} x_{0} x_{1} + 4 b_{1} x_{1}^{2} - 2 b_{1} x_{1} x_{2} - 2 b_{2} x_{1} x_{2} + 4 b_{2} x_{2}^{2} - 2 b_{2} x_{2} x_{3} - 2 b_{3} x_{2} x_{3} + 4 b_{3} x_{3}^{2} - 2 b_{3} x_{3} x_{4} - 2 b_{4} x_{3} x_{4} + 2 b_{4} x_{4}^{2} + 2 d_{0} x_{0} y_{0} - 2 d_{0} x_{1} y_{0} - 2 d_{1} x_{0} y_{1} + 4 d_{1} x_{1} y_{1} - 2 d_{1} x_{2} y_{1} - 2 d_{2} x_{1} y_{2} + 4 d_{2} x_{2} y_{2} - 2 d_{2} x_{3} y_{2} - 2 d_{3} x_{2} y_{3} + 4 d_{3} x_{3} y_{3} - 2 d_{3} x_{4} y_{3} - 2 d_{4} x_{3} y_{4} + 2 d_{4} x_{4} y_{4}\\right) + 2 M_{0} b_{0} x_{0}^{2} + 2 M_{0} d_{0} x_{0} y_{0} + 2 M_{1} b_{1} x_{1}^{2} + 2 M_{1} d_{1} x_{1} y_{1} + 2 M_{2} b_{2} x_{2}^{2} + 2 M_{2} d_{2} x_{2} y_{2} + 2 M_{3} b_{3} x_{3}^{2} + 2 M_{3} d_{3} x_{3} y_{3} + 2 M_{4} b_{4} x_{4}^{2} + 2 M_{4} d_{4} x_{4} y_{4} + 2 R_{0} b_{0} x_{0} y_{0} + 2 R_{0} d_{0} y_{0}^{2} + 2 R_{1} b_{1} x_{1} y_{1} + 2 R_{1} d_{1} y_{1}^{2} + 2 R_{2} b_{2} x_{2} y_{2} + 2 R_{2} d_{2} y_{2}^{2} + 2 R_{3} b_{3} x_{3} y_{3} + 2 R_{3} d_{3} y_{3}^{2} + 2 R_{4} b_{4} x_{4} y_{4} + 2 R_{4} d_{4} y_{4}^{2} - 2 a_{0} x_{0} y_{0} - 2 a_{1} x_{1} y_{1} - 2 a_{2} x_{2} y_{2} - 2 a_{3} x_{3} y_{3} - 2 a_{4} x_{4} y_{4} - 2 b_{0} y_{0}^{2} - 2 b_{1} y_{1}^{2} - 2 b_{2} y_{2}^{2} - 2 b_{3} y_{3}^{2} - 2 b_{4} y_{4}^{2} + u^{2}$"
          },
          "metadata": {}
        },
        {
          "output_type": "display_data",
          "data": {
            "text/plain": [
              "Eq(\\Delta{Q}, Matrix([\n",
              "[-2*M0*b0 + b0*(2*K0 + 2*M0), -M0*d0 + d0*(2*K0 + 2*M0)/2,                     -K0*b0 - K0*b1,                             -K0*d1,                                  0,                                  0,                                  0,                                  0,                           0,                           0],\n",
              "[-M0*d0 + d0*(2*K0 + 2*M0)/2,                           0,                             -K0*d0,                                  0,                                  0,                                  0,                                  0,                                  0,                           0,                           0],\n",
              "[             -K0*b0 - K0*b1,                      -K0*d0, -2*M1*b1 + b1*(2*K0 + 2*K1 + 2*M1), -M1*d1 + d1*(2*K0 + 2*K1 + 2*M1)/2,                     -K1*b1 - K1*b2,                             -K1*d2,                                  0,                                  0,                           0,                           0],\n",
              "[                     -K0*d1,                           0, -M1*d1 + d1*(2*K0 + 2*K1 + 2*M1)/2,                                  0,                             -K1*d1,                                  0,                                  0,                                  0,                           0,                           0],\n",
              "[                          0,                           0,                     -K1*b1 - K1*b2,                             -K1*d1, -2*M2*b2 + b2*(2*K1 + 2*K2 + 2*M2), -M2*d2 + d2*(2*K1 + 2*K2 + 2*M2)/2,                     -K2*b2 - K2*b3,                             -K2*d3,                           0,                           0],\n",
              "[                          0,                           0,                             -K1*d2,                                  0, -M2*d2 + d2*(2*K1 + 2*K2 + 2*M2)/2,                                  0,                             -K2*d2,                                  0,                           0,                           0],\n",
              "[                          0,                           0,                                  0,                                  0,                     -K2*b2 - K2*b3,                             -K2*d2, -2*M3*b3 + b3*(2*K2 + 2*K3 + 2*M3), -M3*d3 + d3*(2*K2 + 2*K3 + 2*M3)/2,              -K3*b3 - K3*b4,                      -K3*d4],\n",
              "[                          0,                           0,                                  0,                                  0,                             -K2*d3,                                  0, -M3*d3 + d3*(2*K2 + 2*K3 + 2*M3)/2,                                  0,                      -K3*d3,                           0],\n",
              "[                          0,                           0,                                  0,                                  0,                                  0,                                  0,                     -K3*b3 - K3*b4,                             -K3*d3, -2*M4*b4 + b4*(2*K3 + 2*M4), -M4*d4 + d4*(2*K3 + 2*M4)/2],\n",
              "[                          0,                           0,                                  0,                                  0,                                  0,                                  0,                             -K3*d4,                                  0, -M4*d4 + d4*(2*K3 + 2*M4)/2,                           0]]))"
            ],
            "text/latex": "$\\displaystyle \\Delta{Q} = \\left[\\begin{matrix}- 2 M_{0} b_{0} + b_{0} \\left(2 K_{0} + 2 M_{0}\\right) & - M_{0} d_{0} + \\frac{d_{0} \\left(2 K_{0} + 2 M_{0}\\right)}{2} & - K_{0} b_{0} - K_{0} b_{1} & - K_{0} d_{1} & 0 & 0 & 0 & 0 & 0 & 0\\\\- M_{0} d_{0} + \\frac{d_{0} \\left(2 K_{0} + 2 M_{0}\\right)}{2} & 0 & - K_{0} d_{0} & 0 & 0 & 0 & 0 & 0 & 0 & 0\\\\- K_{0} b_{0} - K_{0} b_{1} & - K_{0} d_{0} & - 2 M_{1} b_{1} + b_{1} \\left(2 K_{0} + 2 K_{1} + 2 M_{1}\\right) & - M_{1} d_{1} + \\frac{d_{1} \\left(2 K_{0} + 2 K_{1} + 2 M_{1}\\right)}{2} & - K_{1} b_{1} - K_{1} b_{2} & - K_{1} d_{2} & 0 & 0 & 0 & 0\\\\- K_{0} d_{1} & 0 & - M_{1} d_{1} + \\frac{d_{1} \\left(2 K_{0} + 2 K_{1} + 2 M_{1}\\right)}{2} & 0 & - K_{1} d_{1} & 0 & 0 & 0 & 0 & 0\\\\0 & 0 & - K_{1} b_{1} - K_{1} b_{2} & - K_{1} d_{1} & - 2 M_{2} b_{2} + b_{2} \\left(2 K_{1} + 2 K_{2} + 2 M_{2}\\right) & - M_{2} d_{2} + \\frac{d_{2} \\left(2 K_{1} + 2 K_{2} + 2 M_{2}\\right)}{2} & - K_{2} b_{2} - K_{2} b_{3} & - K_{2} d_{3} & 0 & 0\\\\0 & 0 & - K_{1} d_{2} & 0 & - M_{2} d_{2} + \\frac{d_{2} \\left(2 K_{1} + 2 K_{2} + 2 M_{2}\\right)}{2} & 0 & - K_{2} d_{2} & 0 & 0 & 0\\\\0 & 0 & 0 & 0 & - K_{2} b_{2} - K_{2} b_{3} & - K_{2} d_{2} & - 2 M_{3} b_{3} + b_{3} \\left(2 K_{2} + 2 K_{3} + 2 M_{3}\\right) & - M_{3} d_{3} + \\frac{d_{3} \\left(2 K_{2} + 2 K_{3} + 2 M_{3}\\right)}{2} & - K_{3} b_{3} - K_{3} b_{4} & - K_{3} d_{4}\\\\0 & 0 & 0 & 0 & - K_{2} d_{3} & 0 & - M_{3} d_{3} + \\frac{d_{3} \\left(2 K_{2} + 2 K_{3} + 2 M_{3}\\right)}{2} & 0 & - K_{3} d_{3} & 0\\\\0 & 0 & 0 & 0 & 0 & 0 & - K_{3} b_{3} - K_{3} b_{4} & - K_{3} d_{3} & - 2 M_{4} b_{4} + b_{4} \\left(2 K_{3} + 2 M_{4}\\right) & - M_{4} d_{4} + \\frac{d_{4} \\left(2 K_{3} + 2 M_{4}\\right)}{2}\\\\0 & 0 & 0 & 0 & 0 & 0 & - K_{3} d_{4} & 0 & - M_{4} d_{4} + \\frac{d_{4} \\left(2 K_{3} + 2 M_{4}\\right)}{2} & 0\\end{matrix}\\right]$"
          },
          "metadata": {}
        }
      ]
    },
    {
      "cell_type": "code",
      "source": [
        "DeltaQ_vectorized = DeltaQ.reshape(len(DeltaQ), 1)\n",
        "DeltaQ_F2 = DeltaQ_vectorized.dot(DeltaQ_vectorized)\n",
        "peq(\"||\\Delta{Q}||_F^2\", DeltaQ_F2.expand().collect(Ks[0]))\n",
        "P = sp.Matrix([DeltaQ_F2]).jacobian(Ks).T.jacobian(Ks) / 2\n",
        "peq(\"P\", P)\n",
        "L, D = ((P + P.T)/2).LDLdecomposition(hermitian=False)\n",
        "peq(\"LDL\", (L, D))\n",
        "\n",
        "\n",
        "\n",
        "\n",
        "print(\"The linear part is zero:\")\n",
        "peq(\"F\", sp.Matrix([DeltaQ_F2]).jacobian(Ks).subs(list(zip(Ks, [0] * (N - 1)))))\n",
        "\n",
        "\n",
        "# \"different Ks can be generated\"\n",
        "\n",
        "## Let's compute the inverse\n",
        "peq(\"Q_{initial}\", Q_no_springs)\n",
        "Q_no_springs_inv = sp.diag(*[Q_no_springs[2 * i: 2 * i + 2, 2 * i: 2 * i + 2].inv() for i in range(N)])\n",
        "peq(\"Q_{initial|inverse}\", Q_no_springs_inv)\n",
        "\n",
        "Q_no_springs_inv_vec = Q_no_springs_inv.reshape(len(DeltaQ), 1)\n",
        "\n",
        "\n",
        "rhs = 1 / Q_no_springs_inv_vec.dot(Q_no_springs_inv_vec)\n",
        "\n",
        "\n",
        "# transform from unit ball that yields valid Ks\n",
        "transform = L.T.inv() @ D.inv(method=\"LU\").pow(sp.Rational(1, 2)) * sp.sqrt(rhs)\n",
        "\n",
        "\n",
        "# For same K\n",
        "K = sp.symbols('K')\n",
        "\n",
        "peq(\"||\\Delta{Q}||_F^2\", DeltaQ_F2.subs(list(zip(Ks, [K] * (N - 1)))).expand().collect(K))\n",
        "\n",
        "ub_single = sp.sqrt(rhs / (DeltaQ_F2.subs(list(zip(Ks, [K] * (N - 1)))).diff(K).diff(K) / 2))\n",
        "\n",
        "display(K < ub_single)\n"
      ],
      "metadata": {
        "colab": {
          "base_uri": "https://localhost:8080/",
          "height": 1000
        },
        "id": "NLPDNebe0qg8",
        "outputId": "5d89f759-7a36-4ea9-b3ba-c24e219a3e75"
      },
      "execution_count": null,
      "outputs": [
        {
          "output_type": "display_data",
          "data": {
            "text/plain": [
              "Eq(||\\Delta{Q}||_F^2, K0**2*(6*b0**2 + 4*b0*b1 + 6*b1**2 + 4*d0**2 + 4*d1**2) + K0*(8*K1*b1**2 + 4*K1*d1**2) + 6*K1**2*b1**2 + 4*K1**2*b1*b2 + 6*K1**2*b2**2 + 4*K1**2*d1**2 + 4*K1**2*d2**2 + 8*K1*K2*b2**2 + 4*K1*K2*d2**2 + 6*K2**2*b2**2 + 4*K2**2*b2*b3 + 6*K2**2*b3**2 + 4*K2**2*d2**2 + 4*K2**2*d3**2 + 8*K2*K3*b3**2 + 4*K2*K3*d3**2 + 6*K3**2*b3**2 + 4*K3**2*b3*b4 + 6*K3**2*b4**2 + 4*K3**2*d3**2 + 4*K3**2*d4**2)"
            ],
            "text/latex": "$\\displaystyle ||\\Delta{Q}||_F^2 = K_{0}^{2} \\left(6 b_{0}^{2} + 4 b_{0} b_{1} + 6 b_{1}^{2} + 4 d_{0}^{2} + 4 d_{1}^{2}\\right) + K_{0} \\left(8 K_{1} b_{1}^{2} + 4 K_{1} d_{1}^{2}\\right) + 6 K_{1}^{2} b_{1}^{2} + 4 K_{1}^{2} b_{1} b_{2} + 6 K_{1}^{2} b_{2}^{2} + 4 K_{1}^{2} d_{1}^{2} + 4 K_{1}^{2} d_{2}^{2} + 8 K_{1} K_{2} b_{2}^{2} + 4 K_{1} K_{2} d_{2}^{2} + 6 K_{2}^{2} b_{2}^{2} + 4 K_{2}^{2} b_{2} b_{3} + 6 K_{2}^{2} b_{3}^{2} + 4 K_{2}^{2} d_{2}^{2} + 4 K_{2}^{2} d_{3}^{2} + 8 K_{2} K_{3} b_{3}^{2} + 4 K_{2} K_{3} d_{3}^{2} + 6 K_{3}^{2} b_{3}^{2} + 4 K_{3}^{2} b_{3} b_{4} + 6 K_{3}^{2} b_{4}^{2} + 4 K_{3}^{2} d_{3}^{2} + 4 K_{3}^{2} d_{4}^{2}$"
          },
          "metadata": {}
        },
        {
          "output_type": "display_data",
          "data": {
            "text/plain": [
              "Eq(P, Matrix([\n",
              "[4*b0**2 + 4*b1**2 + 4*d0**2 + 4*d1**2 + (-2*b0 - 2*b1)*(-b0 - b1),                                                 4*b1**2 + 2*d1**2,                                                                 0,                                                                 0],\n",
              "[                                                4*b1**2 + 2*d1**2, 4*b1**2 + 4*b2**2 + 4*d1**2 + 4*d2**2 + (-2*b1 - 2*b2)*(-b1 - b2),                                                 4*b2**2 + 2*d2**2,                                                                 0],\n",
              "[                                                                0,                                                 4*b2**2 + 2*d2**2, 4*b2**2 + 4*b3**2 + 4*d2**2 + 4*d3**2 + (-2*b2 - 2*b3)*(-b2 - b3),                                                 4*b3**2 + 2*d3**2],\n",
              "[                                                                0,                                                                 0,                                                 4*b3**2 + 2*d3**2, 4*b3**2 + 4*b4**2 + 4*d3**2 + 4*d4**2 + (-2*b3 - 2*b4)*(-b3 - b4)]]))"
            ],
            "text/latex": "$\\displaystyle P = \\left[\\begin{matrix}4 b_{0}^{2} + 4 b_{1}^{2} + 4 d_{0}^{2} + 4 d_{1}^{2} + \\left(- 2 b_{0} - 2 b_{1}\\right) \\left(- b_{0} - b_{1}\\right) & 4 b_{1}^{2} + 2 d_{1}^{2} & 0 & 0\\\\4 b_{1}^{2} + 2 d_{1}^{2} & 4 b_{1}^{2} + 4 b_{2}^{2} + 4 d_{1}^{2} + 4 d_{2}^{2} + \\left(- 2 b_{1} - 2 b_{2}\\right) \\left(- b_{1} - b_{2}\\right) & 4 b_{2}^{2} + 2 d_{2}^{2} & 0\\\\0 & 4 b_{2}^{2} + 2 d_{2}^{2} & 4 b_{2}^{2} + 4 b_{3}^{2} + 4 d_{2}^{2} + 4 d_{3}^{2} + \\left(- 2 b_{2} - 2 b_{3}\\right) \\left(- b_{2} - b_{3}\\right) & 4 b_{3}^{2} + 2 d_{3}^{2}\\\\0 & 0 & 4 b_{3}^{2} + 2 d_{3}^{2} & 4 b_{3}^{2} + 4 b_{4}^{2} + 4 d_{3}^{2} + 4 d_{4}^{2} + \\left(- 2 b_{3} - 2 b_{4}\\right) \\left(- b_{3} - b_{4}\\right)\\end{matrix}\\right]$"
          },
          "metadata": {}
        },
        {
          "output_type": "display_data",
          "data": {
            "text/plain": [
              "Eq(LDL, (Matrix([\n",
              "[                                                                                      1,                                                                                                                                                                                    0,                                                                                                                                                                                                                                                                                 0, 0],\n",
              "[(4*b1**2 + 2*d1**2)/(4*b0**2 + 4*b1**2 + 4*d0**2 + 4*d1**2 + (-2*b0 - 2*b1)*(-b0 - b1)),                                                                                                                                                                                    1,                                                                                                                                                                                                                                                                                 0, 0],\n",
              "[                                                                                      0, (4*b2**2 + 2*d2**2)/(4*b1**2 + 4*b2**2 + 4*d1**2 + 4*d2**2 + (-2*b1 - 2*b2)*(-b1 - b2) - (4*b1**2 + 2*d1**2)**2/(4*b0**2 + 4*b1**2 + 4*d0**2 + 4*d1**2 + (-2*b0 - 2*b1)*(-b0 - b1))),                                                                                                                                                                                                                                                                                 1, 0],\n",
              "[                                                                                      0,                                                                                                                                                                                    0, (4*b3**2 + 2*d3**2)/(4*b2**2 + 4*b3**2 + 4*d2**2 + 4*d3**2 + (-2*b2 - 2*b3)*(-b2 - b3) - (4*b2**2 + 2*d2**2)**2/(4*b1**2 + 4*b2**2 + 4*d1**2 + 4*d2**2 + (-2*b1 - 2*b2)*(-b1 - b2) - (4*b1**2 + 2*d1**2)**2/(4*b0**2 + 4*b1**2 + 4*d0**2 + 4*d1**2 + (-2*b0 - 2*b1)*(-b0 - b1)))), 1]]), Matrix([\n",
              "[4*b0**2 + 4*b1**2 + 4*d0**2 + 4*d1**2 + (-2*b0 - 2*b1)*(-b0 - b1),                                                                                                                                                              0,                                                                                                                                                                                                                                                           0,                                                                                                                                                                                                                                                                                                                                                        0],\n",
              "[                                                                0, 4*b1**2 + 4*b2**2 + 4*d1**2 + 4*d2**2 + (-2*b1 - 2*b2)*(-b1 - b2) - (4*b1**2 + 2*d1**2)**2/(4*b0**2 + 4*b1**2 + 4*d0**2 + 4*d1**2 + (-2*b0 - 2*b1)*(-b0 - b1)),                                                                                                                                                                                                                                                           0,                                                                                                                                                                                                                                                                                                                                                        0],\n",
              "[                                                                0,                                                                                                                                                              0, 4*b2**2 + 4*b3**2 + 4*d2**2 + 4*d3**2 + (-2*b2 - 2*b3)*(-b2 - b3) - (4*b2**2 + 2*d2**2)**2/(4*b1**2 + 4*b2**2 + 4*d1**2 + 4*d2**2 + (-2*b1 - 2*b2)*(-b1 - b2) - (4*b1**2 + 2*d1**2)**2/(4*b0**2 + 4*b1**2 + 4*d0**2 + 4*d1**2 + (-2*b0 - 2*b1)*(-b0 - b1))),                                                                                                                                                                                                                                                                                                                                                        0],\n",
              "[                                                                0,                                                                                                                                                              0,                                                                                                                                                                                                                                                           0, 4*b3**2 + 4*b4**2 + 4*d3**2 + 4*d4**2 + (-2*b3 - 2*b4)*(-b3 - b4) - (4*b3**2 + 2*d3**2)**2/(4*b2**2 + 4*b3**2 + 4*d2**2 + 4*d3**2 + (-2*b2 - 2*b3)*(-b2 - b3) - (4*b2**2 + 2*d2**2)**2/(4*b1**2 + 4*b2**2 + 4*d1**2 + 4*d2**2 + (-2*b1 - 2*b2)*(-b1 - b2) - (4*b1**2 + 2*d1**2)**2/(4*b0**2 + 4*b1**2 + 4*d0**2 + 4*d1**2 + (-2*b0 - 2*b1)*(-b0 - b1))))]])))"
            ],
            "text/latex": "$\\displaystyle LDL = \\left( \\left[\\begin{matrix}1 & 0 & 0 & 0\\\\\\frac{4 b_{1}^{2} + 2 d_{1}^{2}}{4 b_{0}^{2} + 4 b_{1}^{2} + 4 d_{0}^{2} + 4 d_{1}^{2} + \\left(- 2 b_{0} - 2 b_{1}\\right) \\left(- b_{0} - b_{1}\\right)} & 1 & 0 & 0\\\\0 & \\frac{4 b_{2}^{2} + 2 d_{2}^{2}}{4 b_{1}^{2} + 4 b_{2}^{2} + 4 d_{1}^{2} + 4 d_{2}^{2} + \\left(- 2 b_{1} - 2 b_{2}\\right) \\left(- b_{1} - b_{2}\\right) - \\frac{\\left(4 b_{1}^{2} + 2 d_{1}^{2}\\right)^{2}}{4 b_{0}^{2} + 4 b_{1}^{2} + 4 d_{0}^{2} + 4 d_{1}^{2} + \\left(- 2 b_{0} - 2 b_{1}\\right) \\left(- b_{0} - b_{1}\\right)}} & 1 & 0\\\\0 & 0 & \\frac{4 b_{3}^{2} + 2 d_{3}^{2}}{4 b_{2}^{2} + 4 b_{3}^{2} + 4 d_{2}^{2} + 4 d_{3}^{2} + \\left(- 2 b_{2} - 2 b_{3}\\right) \\left(- b_{2} - b_{3}\\right) - \\frac{\\left(4 b_{2}^{2} + 2 d_{2}^{2}\\right)^{2}}{4 b_{1}^{2} + 4 b_{2}^{2} + 4 d_{1}^{2} + 4 d_{2}^{2} + \\left(- 2 b_{1} - 2 b_{2}\\right) \\left(- b_{1} - b_{2}\\right) - \\frac{\\left(4 b_{1}^{2} + 2 d_{1}^{2}\\right)^{2}}{4 b_{0}^{2} + 4 b_{1}^{2} + 4 d_{0}^{2} + 4 d_{1}^{2} + \\left(- 2 b_{0} - 2 b_{1}\\right) \\left(- b_{0} - b_{1}\\right)}}} & 1\\end{matrix}\\right], \\  \\left[\\begin{matrix}4 b_{0}^{2} + 4 b_{1}^{2} + 4 d_{0}^{2} + 4 d_{1}^{2} + \\left(- 2 b_{0} - 2 b_{1}\\right) \\left(- b_{0} - b_{1}\\right) & 0 & 0 & 0\\\\0 & 4 b_{1}^{2} + 4 b_{2}^{2} + 4 d_{1}^{2} + 4 d_{2}^{2} + \\left(- 2 b_{1} - 2 b_{2}\\right) \\left(- b_{1} - b_{2}\\right) - \\frac{\\left(4 b_{1}^{2} + 2 d_{1}^{2}\\right)^{2}}{4 b_{0}^{2} + 4 b_{1}^{2} + 4 d_{0}^{2} + 4 d_{1}^{2} + \\left(- 2 b_{0} - 2 b_{1}\\right) \\left(- b_{0} - b_{1}\\right)} & 0 & 0\\\\0 & 0 & 4 b_{2}^{2} + 4 b_{3}^{2} + 4 d_{2}^{2} + 4 d_{3}^{2} + \\left(- 2 b_{2} - 2 b_{3}\\right) \\left(- b_{2} - b_{3}\\right) - \\frac{\\left(4 b_{2}^{2} + 2 d_{2}^{2}\\right)^{2}}{4 b_{1}^{2} + 4 b_{2}^{2} + 4 d_{1}^{2} + 4 d_{2}^{2} + \\left(- 2 b_{1} - 2 b_{2}\\right) \\left(- b_{1} - b_{2}\\right) - \\frac{\\left(4 b_{1}^{2} + 2 d_{1}^{2}\\right)^{2}}{4 b_{0}^{2} + 4 b_{1}^{2} + 4 d_{0}^{2} + 4 d_{1}^{2} + \\left(- 2 b_{0} - 2 b_{1}\\right) \\left(- b_{0} - b_{1}\\right)}} & 0\\\\0 & 0 & 0 & 4 b_{3}^{2} + 4 b_{4}^{2} + 4 d_{3}^{2} + 4 d_{4}^{2} + \\left(- 2 b_{3} - 2 b_{4}\\right) \\left(- b_{3} - b_{4}\\right) - \\frac{\\left(4 b_{3}^{2} + 2 d_{3}^{2}\\right)^{2}}{4 b_{2}^{2} + 4 b_{3}^{2} + 4 d_{2}^{2} + 4 d_{3}^{2} + \\left(- 2 b_{2} - 2 b_{3}\\right) \\left(- b_{2} - b_{3}\\right) - \\frac{\\left(4 b_{2}^{2} + 2 d_{2}^{2}\\right)^{2}}{4 b_{1}^{2} + 4 b_{2}^{2} + 4 d_{1}^{2} + 4 d_{2}^{2} + \\left(- 2 b_{1} - 2 b_{2}\\right) \\left(- b_{1} - b_{2}\\right) - \\frac{\\left(4 b_{1}^{2} + 2 d_{1}^{2}\\right)^{2}}{4 b_{0}^{2} + 4 b_{1}^{2} + 4 d_{0}^{2} + 4 d_{1}^{2} + \\left(- 2 b_{0} - 2 b_{1}\\right) \\left(- b_{0} - b_{1}\\right)}}}\\end{matrix}\\right]\\right)$"
          },
          "metadata": {}
        },
        {
          "output_type": "stream",
          "name": "stdout",
          "text": [
            "The linear part is zero:\n"
          ]
        },
        {
          "output_type": "display_data",
          "data": {
            "text/plain": [
              "Eq(F, Matrix([[0, 0, 0, 0]]))"
            ],
            "text/latex": "$\\displaystyle F = \\left[\\begin{matrix}0 & 0 & 0 & 0\\end{matrix}\\right]$"
          },
          "metadata": {}
        },
        {
          "output_type": "display_data",
          "data": {
            "text/plain": [
              "Eq(Q_{initial}, Matrix([\n",
              "[           2*M0*b0, M0*d0 + R0*b0 - a0,                  0,                  0,                  0,                  0,                  0,                  0,                  0,                  0],\n",
              "[M0*d0 + R0*b0 - a0,     2*R0*d0 - 2*b0,                  0,                  0,                  0,                  0,                  0,                  0,                  0,                  0],\n",
              "[                 0,                  0,            2*M1*b1, M1*d1 + R1*b1 - a1,                  0,                  0,                  0,                  0,                  0,                  0],\n",
              "[                 0,                  0, M1*d1 + R1*b1 - a1,     2*R1*d1 - 2*b1,                  0,                  0,                  0,                  0,                  0,                  0],\n",
              "[                 0,                  0,                  0,                  0,            2*M2*b2, M2*d2 + R2*b2 - a2,                  0,                  0,                  0,                  0],\n",
              "[                 0,                  0,                  0,                  0, M2*d2 + R2*b2 - a2,     2*R2*d2 - 2*b2,                  0,                  0,                  0,                  0],\n",
              "[                 0,                  0,                  0,                  0,                  0,                  0,            2*M3*b3, M3*d3 + R3*b3 - a3,                  0,                  0],\n",
              "[                 0,                  0,                  0,                  0,                  0,                  0, M3*d3 + R3*b3 - a3,     2*R3*d3 - 2*b3,                  0,                  0],\n",
              "[                 0,                  0,                  0,                  0,                  0,                  0,                  0,                  0,            2*M4*b4, M4*d4 + R4*b4 - a4],\n",
              "[                 0,                  0,                  0,                  0,                  0,                  0,                  0,                  0, M4*d4 + R4*b4 - a4,     2*R4*d4 - 2*b4]]))"
            ],
            "text/latex": "$\\displaystyle Q_{initial} = \\left[\\begin{matrix}2 M_{0} b_{0} & M_{0} d_{0} + R_{0} b_{0} - a_{0} & 0 & 0 & 0 & 0 & 0 & 0 & 0 & 0\\\\M_{0} d_{0} + R_{0} b_{0} - a_{0} & 2 R_{0} d_{0} - 2 b_{0} & 0 & 0 & 0 & 0 & 0 & 0 & 0 & 0\\\\0 & 0 & 2 M_{1} b_{1} & M_{1} d_{1} + R_{1} b_{1} - a_{1} & 0 & 0 & 0 & 0 & 0 & 0\\\\0 & 0 & M_{1} d_{1} + R_{1} b_{1} - a_{1} & 2 R_{1} d_{1} - 2 b_{1} & 0 & 0 & 0 & 0 & 0 & 0\\\\0 & 0 & 0 & 0 & 2 M_{2} b_{2} & M_{2} d_{2} + R_{2} b_{2} - a_{2} & 0 & 0 & 0 & 0\\\\0 & 0 & 0 & 0 & M_{2} d_{2} + R_{2} b_{2} - a_{2} & 2 R_{2} d_{2} - 2 b_{2} & 0 & 0 & 0 & 0\\\\0 & 0 & 0 & 0 & 0 & 0 & 2 M_{3} b_{3} & M_{3} d_{3} + R_{3} b_{3} - a_{3} & 0 & 0\\\\0 & 0 & 0 & 0 & 0 & 0 & M_{3} d_{3} + R_{3} b_{3} - a_{3} & 2 R_{3} d_{3} - 2 b_{3} & 0 & 0\\\\0 & 0 & 0 & 0 & 0 & 0 & 0 & 0 & 2 M_{4} b_{4} & M_{4} d_{4} + R_{4} b_{4} - a_{4}\\\\0 & 0 & 0 & 0 & 0 & 0 & 0 & 0 & M_{4} d_{4} + R_{4} b_{4} - a_{4} & 2 R_{4} d_{4} - 2 b_{4}\\end{matrix}\\right]$"
          },
          "metadata": {}
        },
        {
          "output_type": "display_data",
          "data": {
            "text/plain": [
              "Eq(Q_{initial|inverse}, Matrix([\n",
              "[   (-2*R0*d0 + 2*b0)/(M0**2*d0**2 - 2*M0*R0*b0*d0 - 2*M0*a0*d0 + 4*M0*b0**2 + R0**2*b0**2 - 2*R0*a0*b0 + a0**2), (M0*d0 + R0*b0 - a0)/(M0**2*d0**2 - 2*M0*R0*b0*d0 - 2*M0*a0*d0 + 4*M0*b0**2 + R0**2*b0**2 - 2*R0*a0*b0 + a0**2),                                                                                                               0,                                                                                                               0,                                                                                                               0,                                                                                                               0,                                                                                                               0,                                                                                                               0,                                                                                                               0,                                                                                                               0],\n",
              "[(M0*d0 + R0*b0 - a0)/(M0**2*d0**2 - 2*M0*R0*b0*d0 - 2*M0*a0*d0 + 4*M0*b0**2 + R0**2*b0**2 - 2*R0*a0*b0 + a0**2),             -2*M0*b0/(M0**2*d0**2 - 2*M0*R0*b0*d0 - 2*M0*a0*d0 + 4*M0*b0**2 + R0**2*b0**2 - 2*R0*a0*b0 + a0**2),                                                                                                               0,                                                                                                               0,                                                                                                               0,                                                                                                               0,                                                                                                               0,                                                                                                               0,                                                                                                               0,                                                                                                               0],\n",
              "[                                                                                                              0,                                                                                                               0,    (-2*R1*d1 + 2*b1)/(M1**2*d1**2 - 2*M1*R1*b1*d1 - 2*M1*a1*d1 + 4*M1*b1**2 + R1**2*b1**2 - 2*R1*a1*b1 + a1**2), (M1*d1 + R1*b1 - a1)/(M1**2*d1**2 - 2*M1*R1*b1*d1 - 2*M1*a1*d1 + 4*M1*b1**2 + R1**2*b1**2 - 2*R1*a1*b1 + a1**2),                                                                                                               0,                                                                                                               0,                                                                                                               0,                                                                                                               0,                                                                                                               0,                                                                                                               0],\n",
              "[                                                                                                              0,                                                                                                               0, (M1*d1 + R1*b1 - a1)/(M1**2*d1**2 - 2*M1*R1*b1*d1 - 2*M1*a1*d1 + 4*M1*b1**2 + R1**2*b1**2 - 2*R1*a1*b1 + a1**2),             -2*M1*b1/(M1**2*d1**2 - 2*M1*R1*b1*d1 - 2*M1*a1*d1 + 4*M1*b1**2 + R1**2*b1**2 - 2*R1*a1*b1 + a1**2),                                                                                                               0,                                                                                                               0,                                                                                                               0,                                                                                                               0,                                                                                                               0,                                                                                                               0],\n",
              "[                                                                                                              0,                                                                                                               0,                                                                                                               0,                                                                                                               0,    (-2*R2*d2 + 2*b2)/(M2**2*d2**2 - 2*M2*R2*b2*d2 - 2*M2*a2*d2 + 4*M2*b2**2 + R2**2*b2**2 - 2*R2*a2*b2 + a2**2), (M2*d2 + R2*b2 - a2)/(M2**2*d2**2 - 2*M2*R2*b2*d2 - 2*M2*a2*d2 + 4*M2*b2**2 + R2**2*b2**2 - 2*R2*a2*b2 + a2**2),                                                                                                               0,                                                                                                               0,                                                                                                               0,                                                                                                               0],\n",
              "[                                                                                                              0,                                                                                                               0,                                                                                                               0,                                                                                                               0, (M2*d2 + R2*b2 - a2)/(M2**2*d2**2 - 2*M2*R2*b2*d2 - 2*M2*a2*d2 + 4*M2*b2**2 + R2**2*b2**2 - 2*R2*a2*b2 + a2**2),             -2*M2*b2/(M2**2*d2**2 - 2*M2*R2*b2*d2 - 2*M2*a2*d2 + 4*M2*b2**2 + R2**2*b2**2 - 2*R2*a2*b2 + a2**2),                                                                                                               0,                                                                                                               0,                                                                                                               0,                                                                                                               0],\n",
              "[                                                                                                              0,                                                                                                               0,                                                                                                               0,                                                                                                               0,                                                                                                               0,                                                                                                               0,    (-2*R3*d3 + 2*b3)/(M3**2*d3**2 - 2*M3*R3*b3*d3 - 2*M3*a3*d3 + 4*M3*b3**2 + R3**2*b3**2 - 2*R3*a3*b3 + a3**2), (M3*d3 + R3*b3 - a3)/(M3**2*d3**2 - 2*M3*R3*b3*d3 - 2*M3*a3*d3 + 4*M3*b3**2 + R3**2*b3**2 - 2*R3*a3*b3 + a3**2),                                                                                                               0,                                                                                                               0],\n",
              "[                                                                                                              0,                                                                                                               0,                                                                                                               0,                                                                                                               0,                                                                                                               0,                                                                                                               0, (M3*d3 + R3*b3 - a3)/(M3**2*d3**2 - 2*M3*R3*b3*d3 - 2*M3*a3*d3 + 4*M3*b3**2 + R3**2*b3**2 - 2*R3*a3*b3 + a3**2),             -2*M3*b3/(M3**2*d3**2 - 2*M3*R3*b3*d3 - 2*M3*a3*d3 + 4*M3*b3**2 + R3**2*b3**2 - 2*R3*a3*b3 + a3**2),                                                                                                               0,                                                                                                               0],\n",
              "[                                                                                                              0,                                                                                                               0,                                                                                                               0,                                                                                                               0,                                                                                                               0,                                                                                                               0,                                                                                                               0,                                                                                                               0,    (-2*R4*d4 + 2*b4)/(M4**2*d4**2 - 2*M4*R4*b4*d4 - 2*M4*a4*d4 + 4*M4*b4**2 + R4**2*b4**2 - 2*R4*a4*b4 + a4**2), (M4*d4 + R4*b4 - a4)/(M4**2*d4**2 - 2*M4*R4*b4*d4 - 2*M4*a4*d4 + 4*M4*b4**2 + R4**2*b4**2 - 2*R4*a4*b4 + a4**2)],\n",
              "[                                                                                                              0,                                                                                                               0,                                                                                                               0,                                                                                                               0,                                                                                                               0,                                                                                                               0,                                                                                                               0,                                                                                                               0, (M4*d4 + R4*b4 - a4)/(M4**2*d4**2 - 2*M4*R4*b4*d4 - 2*M4*a4*d4 + 4*M4*b4**2 + R4**2*b4**2 - 2*R4*a4*b4 + a4**2),             -2*M4*b4/(M4**2*d4**2 - 2*M4*R4*b4*d4 - 2*M4*a4*d4 + 4*M4*b4**2 + R4**2*b4**2 - 2*R4*a4*b4 + a4**2)]]))"
            ],
            "text/latex": "$\\displaystyle Q_{initial|inverse} = \\left[\\begin{matrix}\\frac{- 2 R_{0} d_{0} + 2 b_{0}}{M_{0}^{2} d_{0}^{2} - 2 M_{0} R_{0} b_{0} d_{0} - 2 M_{0} a_{0} d_{0} + 4 M_{0} b_{0}^{2} + R_{0}^{2} b_{0}^{2} - 2 R_{0} a_{0} b_{0} + a_{0}^{2}} & \\frac{M_{0} d_{0} + R_{0} b_{0} - a_{0}}{M_{0}^{2} d_{0}^{2} - 2 M_{0} R_{0} b_{0} d_{0} - 2 M_{0} a_{0} d_{0} + 4 M_{0} b_{0}^{2} + R_{0}^{2} b_{0}^{2} - 2 R_{0} a_{0} b_{0} + a_{0}^{2}} & 0 & 0 & 0 & 0 & 0 & 0 & 0 & 0\\\\\\frac{M_{0} d_{0} + R_{0} b_{0} - a_{0}}{M_{0}^{2} d_{0}^{2} - 2 M_{0} R_{0} b_{0} d_{0} - 2 M_{0} a_{0} d_{0} + 4 M_{0} b_{0}^{2} + R_{0}^{2} b_{0}^{2} - 2 R_{0} a_{0} b_{0} + a_{0}^{2}} & - \\frac{2 M_{0} b_{0}}{M_{0}^{2} d_{0}^{2} - 2 M_{0} R_{0} b_{0} d_{0} - 2 M_{0} a_{0} d_{0} + 4 M_{0} b_{0}^{2} + R_{0}^{2} b_{0}^{2} - 2 R_{0} a_{0} b_{0} + a_{0}^{2}} & 0 & 0 & 0 & 0 & 0 & 0 & 0 & 0\\\\0 & 0 & \\frac{- 2 R_{1} d_{1} + 2 b_{1}}{M_{1}^{2} d_{1}^{2} - 2 M_{1} R_{1} b_{1} d_{1} - 2 M_{1} a_{1} d_{1} + 4 M_{1} b_{1}^{2} + R_{1}^{2} b_{1}^{2} - 2 R_{1} a_{1} b_{1} + a_{1}^{2}} & \\frac{M_{1} d_{1} + R_{1} b_{1} - a_{1}}{M_{1}^{2} d_{1}^{2} - 2 M_{1} R_{1} b_{1} d_{1} - 2 M_{1} a_{1} d_{1} + 4 M_{1} b_{1}^{2} + R_{1}^{2} b_{1}^{2} - 2 R_{1} a_{1} b_{1} + a_{1}^{2}} & 0 & 0 & 0 & 0 & 0 & 0\\\\0 & 0 & \\frac{M_{1} d_{1} + R_{1} b_{1} - a_{1}}{M_{1}^{2} d_{1}^{2} - 2 M_{1} R_{1} b_{1} d_{1} - 2 M_{1} a_{1} d_{1} + 4 M_{1} b_{1}^{2} + R_{1}^{2} b_{1}^{2} - 2 R_{1} a_{1} b_{1} + a_{1}^{2}} & - \\frac{2 M_{1} b_{1}}{M_{1}^{2} d_{1}^{2} - 2 M_{1} R_{1} b_{1} d_{1} - 2 M_{1} a_{1} d_{1} + 4 M_{1} b_{1}^{2} + R_{1}^{2} b_{1}^{2} - 2 R_{1} a_{1} b_{1} + a_{1}^{2}} & 0 & 0 & 0 & 0 & 0 & 0\\\\0 & 0 & 0 & 0 & \\frac{- 2 R_{2} d_{2} + 2 b_{2}}{M_{2}^{2} d_{2}^{2} - 2 M_{2} R_{2} b_{2} d_{2} - 2 M_{2} a_{2} d_{2} + 4 M_{2} b_{2}^{2} + R_{2}^{2} b_{2}^{2} - 2 R_{2} a_{2} b_{2} + a_{2}^{2}} & \\frac{M_{2} d_{2} + R_{2} b_{2} - a_{2}}{M_{2}^{2} d_{2}^{2} - 2 M_{2} R_{2} b_{2} d_{2} - 2 M_{2} a_{2} d_{2} + 4 M_{2} b_{2}^{2} + R_{2}^{2} b_{2}^{2} - 2 R_{2} a_{2} b_{2} + a_{2}^{2}} & 0 & 0 & 0 & 0\\\\0 & 0 & 0 & 0 & \\frac{M_{2} d_{2} + R_{2} b_{2} - a_{2}}{M_{2}^{2} d_{2}^{2} - 2 M_{2} R_{2} b_{2} d_{2} - 2 M_{2} a_{2} d_{2} + 4 M_{2} b_{2}^{2} + R_{2}^{2} b_{2}^{2} - 2 R_{2} a_{2} b_{2} + a_{2}^{2}} & - \\frac{2 M_{2} b_{2}}{M_{2}^{2} d_{2}^{2} - 2 M_{2} R_{2} b_{2} d_{2} - 2 M_{2} a_{2} d_{2} + 4 M_{2} b_{2}^{2} + R_{2}^{2} b_{2}^{2} - 2 R_{2} a_{2} b_{2} + a_{2}^{2}} & 0 & 0 & 0 & 0\\\\0 & 0 & 0 & 0 & 0 & 0 & \\frac{- 2 R_{3} d_{3} + 2 b_{3}}{M_{3}^{2} d_{3}^{2} - 2 M_{3} R_{3} b_{3} d_{3} - 2 M_{3} a_{3} d_{3} + 4 M_{3} b_{3}^{2} + R_{3}^{2} b_{3}^{2} - 2 R_{3} a_{3} b_{3} + a_{3}^{2}} & \\frac{M_{3} d_{3} + R_{3} b_{3} - a_{3}}{M_{3}^{2} d_{3}^{2} - 2 M_{3} R_{3} b_{3} d_{3} - 2 M_{3} a_{3} d_{3} + 4 M_{3} b_{3}^{2} + R_{3}^{2} b_{3}^{2} - 2 R_{3} a_{3} b_{3} + a_{3}^{2}} & 0 & 0\\\\0 & 0 & 0 & 0 & 0 & 0 & \\frac{M_{3} d_{3} + R_{3} b_{3} - a_{3}}{M_{3}^{2} d_{3}^{2} - 2 M_{3} R_{3} b_{3} d_{3} - 2 M_{3} a_{3} d_{3} + 4 M_{3} b_{3}^{2} + R_{3}^{2} b_{3}^{2} - 2 R_{3} a_{3} b_{3} + a_{3}^{2}} & - \\frac{2 M_{3} b_{3}}{M_{3}^{2} d_{3}^{2} - 2 M_{3} R_{3} b_{3} d_{3} - 2 M_{3} a_{3} d_{3} + 4 M_{3} b_{3}^{2} + R_{3}^{2} b_{3}^{2} - 2 R_{3} a_{3} b_{3} + a_{3}^{2}} & 0 & 0\\\\0 & 0 & 0 & 0 & 0 & 0 & 0 & 0 & \\frac{- 2 R_{4} d_{4} + 2 b_{4}}{M_{4}^{2} d_{4}^{2} - 2 M_{4} R_{4} b_{4} d_{4} - 2 M_{4} a_{4} d_{4} + 4 M_{4} b_{4}^{2} + R_{4}^{2} b_{4}^{2} - 2 R_{4} a_{4} b_{4} + a_{4}^{2}} & \\frac{M_{4} d_{4} + R_{4} b_{4} - a_{4}}{M_{4}^{2} d_{4}^{2} - 2 M_{4} R_{4} b_{4} d_{4} - 2 M_{4} a_{4} d_{4} + 4 M_{4} b_{4}^{2} + R_{4}^{2} b_{4}^{2} - 2 R_{4} a_{4} b_{4} + a_{4}^{2}}\\\\0 & 0 & 0 & 0 & 0 & 0 & 0 & 0 & \\frac{M_{4} d_{4} + R_{4} b_{4} - a_{4}}{M_{4}^{2} d_{4}^{2} - 2 M_{4} R_{4} b_{4} d_{4} - 2 M_{4} a_{4} d_{4} + 4 M_{4} b_{4}^{2} + R_{4}^{2} b_{4}^{2} - 2 R_{4} a_{4} b_{4} + a_{4}^{2}} & - \\frac{2 M_{4} b_{4}}{M_{4}^{2} d_{4}^{2} - 2 M_{4} R_{4} b_{4} d_{4} - 2 M_{4} a_{4} d_{4} + 4 M_{4} b_{4}^{2} + R_{4}^{2} b_{4}^{2} - 2 R_{4} a_{4} b_{4} + a_{4}^{2}}\\end{matrix}\\right]$"
          },
          "metadata": {}
        },
        {
          "output_type": "display_data",
          "data": {
            "text/plain": [
              "Eq(||\\Delta{Q}||_F^2, K**2*(6*b0**2 + 4*b0*b1 + 20*b1**2 + 4*b1*b2 + 20*b2**2 + 4*b2*b3 + 20*b3**2 + 4*b3*b4 + 6*b4**2 + 4*d0**2 + 12*d1**2 + 12*d2**2 + 12*d3**2 + 4*d4**2))"
            ],
            "text/latex": "$\\displaystyle ||\\Delta{Q}||_F^2 = K^{2} \\left(6 b_{0}^{2} + 4 b_{0} b_{1} + 20 b_{1}^{2} + 4 b_{1} b_{2} + 20 b_{2}^{2} + 4 b_{2} b_{3} + 20 b_{3}^{2} + 4 b_{3} b_{4} + 6 b_{4}^{2} + 4 d_{0}^{2} + 12 d_{1}^{2} + 12 d_{2}^{2} + 12 d_{3}^{2} + 4 d_{4}^{2}\\right)$"
          },
          "metadata": {}
        },
        {
          "output_type": "display_data",
          "data": {
            "text/plain": [
              "K < sqrt(1/((4*b0**2 + 16*b1**2 + 16*b2**2 + 16*b3**2 + 4*b4**2 + 4*d0**2 + 12*d1**2 + 12*d2**2 + 12*d3**2 + 4*d4**2 + (-2*b0 - 2*b1)*(-b0 - b1) + (-2*b1 - 2*b2)*(-b1 - b2) + (-2*b2 - 2*b3)*(-b2 - b3) + (-2*b3 - 2*b4)*(-b3 - b4))*(4*M0**2*b0**2/(M0**2*d0**2 - 2*M0*R0*b0*d0 - 2*M0*a0*d0 + 4*M0*b0**2 + R0**2*b0**2 - 2*R0*a0*b0 + a0**2)**2 + 4*M1**2*b1**2/(M1**2*d1**2 - 2*M1*R1*b1*d1 - 2*M1*a1*d1 + 4*M1*b1**2 + R1**2*b1**2 - 2*R1*a1*b1 + a1**2)**2 + 4*M2**2*b2**2/(M2**2*d2**2 - 2*M2*R2*b2*d2 - 2*M2*a2*d2 + 4*M2*b2**2 + R2**2*b2**2 - 2*R2*a2*b2 + a2**2)**2 + 4*M3**2*b3**2/(M3**2*d3**2 - 2*M3*R3*b3*d3 - 2*M3*a3*d3 + 4*M3*b3**2 + R3**2*b3**2 - 2*R3*a3*b3 + a3**2)**2 + 4*M4**2*b4**2/(M4**2*d4**2 - 2*M4*R4*b4*d4 - 2*M4*a4*d4 + 4*M4*b4**2 + R4**2*b4**2 - 2*R4*a4*b4 + a4**2)**2 + (-2*R0*d0 + 2*b0)**2/(M0**2*d0**2 - 2*M0*R0*b0*d0 - 2*M0*a0*d0 + 4*M0*b0**2 + R0**2*b0**2 - 2*R0*a0*b0 + a0**2)**2 + (-2*R1*d1 + 2*b1)**2/(M1**2*d1**2 - 2*M1*R1*b1*d1 - 2*M1*a1*d1 + 4*M1*b1**2 + R1**2*b1**2 - 2*R1*a1*b1 + a1**2)**2 + (-2*R2*d2 + 2*b2)**2/(M2**2*d2**2 - 2*M2*R2*b2*d2 - 2*M2*a2*d2 + 4*M2*b2**2 + R2**2*b2**2 - 2*R2*a2*b2 + a2**2)**2 + (-2*R3*d3 + 2*b3)**2/(M3**2*d3**2 - 2*M3*R3*b3*d3 - 2*M3*a3*d3 + 4*M3*b3**2 + R3**2*b3**2 - 2*R3*a3*b3 + a3**2)**2 + (-2*R4*d4 + 2*b4)**2/(M4**2*d4**2 - 2*M4*R4*b4*d4 - 2*M4*a4*d4 + 4*M4*b4**2 + R4**2*b4**2 - 2*R4*a4*b4 + a4**2)**2 + 2*(M0*d0 + R0*b0 - a0)**2/(M0**2*d0**2 - 2*M0*R0*b0*d0 - 2*M0*a0*d0 + 4*M0*b0**2 + R0**2*b0**2 - 2*R0*a0*b0 + a0**2)**2 + 2*(M1*d1 + R1*b1 - a1)**2/(M1**2*d1**2 - 2*M1*R1*b1*d1 - 2*M1*a1*d1 + 4*M1*b1**2 + R1**2*b1**2 - 2*R1*a1*b1 + a1**2)**2 + 2*(M2*d2 + R2*b2 - a2)**2/(M2**2*d2**2 - 2*M2*R2*b2*d2 - 2*M2*a2*d2 + 4*M2*b2**2 + R2**2*b2**2 - 2*R2*a2*b2 + a2**2)**2 + 2*(M3*d3 + R3*b3 - a3)**2/(M3**2*d3**2 - 2*M3*R3*b3*d3 - 2*M3*a3*d3 + 4*M3*b3**2 + R3**2*b3**2 - 2*R3*a3*b3 + a3**2)**2 + 2*(M4*d4 + R4*b4 - a4)**2/(M4**2*d4**2 - 2*M4*R4*b4*d4 - 2*M4*a4*d4 + 4*M4*b4**2 + R4**2*b4**2 - 2*R4*a4*b4 + a4**2)**2)))"
            ],
            "text/latex": "$\\displaystyle K < \\sqrt{\\frac{1}{\\left(4 b_{0}^{2} + 16 b_{1}^{2} + 16 b_{2}^{2} + 16 b_{3}^{2} + 4 b_{4}^{2} + 4 d_{0}^{2} + 12 d_{1}^{2} + 12 d_{2}^{2} + 12 d_{3}^{2} + 4 d_{4}^{2} + \\left(- 2 b_{0} - 2 b_{1}\\right) \\left(- b_{0} - b_{1}\\right) + \\left(- 2 b_{1} - 2 b_{2}\\right) \\left(- b_{1} - b_{2}\\right) + \\left(- 2 b_{2} - 2 b_{3}\\right) \\left(- b_{2} - b_{3}\\right) + \\left(- 2 b_{3} - 2 b_{4}\\right) \\left(- b_{3} - b_{4}\\right)\\right) \\left(\\frac{4 M_{0}^{2} b_{0}^{2}}{\\left(M_{0}^{2} d_{0}^{2} - 2 M_{0} R_{0} b_{0} d_{0} - 2 M_{0} a_{0} d_{0} + 4 M_{0} b_{0}^{2} + R_{0}^{2} b_{0}^{2} - 2 R_{0} a_{0} b_{0} + a_{0}^{2}\\right)^{2}} + \\frac{4 M_{1}^{2} b_{1}^{2}}{\\left(M_{1}^{2} d_{1}^{2} - 2 M_{1} R_{1} b_{1} d_{1} - 2 M_{1} a_{1} d_{1} + 4 M_{1} b_{1}^{2} + R_{1}^{2} b_{1}^{2} - 2 R_{1} a_{1} b_{1} + a_{1}^{2}\\right)^{2}} + \\frac{4 M_{2}^{2} b_{2}^{2}}{\\left(M_{2}^{2} d_{2}^{2} - 2 M_{2} R_{2} b_{2} d_{2} - 2 M_{2} a_{2} d_{2} + 4 M_{2} b_{2}^{2} + R_{2}^{2} b_{2}^{2} - 2 R_{2} a_{2} b_{2} + a_{2}^{2}\\right)^{2}} + \\frac{4 M_{3}^{2} b_{3}^{2}}{\\left(M_{3}^{2} d_{3}^{2} - 2 M_{3} R_{3} b_{3} d_{3} - 2 M_{3} a_{3} d_{3} + 4 M_{3} b_{3}^{2} + R_{3}^{2} b_{3}^{2} - 2 R_{3} a_{3} b_{3} + a_{3}^{2}\\right)^{2}} + \\frac{4 M_{4}^{2} b_{4}^{2}}{\\left(M_{4}^{2} d_{4}^{2} - 2 M_{4} R_{4} b_{4} d_{4} - 2 M_{4} a_{4} d_{4} + 4 M_{4} b_{4}^{2} + R_{4}^{2} b_{4}^{2} - 2 R_{4} a_{4} b_{4} + a_{4}^{2}\\right)^{2}} + \\frac{\\left(- 2 R_{0} d_{0} + 2 b_{0}\\right)^{2}}{\\left(M_{0}^{2} d_{0}^{2} - 2 M_{0} R_{0} b_{0} d_{0} - 2 M_{0} a_{0} d_{0} + 4 M_{0} b_{0}^{2} + R_{0}^{2} b_{0}^{2} - 2 R_{0} a_{0} b_{0} + a_{0}^{2}\\right)^{2}} + \\frac{\\left(- 2 R_{1} d_{1} + 2 b_{1}\\right)^{2}}{\\left(M_{1}^{2} d_{1}^{2} - 2 M_{1} R_{1} b_{1} d_{1} - 2 M_{1} a_{1} d_{1} + 4 M_{1} b_{1}^{2} + R_{1}^{2} b_{1}^{2} - 2 R_{1} a_{1} b_{1} + a_{1}^{2}\\right)^{2}} + \\frac{\\left(- 2 R_{2} d_{2} + 2 b_{2}\\right)^{2}}{\\left(M_{2}^{2} d_{2}^{2} - 2 M_{2} R_{2} b_{2} d_{2} - 2 M_{2} a_{2} d_{2} + 4 M_{2} b_{2}^{2} + R_{2}^{2} b_{2}^{2} - 2 R_{2} a_{2} b_{2} + a_{2}^{2}\\right)^{2}} + \\frac{\\left(- 2 R_{3} d_{3} + 2 b_{3}\\right)^{2}}{\\left(M_{3}^{2} d_{3}^{2} - 2 M_{3} R_{3} b_{3} d_{3} - 2 M_{3} a_{3} d_{3} + 4 M_{3} b_{3}^{2} + R_{3}^{2} b_{3}^{2} - 2 R_{3} a_{3} b_{3} + a_{3}^{2}\\right)^{2}} + \\frac{\\left(- 2 R_{4} d_{4} + 2 b_{4}\\right)^{2}}{\\left(M_{4}^{2} d_{4}^{2} - 2 M_{4} R_{4} b_{4} d_{4} - 2 M_{4} a_{4} d_{4} + 4 M_{4} b_{4}^{2} + R_{4}^{2} b_{4}^{2} - 2 R_{4} a_{4} b_{4} + a_{4}^{2}\\right)^{2}} + \\frac{2 \\left(M_{0} d_{0} + R_{0} b_{0} - a_{0}\\right)^{2}}{\\left(M_{0}^{2} d_{0}^{2} - 2 M_{0} R_{0} b_{0} d_{0} - 2 M_{0} a_{0} d_{0} + 4 M_{0} b_{0}^{2} + R_{0}^{2} b_{0}^{2} - 2 R_{0} a_{0} b_{0} + a_{0}^{2}\\right)^{2}} + \\frac{2 \\left(M_{1} d_{1} + R_{1} b_{1} - a_{1}\\right)^{2}}{\\left(M_{1}^{2} d_{1}^{2} - 2 M_{1} R_{1} b_{1} d_{1} - 2 M_{1} a_{1} d_{1} + 4 M_{1} b_{1}^{2} + R_{1}^{2} b_{1}^{2} - 2 R_{1} a_{1} b_{1} + a_{1}^{2}\\right)^{2}} + \\frac{2 \\left(M_{2} d_{2} + R_{2} b_{2} - a_{2}\\right)^{2}}{\\left(M_{2}^{2} d_{2}^{2} - 2 M_{2} R_{2} b_{2} d_{2} - 2 M_{2} a_{2} d_{2} + 4 M_{2} b_{2}^{2} + R_{2}^{2} b_{2}^{2} - 2 R_{2} a_{2} b_{2} + a_{2}^{2}\\right)^{2}} + \\frac{2 \\left(M_{3} d_{3} + R_{3} b_{3} - a_{3}\\right)^{2}}{\\left(M_{3}^{2} d_{3}^{2} - 2 M_{3} R_{3} b_{3} d_{3} - 2 M_{3} a_{3} d_{3} + 4 M_{3} b_{3}^{2} + R_{3}^{2} b_{3}^{2} - 2 R_{3} a_{3} b_{3} + a_{3}^{2}\\right)^{2}} + \\frac{2 \\left(M_{4} d_{4} + R_{4} b_{4} - a_{4}\\right)^{2}}{\\left(M_{4}^{2} d_{4}^{2} - 2 M_{4} R_{4} b_{4} d_{4} - 2 M_{4} a_{4} d_{4} + 4 M_{4} b_{4}^{2} + R_{4}^{2} b_{4}^{2} - 2 R_{4} a_{4} b_{4} + a_{4}^{2}\\right)^{2}}\\right)}}$"
          },
          "metadata": {}
        }
      ]
    },
    {
      "cell_type": "code",
      "source": [
        "transform_matrix = sp.lambdify(as_ + bs + ds + Ms + Rs, transform)"
      ],
      "metadata": {
        "id": "ZKzmvHEIkBxz"
      },
      "execution_count": null,
      "outputs": []
    },
    {
      "cell_type": "code",
      "source": [
        "def generate_abdMR(size, range_=10):\n",
        "    res = np.random.random(size=size * 5).reshape(size, 5) * range_\n",
        "    for i in range(size):\n",
        "        _, b, _, M, R = res[i]\n",
        "\n",
        "        res[i, 0] += M * b / R,\n",
        "        a = res[i, 0]\n",
        "\n",
        "        res[i, 2] *= length_d(a, b, M, R) / range_\n",
        "        res[i, 2] += bottom_d(a, b, M, R)\n",
        "    return res\n",
        "\n",
        "\n",
        "def sample_unit_ball(dim=N-1):\n",
        "    while True:\n",
        "        res = np.random.random(size=dim) * 2 - 1\n",
        "        if res @ res < 1:\n",
        "            return res\n",
        "\n",
        "\n",
        "\n",
        "def gen_params(size, range_=30):\n",
        "    samples = []\n",
        "    for i in range(size):\n",
        "        subs = {}\n",
        "        params = generate_abdMR(N, range_=range_)\n",
        "        for i, param in enumerate(params):\n",
        "            a, b, d, M, R = param\n",
        "            subs.update({as_[i].name: a, bs[i].name: b, ds[i].name: d, Ms[i].name: M, Rs[i].name: R})\n",
        "        transform_ = transform_matrix(**subs)\n",
        "        p = sample_unit_ball()\n",
        "        subs.update(dict(zip(Ks, (transform_ @ p).tolist())))\n",
        "        samples.append(subs)\n",
        "    return samples\n",
        "\n",
        "\n",
        "num_tests = 1\n",
        "params = gen_params(num_tests)\n",
        "\n",
        "count_both_pd = 0\n",
        "for param in tqdm(params):\n",
        "    print(param)\n",
        "    c_ = c_stripped.subs(param)\n",
        "    V_ = V.subs(param)\n",
        "    res =  is_pd(c_) and is_pd(V_)\n",
        "    count_both_pd += res\n",
        "    if not res:\n",
        "        print(is_pd(c_, return_counterex=True)[1],\n",
        "              is_pd(V_, return_counterex=True)[1])\n",
        "        print(V_, c_, sep=' | ')\n",
        "\n",
        "print(f\"\\nRandom tests passed: {count_both_pd}/{num_tests}\")\n",
        "\n",
        "\n",
        "\n",
        "\n"
      ],
      "metadata": {
        "id": "h8DPC-LNWjlz",
        "colab": {
          "base_uri": "https://localhost:8080/"
        },
        "outputId": "57914975-f1b4-42eb-9953-3a27499ae9aa"
      },
      "execution_count": null,
      "outputs": [
        {
          "output_type": "stream",
          "name": "stderr",
          "text": [
            "<ipython-input-21-7e01dd0d0ab2>:6: DeprecationWarning: Conversion of an array with ndim > 0 to a scalar is deprecated, and will error in future. Ensure you extract a single element from your array before performing this operation. (Deprecated NumPy 1.25.)\n",
            "  res[i, 0] += M * b / R,\n",
            "  0%|          | 0/1 [00:00<?, ?it/s]"
          ]
        },
        {
          "output_type": "stream",
          "name": "stdout",
          "text": [
            "{'a0': np.float64(27.896982518849462), 'b0': np.float64(7.070674025053045), 'd0': np.float64(7.358649725405502), 'M0': np.float64(15.100027001175018), 'R0': np.float64(24.12888332860114), 'a1': np.float64(17.642332383620246), 'b1': np.float64(29.707684928266247), 'd1': np.float64(72.45956314000165), 'M1': np.float64(11.000592086806435), 'R1': np.float64(26.292491897506125), 'a2': np.float64(10.978509935522624), 'b2': np.float64(13.169952640108031), 'd2': np.float64(121.02285810279565), 'M2': np.float64(1.8072726734359312), 'R2': np.float64(16.291078632037944), 'a3': np.float64(68.21601059163382), 'b3': np.float64(19.544392340467155), 'd3': np.float64(10.643097131241369), 'M3': np.float64(26.71139798575158), 'R3': np.float64(8.231122109011888), 'a4': np.float64(432.4776973337557), 'b4': np.float64(9.122388393100119), 'd4': np.float64(35.225569967758545), 'M4': np.float64(12.420902582842903), 'R4': np.float64(0.26842333483498404), K0: 6.488340927160487e-05, K1: -7.3107370920321445e-06, K2: -6.897791209540043e-05, K3: -7.948645234376255e-06}\n"
          ]
        },
        {
          "output_type": "stream",
          "name": "stderr",
          "text": [
            "100%|██████████| 1/1 [01:41<00:00, 101.74s/it]"
          ]
        },
        {
          "output_type": "stream",
          "name": "stdout",
          "text": [
            "\n",
            "Random tests passed: 1/1\n"
          ]
        },
        {
          "output_type": "stream",
          "name": "stderr",
          "text": [
            "\n"
          ]
        }
      ]
    }
  ]
}